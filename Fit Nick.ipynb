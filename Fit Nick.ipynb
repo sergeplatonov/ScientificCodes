{
 "cells": [
  {
   "cell_type": "code",
   "execution_count": 42,
   "metadata": {
    "collapsed": false
   },
   "outputs": [],
   "source": [
    "import scipy\n",
    "import numpy\n",
    "import matplotlib\n",
    "import numpy as np\n",
    "import os\n",
    "import matplotlib.cm as cm\n",
    "import matplotlib.mlab as mlab\n",
    "import matplotlib.pyplot as plt\n",
    "import matplotlib.patches as mpatches\n",
    "import matplotlib.lines as mlines\n",
    "get_ipython().magic(u'matplotlib inline')\n",
    "\n",
    "from __future__ import division"
   ]
  },
  {
   "cell_type": "code",
   "execution_count": 43,
   "metadata": {
    "collapsed": false
   },
   "outputs": [],
   "source": [
    "exp1 = np.fromfile(\"D://temper.dat\",dtype=float,count=-1, sep=\" \")\n",
    "exp1 = np.reshape(exp1, (-1,3))\n",
    "a = exp1.transpose()\n",
    "exp2 = np.fromfile(\"D://volt.dat\",dtype=float,count=-1, sep=\" \")\n",
    "exp2 = np.reshape(exp2, (-1,2))\n",
    "aa = exp2.transpose()"
   ]
  },
  {
   "cell_type": "code",
   "execution_count": 44,
   "metadata": {
    "collapsed": false
   },
   "outputs": [],
   "source": [
    "#aa.shape\n",
    "xx=np.linspace(0, 500, num=1000)"
   ]
  },
  {
   "cell_type": "code",
   "execution_count": 45,
   "metadata": {
    "collapsed": false
   },
   "outputs": [],
   "source": [
    "def csch(x):\n",
    "    return 2/(np.exp(x)-np.exp(-x))\n"
   ]
  },
  {
   "cell_type": "code",
   "execution_count": 46,
   "metadata": {
    "collapsed": false
   },
   "outputs": [
    {
     "data": {
      "text/plain": [
       "(7L,)"
      ]
     },
     "execution_count": 46,
     "metadata": {},
     "output_type": "execute_result"
    }
   ],
   "source": [
    "data.shape"
   ]
  },
  {
   "cell_type": "code",
   "execution_count": 47,
   "metadata": {
    "collapsed": false
   },
   "outputs": [],
   "source": [
    "finy=np.linspace(0, 0, num=10)\n",
    "finx=np.linspace(0, 0, num=10)\n",
    "for i in xrange(10):\n",
    "    finy[i]=aa[1,19-i]\n",
    "    finx[i]=aa[0,19-i]\n",
    "finy=(finy[0:10]+aa[1,0:10])/2"
   ]
  },
  {
   "cell_type": "code",
   "execution_count": 48,
   "metadata": {
    "collapsed": false
   },
   "outputs": [
    {
     "data": {
      "image/png": "[encoded data removed]",
      "text/plain": [
       "<matplotlib.figure.Figure at 0x1d7cd8d0>"
      ]
     },
     "metadata": {},
     "output_type": "display_data"
    }
   ],
   "source": [
    "plt.plot(finx,finy)\n",
    "xxx=np.linspace(0, 0.4, num=1000)\n",
    "xx=np.linspace(0, 800, num=1000)\n"
   ]
  },
  {
   "cell_type": "code",
   "execution_count": 49,
   "metadata": {
    "collapsed": false,
    "scrolled": true
   },
   "outputs": [
    {
     "name": "stdout",
     "output_type": "stream",
     "text": [
      "Parameters([('a', <Parameter 'a', value=17.68611841721971 +/- 0.812, bounds=[0:inf]>), ('bb', <Parameter 'bb', value=0.53102440254763994 +/- 0.0667, bounds=[0.1:1.1]>), ('c', <Parameter 'c', value=0.024099677271887332 +/- 0.00287, bounds=[0:inf]>)])\n"
     ]
    },
    {
     "name": "stderr",
     "output_type": "stream",
     "text": [
      "C:\\Users\\platonov\\Anaconda3\\envs\\py27\\lib\\site-packages\\ipykernel_launcher.py:74: RuntimeWarning: divide by zero encountered in true_divide\n",
      "C:\\Users\\platonov\\Anaconda3\\envs\\py27\\lib\\site-packages\\ipykernel_launcher.py:74: RuntimeWarning: invalid value encountered in multiply\n",
      "C:\\Users\\platonov\\Anaconda3\\envs\\py27\\lib\\site-packages\\ipykernel_launcher.py:2: RuntimeWarning: divide by zero encountered in true_divide\n",
      "  \n",
      "C:\\Users\\platonov\\Anaconda3\\envs\\py27\\lib\\site-packages\\ipykernel_launcher.py:78: RuntimeWarning: invalid value encountered in multiply\n"
     ]
    },
    {
     "data": {
      "image/png": "[encoded data removed]",
      "text/plain": [
       "<matplotlib.figure.Figure at 0x1d437400>"
      ]
     },
     "metadata": {},
     "output_type": "display_data"
    }
   ],
   "source": [
    "#### Ballistic\n",
    "#!/usr/bin/env python\n",
    "#<examples/doc_basic.py>\n",
    "x=a[0]\n",
    "data=a[1]\n",
    "c=0.1\n",
    "\n",
    "c1=np.linspace(0, 0, num=10)\n",
    "c2=np.linspace(0, 0, num=10)\n",
    "c3=np.linspace(0, 0, num=10)\n",
    "from lmfit import minimize, Minimizer, Parameters, Parameter, report_fit\n",
    "import numpy as np\n",
    "#b=0.05\n",
    "# create data to be fitted\n",
    "\n",
    "def fcn2min(params, x, data):\n",
    "    a = params['a']\n",
    "    b = params['b']\n",
    "    c = params['c']\n",
    "    res=a*(8.6E-5*x/(b))*csch(8.6E-5*np.pi*x/(c))*np.sin(b/(2*c))     \n",
    "    return res - data\n",
    "#bb=1\n",
    "vol=0.1\n",
    "tem=25\n",
    "x1=a[0]\n",
    "x2=finx\n",
    "y1=a[1]\n",
    "y2=finy\n",
    "#co2=bb\n",
    "def residual_two_functions(params, x1,x2, y1, y2):\n",
    "    a = params['a']\n",
    "    bb = params['bb']\n",
    "    c = params['c']\n",
    "    res=a*(8.6E-5*x1/(vol*bb))*csch(8.6E-5*np.pi*x1/(c))*np.sin(vol*bb/(2*c))     \n",
    "    res2=a*(8.6E-5*tem/(x2*bb))*csch(8.6E-5*np.pi*tem/(c))*np.sin(x2*bb/(2*c))\n",
    "    diff1 = y1 - res\n",
    "    diff2 = y2 - res2\n",
    "    return np.concatenate((diff1, diff2))\n",
    "    \n",
    "# create a set of Parameters\n",
    "params = Parameters()\n",
    "params.add('a',   value= 1,min=0)\n",
    "params.add('bb', value=0.5, min=0.1,max=1.1)\n",
    "params.add('c', value= 40E-3, min=0)       \n",
    "\n",
    "# do fit, here with leastsq model\n",
    "minner = Minimizer(residual_two_functions, params, fcn_args=(x1,x2,y1,y2))\n",
    "kws  = {'options': {'maxiter':100}}\n",
    "result = minner.minimize()\n",
    "result.params\n",
    "\n",
    "# calculate final result\n",
    "final = np.concatenate((y1,y2)) + result.residual\n",
    "#    new_matrix[i,:]=final\n",
    "# write error report\n",
    "  #  report_fit(result)\n",
    "    #expp2[i]=final\n",
    "# try to plot results\n",
    "\n",
    "#plt.plot(np.concatenate((8.6E-5*x1,x2)), final, 'r')\n",
    "#plt.xlim(-1.4,-1.2)\n",
    "params2=result.params\n",
    "print params2\n",
    "v = params2.valuesdict()\n",
    "vis2=v['a']\n",
    "co2=v['bb']\n",
    "ec2=v['c']\n",
    "plt.errorbar(finx*co2,finy ,  yerr=0.3,fmt='ro',capsize=3, elinewidth=1)\n",
    "\n",
    "#######\n",
    "#plt.semilogy(xx*8.6E-5,nu*(8.6E-5*xx/(b))*csch(8.6E-5*xx/(ec))*np.sin(b/(2*ec)),'k')\n",
    "#Points temperature\n",
    "plt.errorbar(a[0]*8.6E-5, a[1], xerr=0.2*8.6E-5, yerr=0.3,fmt='ko',capsize=3, elinewidth=1)\n",
    "plt.plot(xxx*co2,vis2*(8.6E-5*tem/(xxx*co2))*csch(8.6E-5*np.pi*tem/(ec2))*np.abs(np.sin(xxx*co2/(2*ec2))),'-k')\n",
    "#Fit temperature\n",
    "#b=np.linspace(0.01,10, num=100)\n",
    "#for i in xrange(100):\n",
    "plt.plot(xx*8.6E-5,vis2*(8.6E-5*xx/(vol*co2))*csch(8.6E-5*xx*np.pi/(ec2))*np.abs(np.sin(vol*co2/(2*ec2))),'k')\n",
    "plt.savefig('D:\\\\painintheass1.pdf', format='pdf')\n"
   ]
  },
  {
   "cell_type": "code",
   "execution_count": 50,
   "metadata": {
    "collapsed": false
   },
   "outputs": [
    {
     "name": "stdout",
     "output_type": "stream",
     "text": [
      "Parameters([('a', <Parameter 'a', value=0.17507477712768726 +/- 0.0101, bounds=[0:100]>), ('bb', <Parameter 'bb', value=0.10849044085444227 +/- 0.00778, bounds=[0.1:1]>), ('c', <Parameter 'c', value=40728.389757174191 +/- 4.47e+03, bounds=[0:10000000]>)])\n"
     ]
    },
    {
     "ename": "NameError",
     "evalue": "name 'dd' is not defined",
     "output_type": "error",
     "traceback": [
      "\u001b[1;31m---------------------------------------------------------------------------\u001b[0m",
      "\u001b[1;31mNameError\u001b[0m                                 Traceback (most recent call last)",
      "\u001b[1;32m<ipython-input-50-556aaf524054>\u001b[0m in \u001b[0;36m<module>\u001b[1;34m()\u001b[0m\n\u001b[0;32m     72\u001b[0m \u001b[0mplt\u001b[0m\u001b[1;33m.\u001b[0m\u001b[0mylim\u001b[0m\u001b[1;33m(\u001b[0m\u001b[1;36m0\u001b[0m\u001b[1;33m,\u001b[0m\u001b[1;36m4\u001b[0m\u001b[1;33m)\u001b[0m\u001b[1;33m\u001b[0m\u001b[0m\n\u001b[0;32m     73\u001b[0m \u001b[0mplt\u001b[0m\u001b[1;33m.\u001b[0m\u001b[0merrorbar\u001b[0m\u001b[1;33m(\u001b[0m\u001b[0mfinx\u001b[0m\u001b[1;33m*\u001b[0m\u001b[0mco2\u001b[0m\u001b[1;33m,\u001b[0m\u001b[0mfiny\u001b[0m \u001b[1;33m,\u001b[0m  \u001b[0myerr\u001b[0m\u001b[1;33m=\u001b[0m\u001b[1;36m0.3\u001b[0m\u001b[1;33m,\u001b[0m\u001b[0mfmt\u001b[0m\u001b[1;33m=\u001b[0m\u001b[1;34m'ro'\u001b[0m\u001b[1;33m,\u001b[0m\u001b[0mcapsize\u001b[0m\u001b[1;33m=\u001b[0m\u001b[1;36m3\u001b[0m\u001b[1;33m,\u001b[0m \u001b[0melinewidth\u001b[0m\u001b[1;33m=\u001b[0m\u001b[1;36m1\u001b[0m\u001b[1;33m)\u001b[0m\u001b[1;33m\u001b[0m\u001b[0m\n\u001b[1;32m---> 74\u001b[1;33m \u001b[0mplt\u001b[0m\u001b[1;33m.\u001b[0m\u001b[0mplot\u001b[0m\u001b[1;33m(\u001b[0m\u001b[0mxxx\u001b[0m\u001b[1;33m*\u001b[0m\u001b[0mco2\u001b[0m\u001b[1;33m,\u001b[0m\u001b[0mvis2\u001b[0m\u001b[1;33m*\u001b[0m\u001b[0mnp\u001b[0m\u001b[1;33m.\u001b[0m\u001b[0mpower\u001b[0m\u001b[1;33m(\u001b[0m\u001b[1;33m(\u001b[0m\u001b[0mxxx\u001b[0m\u001b[1;33m*\u001b[0m\u001b[0mbb\u001b[0m\u001b[1;33m)\u001b[0m\u001b[1;33m/\u001b[0m\u001b[1;36m8.6E-5\u001b[0m\u001b[1;33m*\u001b[0m\u001b[0mtem\u001b[0m\u001b[1;33m,\u001b[0m\u001b[1;36m1\u001b[0m\u001b[1;33m/\u001b[0m\u001b[1;36m2\u001b[0m\u001b[1;33m)\u001b[0m\u001b[1;33m*\u001b[0m\u001b[0mnp\u001b[0m\u001b[1;33m.\u001b[0m\u001b[0mexp\u001b[0m\u001b[1;33m(\u001b[0m\u001b[1;33m-\u001b[0m\u001b[0mnp\u001b[0m\u001b[1;33m.\u001b[0m\u001b[0mpower\u001b[0m\u001b[1;33m(\u001b[0m\u001b[0mcc\u001b[0m\u001b[1;33m*\u001b[0m\u001b[1;33m(\u001b[0m\u001b[1;36m8.6E-5\u001b[0m\u001b[1;33m*\u001b[0m\u001b[0mtem\u001b[0m\u001b[1;33m)\u001b[0m\u001b[1;33m**\u001b[0m\u001b[1;36m2\u001b[0m\u001b[1;33m/\u001b[0m\u001b[1;36m3\u001b[0m\u001b[1;33m+\u001b[0m\u001b[0mdd\u001b[0m\u001b[1;33m*\u001b[0m\u001b[1;33m(\u001b[0m\u001b[0mxxx\u001b[0m\u001b[1;33m*\u001b[0m\u001b[0mbb\u001b[0m\u001b[1;33m)\u001b[0m\u001b[1;33m**\u001b[0m\u001b[1;36m2\u001b[0m\u001b[1;33m/\u001b[0m\u001b[1;36m3\u001b[0m\u001b[1;33m,\u001b[0m\u001b[1;36m1\u001b[0m\u001b[1;33m/\u001b[0m\u001b[1;36m2\u001b[0m\u001b[1;33m)\u001b[0m\u001b[1;33m)\u001b[0m \u001b[1;33m,\u001b[0m\u001b[1;34m'-r'\u001b[0m\u001b[1;33m)\u001b[0m\u001b[1;33m\u001b[0m\u001b[0m\n\u001b[0m\u001b[0;32m     75\u001b[0m \u001b[0mplt\u001b[0m\u001b[1;33m.\u001b[0m\u001b[0merrorbar\u001b[0m\u001b[1;33m(\u001b[0m\u001b[0ma\u001b[0m\u001b[1;33m[\u001b[0m\u001b[1;36m0\u001b[0m\u001b[1;33m]\u001b[0m\u001b[1;33m*\u001b[0m\u001b[1;36m8.6E-5\u001b[0m\u001b[1;33m,\u001b[0m \u001b[0ma\u001b[0m\u001b[1;33m[\u001b[0m\u001b[1;36m1\u001b[0m\u001b[1;33m]\u001b[0m\u001b[1;33m,\u001b[0m \u001b[0mxerr\u001b[0m\u001b[1;33m=\u001b[0m\u001b[1;36m0.2\u001b[0m\u001b[1;33m*\u001b[0m\u001b[1;36m8.6E-5\u001b[0m\u001b[1;33m,\u001b[0m \u001b[0myerr\u001b[0m\u001b[1;33m=\u001b[0m\u001b[1;36m0.3\u001b[0m\u001b[1;33m,\u001b[0m\u001b[0mfmt\u001b[0m\u001b[1;33m=\u001b[0m\u001b[1;34m'ko'\u001b[0m\u001b[1;33m,\u001b[0m\u001b[0mcapsize\u001b[0m\u001b[1;33m=\u001b[0m\u001b[1;36m3\u001b[0m\u001b[1;33m,\u001b[0m \u001b[0melinewidth\u001b[0m\u001b[1;33m=\u001b[0m\u001b[1;36m1\u001b[0m\u001b[1;33m)\u001b[0m\u001b[1;33m\u001b[0m\u001b[0m\n\u001b[0;32m     76\u001b[0m \u001b[0mplt\u001b[0m\u001b[1;33m.\u001b[0m\u001b[0mplot\u001b[0m\u001b[1;33m(\u001b[0m\u001b[0mxx\u001b[0m\u001b[1;33m*\u001b[0m\u001b[1;36m8.6E-5\u001b[0m\u001b[1;33m,\u001b[0m\u001b[0mvis2\u001b[0m\u001b[1;33m*\u001b[0m\u001b[0mnp\u001b[0m\u001b[1;33m.\u001b[0m\u001b[0mpower\u001b[0m\u001b[1;33m(\u001b[0m\u001b[1;33m(\u001b[0m\u001b[0mvol\u001b[0m\u001b[1;33m*\u001b[0m\u001b[0mbb\u001b[0m\u001b[1;33m)\u001b[0m\u001b[1;33m/\u001b[0m\u001b[1;33m(\u001b[0m\u001b[1;36m8.6E-5\u001b[0m\u001b[1;33m*\u001b[0m\u001b[0mxx\u001b[0m\u001b[1;33m)\u001b[0m\u001b[1;33m,\u001b[0m\u001b[1;36m1\u001b[0m\u001b[1;33m/\u001b[0m\u001b[1;36m2\u001b[0m\u001b[1;33m)\u001b[0m\u001b[1;33m*\u001b[0m\u001b[0mnp\u001b[0m\u001b[1;33m.\u001b[0m\u001b[0mexp\u001b[0m\u001b[1;33m(\u001b[0m\u001b[1;33m-\u001b[0m\u001b[0mnp\u001b[0m\u001b[1;33m.\u001b[0m\u001b[0mpower\u001b[0m\u001b[1;33m(\u001b[0m\u001b[0mcc\u001b[0m\u001b[1;33m*\u001b[0m\u001b[1;33m(\u001b[0m\u001b[1;36m8.6E-5\u001b[0m\u001b[1;33m*\u001b[0m\u001b[0mxx\u001b[0m\u001b[1;33m)\u001b[0m\u001b[1;33m**\u001b[0m\u001b[1;36m2\u001b[0m\u001b[1;33m/\u001b[0m\u001b[1;36m3\u001b[0m\u001b[1;33m+\u001b[0m\u001b[0mdd\u001b[0m\u001b[1;33m*\u001b[0m\u001b[1;33m(\u001b[0m\u001b[0mvol\u001b[0m\u001b[1;33m*\u001b[0m\u001b[0mbb\u001b[0m\u001b[1;33m)\u001b[0m\u001b[1;33m**\u001b[0m\u001b[1;36m2\u001b[0m\u001b[1;33m/\u001b[0m\u001b[1;36m3\u001b[0m\u001b[1;33m,\u001b[0m\u001b[1;36m1\u001b[0m\u001b[1;33m/\u001b[0m\u001b[1;36m2\u001b[0m\u001b[1;33m)\u001b[0m\u001b[1;33m)\u001b[0m\u001b[1;33m,\u001b[0m\u001b[1;34m'-k'\u001b[0m\u001b[1;33m)\u001b[0m\u001b[1;33m\u001b[0m\u001b[0m\n",
      "\u001b[1;31mNameError\u001b[0m: name 'dd' is not defined"
     ]
    },
    {
     "data": {
      "image/png": "[encoded data removed]",
      "text/plain": [
       "<matplotlib.figure.Figure at 0x1d9b3e80>"
      ]
     },
     "metadata": {},
     "output_type": "display_data"
    }
   ],
   "source": [
    "#### Diffusive\n",
    "#!/usr/bin/env python\n",
    "#<examples/doc_basic.py>\n",
    "x=a[0]\n",
    "data=a[1]\n",
    "c=0.1\n",
    "\n",
    "c1=np.linspace(0, 0, num=10)\n",
    "c2=np.linspace(0, 0, num=10)\n",
    "c3=np.linspace(0, 0, num=10)\n",
    "from lmfit import minimize, Minimizer, Parameters, Parameter, report_fit\n",
    "import numpy as np\n",
    "#b=0.05\n",
    "# create data to be fitted\n",
    "\n",
    "def fcn2min(params, x, data):\n",
    "    a = params['a']\n",
    "    b = params['b']\n",
    "    c = params['c']\n",
    "    res=a**csch(8.6E-5*np.pi*x/(c))*np.sin(b/(2*c))     \n",
    "    return res - data\n",
    "bb=1\n",
    "vol=0.1\n",
    "tem=25\n",
    "x1=a[0]\n",
    "x2=finx\n",
    "y1=a[1]\n",
    "y2=finy\n",
    "co2=bb\n",
    "def residual_two_functions(params, x1,x2, y1, y2):\n",
    "    a = params['a']\n",
    "    bb = params['bb']\n",
    "    c = params['c']\n",
    "#    d = params['d']\n",
    "    res=a*np.power((vol*bb)/8.6E-5*x1,1/2)*np.exp(-np.power(c*(8.6E-5*x1+vol*bb)**2/3,1/2))     \n",
    "    res2=a*np.power((x2*bb)/8.6E-5*tem,1/2)*np.exp(-np.power(c*(8.6E-5*tem+x2*bb)**2/3,1/2))    \n",
    "    diff1 = y1 - res\n",
    "    diff2 = y2 - res2\n",
    "    return np.concatenate((diff1, diff2))\n",
    "    \n",
    "# create a set of Parameters\n",
    "params = Parameters()\n",
    "params.add('a',   value= 10,min=0,max=100)\n",
    "params.add('bb', value=0.5, min=0.1,max=1)\n",
    "params.add('c', value=1000, min=0,max=10000000)       \n",
    "#params.add('d', value=10000, min=8000,max=100000)     \n",
    "\n",
    "# do fit, here with leastsq model\n",
    "minner = Minimizer(residual_two_functions, params, fcn_args=(x1,x2,y1,y2))\n",
    "kws  = {'options': {'maxiter':100}}\n",
    "result = minner.minimize()\n",
    "result.params\n",
    "\n",
    "# calculate final result\n",
    "final = np.concatenate((y1,y2)) + result.residual\n",
    "#    new_matrix[i,:]=final\n",
    "# write error report\n",
    "  #  report_fit(result)\n",
    "    #expp2[i]=final\n",
    "# try to plot results\n",
    "\n",
    "#plt.plot(np.concatenate((8.6E-5*x1,x2)), final, 'r')\n",
    "#plt.xlim(-1.4,-1.2)\n",
    "params2=result.params\n",
    "print params2\n",
    "v = params2.valuesdict()\n",
    "vis2=v['a']\n",
    "co2=v['bb']\n",
    "cc=v['c']\n",
    "#dd=v['d']\n",
    "\n",
    "plt.ylim(0,4)\n",
    "plt.errorbar(finx*co2,finy ,  yerr=0.3,fmt='ro',capsize=3, elinewidth=1)\n",
    "plt.plot(xxx*co2,vis2*np.power((xxx*bb)/8.6E-5*tem,1/2)*np.exp(-np.power(cc*(8.6E-5*tem)**2/3+dd*(xxx*bb)**2/3,1/2)) ,'-r')\n",
    "plt.errorbar(a[0]*8.6E-5, a[1], xerr=0.2*8.6E-5, yerr=0.3,fmt='ko',capsize=3, elinewidth=1)\n",
    "plt.plot(xx*8.6E-5,vis2*np.power((vol*bb)/(8.6E-5*xx),1/2)*np.exp(-np.power(cc*(8.6E-5*xx)**2/3+dd*(vol*bb)**2/3,1/2)),'-k')\n",
    "\n",
    "plt.ylim(0,3)\n",
    "plt.savefig('D:\\\\painintheass1.pdf', format='pdf')\n"
   ]
  },
  {
   "cell_type": "code",
   "execution_count": 51,
   "metadata": {
    "collapsed": false
   },
   "outputs": [
    {
     "data": {
      "text/plain": [
       "0.17507477712768726"
      ]
     },
     "execution_count": 51,
     "metadata": {},
     "output_type": "execute_result"
    }
   ],
   "source": [
    "vis2"
   ]
  },
  {
   "cell_type": "code",
   "execution_count": 52,
   "metadata": {
    "collapsed": false
   },
   "outputs": [
    {
     "name": "stderr",
     "output_type": "stream",
     "text": [
      "C:\\Users\\platonov\\Anaconda3\\envs\\py27\\lib\\site-packages\\ipykernel_launcher.py:9: RuntimeWarning: divide by zero encountered in true_divide\n",
      "  if __name__ == '__main__':\n"
     ]
    },
    {
     "data": {
      "text/plain": [
       "[<matplotlib.lines.Line2D at 0x1cb00c88>]"
      ]
     },
     "execution_count": 52,
     "metadata": {},
     "output_type": "execute_result"
    },
    {
     "data": {
      "image/png": "[encoded data removed]",
      "text/plain": [
       "<matplotlib.figure.Figure at 0x1d4786d8>"
      ]
     },
     "metadata": {},
     "output_type": "display_data"
    }
   ],
   "source": [
    "co2=1\n",
    "vis2=3\n",
    "dd=5000\n",
    "cc=2100\n",
    "plt.ylim(0,4)\n",
    "plt.errorbar(finx*co2,finy ,  yerr=0.3,fmt='ro',capsize=3, elinewidth=1)\n",
    "plt.plot(xxx*co2,vis2*np.power((xxx*bb)/8.6E-5*tem,1/2)*np.exp(-np.power(cc*(8.6E-5*tem+xxx*bb)**2/3,1/2)) ,'-r')\n",
    "plt.errorbar(a[0]*8.6E-5, a[1], xerr=0.2*8.6E-5, yerr=0.3,fmt='ko',capsize=3, elinewidth=1)\n",
    "plt.plot(xx*8.6E-5,vis2*np.power((vol*bb)/(8.6E-5*xx),1/2)*np.exp(-np.power(cc*(8.6E-5*xx+vol*bb)**2/3,1/2)),'-k')"
   ]
  },
  {
   "cell_type": "code",
   "execution_count": 53,
   "metadata": {
    "collapsed": false
   },
   "outputs": [
    {
     "data": {
      "text/plain": [
       "3"
      ]
     },
     "execution_count": 53,
     "metadata": {},
     "output_type": "execute_result"
    }
   ],
   "source": [
    "vis2"
   ]
  },
  {
   "cell_type": "code",
   "execution_count": 54,
   "metadata": {
    "collapsed": false
   },
   "outputs": [
    {
     "name": "stdout",
     "output_type": "stream",
     "text": [
      "Parameters([('a', <Parameter 'a', value=16.184506607094882 +/- 1.09e+07, bounds=[0:inf]>), ('bb', <Parameter 'bb', value=0.11859306321242416 +/- 3.3e+06, bounds=[0.1:1.1]>), ('c', <Parameter 'c', value=0.022003785406671916 +/- 0.00111, bounds=[0:inf]>)])\n"
     ]
    },
    {
     "name": "stderr",
     "output_type": "stream",
     "text": [
      "C:\\Users\\platonov\\Anaconda3\\envs\\py27\\lib\\site-packages\\ipykernel_launcher.py:2: RuntimeWarning: divide by zero encountered in true_divide\n",
      "  \n",
      "C:\\Users\\platonov\\Anaconda3\\envs\\py27\\lib\\site-packages\\ipykernel_launcher.py:77: RuntimeWarning: invalid value encountered in multiply\n",
      "C:\\Users\\platonov\\Anaconda3\\envs\\py27\\lib\\site-packages\\ipykernel_launcher.py:79: RuntimeWarning: divide by zero encountered in power\n"
     ]
    },
    {
     "ename": "ValueError",
     "evalue": "operands could not be broadcast together with shapes (2,20) (1000,) ",
     "output_type": "error",
     "traceback": [
      "\u001b[1;31m---------------------------------------------------------------------------\u001b[0m",
      "\u001b[1;31mValueError\u001b[0m                                Traceback (most recent call last)",
      "\u001b[1;32m<ipython-input-54-797e758a0dfe>\u001b[0m in \u001b[0;36m<module>\u001b[1;34m()\u001b[0m\n\u001b[0;32m     77\u001b[0m \u001b[0mplt\u001b[0m\u001b[1;33m.\u001b[0m\u001b[0mplot\u001b[0m\u001b[1;33m(\u001b[0m\u001b[0mxx\u001b[0m\u001b[1;33m,\u001b[0m\u001b[0mvis\u001b[0m\u001b[1;33m*\u001b[0m\u001b[1;33m(\u001b[0m\u001b[1;36m8.6E-5\u001b[0m\u001b[1;33m*\u001b[0m\u001b[0mxx\u001b[0m\u001b[1;33m/\u001b[0m\u001b[1;33m(\u001b[0m\u001b[0mvol\u001b[0m\u001b[1;33m*\u001b[0m\u001b[0mco\u001b[0m\u001b[1;33m)\u001b[0m\u001b[1;33m)\u001b[0m\u001b[1;33m*\u001b[0m\u001b[0mcsch\u001b[0m\u001b[1;33m(\u001b[0m\u001b[1;36m8.6E-5\u001b[0m\u001b[1;33m*\u001b[0m\u001b[0mxx\u001b[0m\u001b[1;33m*\u001b[0m\u001b[0mnp\u001b[0m\u001b[1;33m.\u001b[0m\u001b[0mpi\u001b[0m\u001b[1;33m/\u001b[0m\u001b[1;33m(\u001b[0m\u001b[0mec\u001b[0m\u001b[1;33m)\u001b[0m\u001b[1;33m)\u001b[0m\u001b[1;33m*\u001b[0m\u001b[0mnp\u001b[0m\u001b[1;33m.\u001b[0m\u001b[0mabs\u001b[0m\u001b[1;33m(\u001b[0m\u001b[0mnp\u001b[0m\u001b[1;33m.\u001b[0m\u001b[0msin\u001b[0m\u001b[1;33m(\u001b[0m\u001b[0mvol\u001b[0m\u001b[1;33m*\u001b[0m\u001b[0mco\u001b[0m\u001b[1;33m/\u001b[0m\u001b[1;33m(\u001b[0m\u001b[1;36m2\u001b[0m\u001b[1;33m*\u001b[0m\u001b[0mec\u001b[0m\u001b[1;33m)\u001b[0m\u001b[1;33m)\u001b[0m\u001b[1;33m)\u001b[0m\u001b[1;33m,\u001b[0m\u001b[1;34m'k'\u001b[0m\u001b[1;33m)\u001b[0m\u001b[1;33m\u001b[0m\u001b[0m\n\u001b[0;32m     78\u001b[0m \u001b[1;33m\u001b[0m\u001b[0m\n\u001b[1;32m---> 79\u001b[1;33m \u001b[0mplt\u001b[0m\u001b[1;33m.\u001b[0m\u001b[0mplot\u001b[0m\u001b[1;33m(\u001b[0m\u001b[0mxx\u001b[0m\u001b[1;33m,\u001b[0m\u001b[0maa\u001b[0m\u001b[1;33m/\u001b[0m\u001b[1;36m5\u001b[0m\u001b[1;33m*\u001b[0m\u001b[0mnp\u001b[0m\u001b[1;33m.\u001b[0m\u001b[0mpower\u001b[0m\u001b[1;33m(\u001b[0m\u001b[1;36m8.6E-5\u001b[0m\u001b[1;33m*\u001b[0m\u001b[0mxx\u001b[0m\u001b[1;33m,\u001b[0m\u001b[1;33m-\u001b[0m\u001b[1;36m1\u001b[0m\u001b[1;33m/\u001b[0m\u001b[1;36m2\u001b[0m\u001b[1;33m)\u001b[0m\u001b[1;33m,\u001b[0m\u001b[1;34m'k--'\u001b[0m\u001b[1;33m)\u001b[0m\u001b[1;33m\u001b[0m\u001b[0m\n\u001b[0m\u001b[0;32m     80\u001b[0m \u001b[0mplt\u001b[0m\u001b[1;33m.\u001b[0m\u001b[0mylim\u001b[0m\u001b[1;33m(\u001b[0m\u001b[1;36m0\u001b[0m\u001b[1;33m,\u001b[0m\u001b[1;36m3\u001b[0m\u001b[1;33m)\u001b[0m\u001b[1;33m\u001b[0m\u001b[0m\n\u001b[0;32m     81\u001b[0m \u001b[1;33m\u001b[0m\u001b[0m\n",
      "\u001b[1;31mValueError\u001b[0m: operands could not be broadcast together with shapes (2,20) (1000,) "
     ]
    },
    {
     "data": {
      "image/png": "[encoded data removed]",
      "text/plain": [
       "<matplotlib.figure.Figure at 0x1d478828>"
      ]
     },
     "metadata": {},
     "output_type": "display_data"
    }
   ],
   "source": [
    "#!/usr/bin/env python\n",
    "#<examples/doc_basic.py>\n",
    "x=a[0]\n",
    "data=a[1]\n",
    "#c=0.1\n",
    "\n",
    "c1=np.linspace(0, 0, num=10)\n",
    "c2=np.linspace(0, 0, num=10)\n",
    "c3=np.linspace(0, 0, num=10)\n",
    "from lmfit import minimize, Minimizer, Parameters, Parameter, report_fit\n",
    "import numpy as np\n",
    "b=0.05\n",
    "# create data to be fitted\n",
    "\n",
    "def fcn2min(params, x, data):\n",
    "    a = params['a']\n",
    "    #b = params['b']\n",
    "    c = params['c']\n",
    "    res=a*(8.6E-5*x/(b))*csch(8.6E-5*np.pi*x/(c))*np.sin(b/(2*c))     \n",
    "    return res - data\n",
    "bb=1\n",
    "vol=0.1\n",
    "tem=25\n",
    "x1=a[0]\n",
    "x2=finx\n",
    "y1=a[1]\n",
    "y2=finy\n",
    "\n",
    "def residual_two_functions(params, x1,x2, y1, y2):\n",
    "    a = params['a']\n",
    "    bb = params['bb']\n",
    "    c = params['c']\n",
    "    res=a*(8.6E-5*x1/(vol*bb))*csch(8.6E-5*np.pi*x1/(c))*np.sin(vol*bb/(2*c))     \n",
    "    res2=y2\n",
    "    diff1 = y1 - res\n",
    "    diff2 = y2 - res2\n",
    "    return diff1\n",
    "    \n",
    "# create a set of Parameters\n",
    "params = Parameters()\n",
    "params.add('a',   value= 1,min=0)\n",
    "params.add('bb', value=1, min=0.1,max=1.1)\n",
    "params.add('c', value= 40E-3, min=0)       \n",
    "\n",
    "# do fit, here with leastsq model\n",
    "minner = Minimizer(residual_two_functions, params, fcn_args=(x1,x2,y1,y2))\n",
    "kws  = {'options': {'maxiter':100}}\n",
    "result = minner.minimize()\n",
    "result.params\n",
    "\n",
    "# calculate final result\n",
    "final = y1 + result.residual\n",
    "#    new_matrix[i,:]=final\n",
    "# write error report\n",
    "  #  report_fit(result)\n",
    "    #expp2[i]=final\n",
    "# try to plot results\n",
    "\n",
    "#plt.plot(np.concatenate((8.6E-5*x1,x2)), final, 'r')\n",
    "#plt.xlim(-1.4,-1.2)\n",
    "params2=result.params\n",
    "print params2\n",
    "v = params2.valuesdict()\n",
    "vis=v['a']\n",
    "co=v['bb']\n",
    "ec=v['c']\n",
    "#plt.errorbar(finx*co,finy ,  yerr=0.3,fmt='ro',capsize=3, elinewidth=1)\n",
    "\n",
    "#######\n",
    "#plt.semilogy(xx*8.6E-5,nu*(8.6E-5*xx/(b))*csch(8.6E-5*xx/(ec))*np.sin(b/(2*ec)),'k')\n",
    "#Points temperature\n",
    "plt.errorbar(a[0], a[1], xerr=0.2*8.6E-5, yerr=0.3,fmt='ko',capsize=3, elinewidth=1)\n",
    "#plt.plot(xxx*co,vis*(8.6E-5*tem/(xxx*co))*csch(8.6E-5*np.pi*tem/(ec))*np.abs(np.sin(xxx*co/(2*ec))),'-k')\n",
    "#Fit temperature\n",
    "#b=np.linspace(0.01,10, num=100)\n",
    "#for i in xrange(100):\n",
    "plt.plot(xx,vis*(8.6E-5*xx/(vol*co))*csch(8.6E-5*xx*np.pi/(ec))*np.abs(np.sin(vol*co/(2*ec))),'k')\n",
    "\n",
    "plt.plot(xx,aa/5*np.power(8.6E-5*xx,-1/2),'k--')\n",
    "plt.ylim(0,3)\n",
    "\n",
    "\n",
    "plt.ylim(0,3)\n",
    "plt.xlim(0,550)\n",
    "plt.ylabel(\"$\\\\nu$ ($\\\\%$)\", color='k',fontsize=12)\n",
    "plt.xlabel(\"$T$ (mK)\", color='k',fontsize=12)\n",
    "plt.tick_params(direction='in')\n",
    "plt.savefig('D:\\\\temp_final.pdf',bbox_inches='tight', format='pdf',dpi=900)\n",
    "#plt.savefig('D:\\\\stefan1.pdf', format='pdf')"
   ]
  },
  {
   "cell_type": "code",
   "execution_count": 55,
   "metadata": {
    "collapsed": false
   },
   "outputs": [
    {
     "name": "stderr",
     "output_type": "stream",
     "text": [
      "C:\\Users\\platonov\\Anaconda3\\envs\\py27\\lib\\site-packages\\ipykernel_launcher.py:2: RuntimeWarning: divide by zero encountered in true_divide\n",
      "  \n",
      "C:\\Users\\platonov\\Anaconda3\\envs\\py27\\lib\\site-packages\\ipykernel_launcher.py:3: RuntimeWarning: invalid value encountered in multiply\n",
      "  This is separate from the ipykernel package so we can avoid doing imports until\n",
      "C:\\Users\\platonov\\Anaconda3\\envs\\py27\\lib\\site-packages\\ipykernel_launcher.py:5: RuntimeWarning: divide by zero encountered in power\n",
      "  \"\"\"\n"
     ]
    },
    {
     "ename": "ValueError",
     "evalue": "operands could not be broadcast together with shapes (2,20) (1000,) ",
     "output_type": "error",
     "traceback": [
      "\u001b[1;31m---------------------------------------------------------------------------\u001b[0m",
      "\u001b[1;31mValueError\u001b[0m                                Traceback (most recent call last)",
      "\u001b[1;32m<ipython-input-55-443c41771992>\u001b[0m in \u001b[0;36m<module>\u001b[1;34m()\u001b[0m\n\u001b[0;32m      3\u001b[0m \u001b[0mplt\u001b[0m\u001b[1;33m.\u001b[0m\u001b[0mplot\u001b[0m\u001b[1;33m(\u001b[0m\u001b[0mxx\u001b[0m\u001b[1;33m,\u001b[0m\u001b[0mvis\u001b[0m\u001b[1;33m*\u001b[0m\u001b[1;33m(\u001b[0m\u001b[1;36m8.6E-5\u001b[0m\u001b[1;33m*\u001b[0m\u001b[0mxx\u001b[0m\u001b[1;33m/\u001b[0m\u001b[1;33m(\u001b[0m\u001b[0mvol\u001b[0m\u001b[1;33m*\u001b[0m\u001b[0mco\u001b[0m\u001b[1;33m)\u001b[0m\u001b[1;33m)\u001b[0m\u001b[1;33m*\u001b[0m\u001b[0mcsch\u001b[0m\u001b[1;33m(\u001b[0m\u001b[1;36m8.6E-5\u001b[0m\u001b[1;33m*\u001b[0m\u001b[0mxx\u001b[0m\u001b[1;33m*\u001b[0m\u001b[0mnp\u001b[0m\u001b[1;33m.\u001b[0m\u001b[0mpi\u001b[0m\u001b[1;33m/\u001b[0m\u001b[1;33m(\u001b[0m\u001b[0mec\u001b[0m\u001b[1;33m)\u001b[0m\u001b[1;33m)\u001b[0m\u001b[1;33m*\u001b[0m\u001b[0mnp\u001b[0m\u001b[1;33m.\u001b[0m\u001b[0mabs\u001b[0m\u001b[1;33m(\u001b[0m\u001b[0mnp\u001b[0m\u001b[1;33m.\u001b[0m\u001b[0msin\u001b[0m\u001b[1;33m(\u001b[0m\u001b[0mvol\u001b[0m\u001b[1;33m*\u001b[0m\u001b[0mco\u001b[0m\u001b[1;33m/\u001b[0m\u001b[1;33m(\u001b[0m\u001b[1;36m2\u001b[0m\u001b[1;33m*\u001b[0m\u001b[0mec\u001b[0m\u001b[1;33m)\u001b[0m\u001b[1;33m)\u001b[0m\u001b[1;33m)\u001b[0m\u001b[1;33m,\u001b[0m\u001b[1;34m'k'\u001b[0m\u001b[1;33m)\u001b[0m\u001b[1;33m\u001b[0m\u001b[0m\n\u001b[0;32m      4\u001b[0m \u001b[0mplt\u001b[0m\u001b[1;33m.\u001b[0m\u001b[0merrorbar\u001b[0m\u001b[1;33m(\u001b[0m\u001b[0ma\u001b[0m\u001b[1;33m[\u001b[0m\u001b[1;36m0\u001b[0m\u001b[1;33m]\u001b[0m\u001b[1;33m,\u001b[0m \u001b[0ma\u001b[0m\u001b[1;33m[\u001b[0m\u001b[1;36m1\u001b[0m\u001b[1;33m]\u001b[0m\u001b[1;33m,\u001b[0m \u001b[0mxerr\u001b[0m\u001b[1;33m=\u001b[0m\u001b[1;36m0.2\u001b[0m\u001b[1;33m*\u001b[0m\u001b[1;36m8.6E-5\u001b[0m\u001b[1;33m,\u001b[0m \u001b[0myerr\u001b[0m\u001b[1;33m=\u001b[0m\u001b[1;36m0.3\u001b[0m\u001b[1;33m,\u001b[0m\u001b[0mfmt\u001b[0m\u001b[1;33m=\u001b[0m\u001b[1;34m'ko'\u001b[0m\u001b[1;33m,\u001b[0m\u001b[0mcapsize\u001b[0m\u001b[1;33m=\u001b[0m\u001b[1;36m3\u001b[0m\u001b[1;33m,\u001b[0m \u001b[0melinewidth\u001b[0m\u001b[1;33m=\u001b[0m\u001b[1;36m1\u001b[0m\u001b[1;33m)\u001b[0m\u001b[1;33m\u001b[0m\u001b[0m\n\u001b[1;32m----> 5\u001b[1;33m \u001b[0mplt\u001b[0m\u001b[1;33m.\u001b[0m\u001b[0mplot\u001b[0m\u001b[1;33m(\u001b[0m\u001b[0mxx\u001b[0m\u001b[1;33m,\u001b[0m\u001b[0maa\u001b[0m\u001b[1;33m/\u001b[0m\u001b[1;36m5\u001b[0m\u001b[1;33m*\u001b[0m\u001b[0mnp\u001b[0m\u001b[1;33m.\u001b[0m\u001b[0mpower\u001b[0m\u001b[1;33m(\u001b[0m\u001b[1;36m8.6E-5\u001b[0m\u001b[1;33m*\u001b[0m\u001b[0mxx\u001b[0m\u001b[1;33m,\u001b[0m\u001b[1;33m-\u001b[0m\u001b[1;36m1\u001b[0m\u001b[1;33m/\u001b[0m\u001b[1;36m2\u001b[0m\u001b[1;33m)\u001b[0m\u001b[1;33m,\u001b[0m\u001b[1;34m'k--'\u001b[0m\u001b[1;33m)\u001b[0m\u001b[1;33m\u001b[0m\u001b[0m\n\u001b[0m\u001b[0;32m      6\u001b[0m \u001b[0mplt\u001b[0m\u001b[1;33m.\u001b[0m\u001b[0mylim\u001b[0m\u001b[1;33m(\u001b[0m\u001b[1;36m0\u001b[0m\u001b[1;33m,\u001b[0m\u001b[1;36m3\u001b[0m\u001b[1;33m)\u001b[0m\u001b[1;33m\u001b[0m\u001b[0m\n\u001b[0;32m      7\u001b[0m \u001b[1;33m\u001b[0m\u001b[0m\n",
      "\u001b[1;31mValueError\u001b[0m: operands could not be broadcast together with shapes (2,20) (1000,) "
     ]
    },
    {
     "data": {
      "image/png": "[encoded data removed]",
      "text/plain": [
       "<matplotlib.figure.Figure at 0x1cf9ea20>"
      ]
     },
     "metadata": {},
     "output_type": "display_data"
    }
   ],
   "source": [
    "#Points temperature\n",
    "\n",
    "plt.plot(xx,vis*(8.6E-5*xx/(vol*co))*csch(8.6E-5*xx*np.pi/(ec))*np.abs(np.sin(vol*co/(2*ec))),'k')\n",
    "plt.errorbar(a[0], a[1], xerr=0.2*8.6E-5, yerr=0.3,fmt='ko',capsize=3, elinewidth=1)\n",
    "plt.plot(xx,aa/5*np.power(8.6E-5*xx,-1/2),'k--')\n",
    "plt.ylim(0,3)\n",
    "\n",
    "\n",
    "plt.ylim(0,3)\n",
    "plt.xlim(0,550)\n",
    "plt.ylabel(\"$\\\\nu$ ($\\\\%$)\", color='k',fontsize=12)\n",
    "plt.xlabel(\"$T$ (mK)\", color='k',fontsize=12)\n",
    "plt.tick_params(direction='in')\n",
    "\n",
    "tratata = plt.axes([.51, .5, .3, .3], facecolor='w')\n",
    "s=35000\n",
    "b=-2\n",
    "plt.errorbar(a[0], a[1], xerr=0.2*8.6E-5, yerr=0.3,fmt='ko',capsize=3, elinewidth=1)\n",
    "plt.loglog(xx,s*np.power(xx,b),'grey')\n",
    "plt.ylim(0.05,7)\n",
    "plt.xlim(10,700)\n",
    "plt.ylabel(\"$\\\\nu$ ($\\\\%$)\", color='k',fontsize=12)\n",
    "plt.xlabel(\"$T$ (mK)\", color='k',fontsize=12)\n",
    "plt.tick_params(direction='in')\n",
    "plt.savefig('D:\\\\stefan1.pdf', format='pdf')"
   ]
  },
  {
   "cell_type": "code",
   "execution_count": 56,
   "metadata": {
    "collapsed": false
   },
   "outputs": [
    {
     "name": "stdout",
     "output_type": "stream",
     "text": [
      "Parameters([('aa', <Parameter 'aa', value=0.12792035150141534 +/- 0.0908, bounds=[0:inf]>), ('c', <Parameter 'c', value=5.9967979026964713e-07 +/- 0.954, bounds=[0:inf]>), ('d', <Parameter 'd', value=0.036626542913303473 +/- 5.35e+06, bounds=[0:inf]>)])\n"
     ]
    },
    {
     "name": "stderr",
     "output_type": "stream",
     "text": [
      "C:\\Users\\platonov\\Anaconda3\\envs\\py27\\lib\\site-packages\\ipykernel_launcher.py:78: RuntimeWarning: divide by zero encountered in power\n"
     ]
    },
    {
     "data": {
      "text/plain": [
       "(0, 0.05)"
      ]
     },
     "execution_count": 56,
     "metadata": {},
     "output_type": "execute_result"
    },
    {
     "data": {
      "image/png": "[encoded data removed]",
      "text/plain": [
       "<matplotlib.figure.Figure at 0x1ca1c550>"
      ]
     },
     "metadata": {},
     "output_type": "display_data"
    }
   ],
   "source": [
    "#Diffusive#\n",
    "\n",
    "#!/usr/bin/env python\n",
    "#<examples/doc_basic.py>\n",
    "x=a[0]\n",
    "data=a[1]\n",
    "c=0.1\n",
    "\n",
    "c1=np.linspace(0, 0, num=10)\n",
    "c2=np.linspace(0, 0, num=10)\n",
    "c3=np.linspace(0, 0, num=10)\n",
    "from lmfit import minimize, Minimizer, Parameters, Parameter, report_fit\n",
    "import numpy as np\n",
    "b=0.05\n",
    "# create data to be fitted\n",
    "\n",
    "\n",
    "bb=1\n",
    "vol=0.1\n",
    "tem=25\n",
    "x1=a[0]\n",
    "x2=finx\n",
    "y1=a[1]\n",
    "y2=finy\n",
    "#d=1/3\n",
    "def residual_two_functions(params, x1, y1):\n",
    "    aa = params['aa']\n",
    "    #bb = params['bb']\n",
    "    c = params['c']\n",
    "    d = params['d']\n",
    "    res=aa*np.power(8.6E-5*x1,-1/2)*np.exp((-c)*x1**(-d))    \n",
    "    #res2=a*(8.6E-5*tem/(x2*bb))*csch(8.6E-5*np.pi*tem/(c))*np.sin(x2*bb/(2*c))\n",
    "    diff1 = y1 - res\n",
    "    \n",
    "    #diff2 = y2 - res2\n",
    "    return diff1\n",
    "    \n",
    "# create a set of Parameters\n",
    "params = Parameters()\n",
    "params.add('aa',   value= 0.2,min=0)\n",
    "#params.add('bb', value=1, min=0.1,max=1.1)\n",
    "params.add('c', value= 0.6,min=0)\n",
    "params.add('d', value= 0.2,min=0)\n",
    "\n",
    "# do fit, here with leastsq model\n",
    "minner = Minimizer(residual_two_functions, params, fcn_args=(x1,y1))\n",
    "kws  = {'options': {'maxiter':100}}\n",
    "result = minner.minimize()\n",
    "result.params\n",
    "\n",
    "# calculate final result\n",
    "final = y1 + result.residual\n",
    "#    new_matrix[i,:]=final\n",
    "# write error report\n",
    "  #  report_fit(result)\n",
    "    #expp2[i]=final\n",
    "# try to plot results\n",
    "\n",
    "#plt.plot(np.concatenate((8.6E-5*x1,x2)), final, 'r')\n",
    "#plt.xlim(-1.4,-1.2)\n",
    "params2=result.params\n",
    "print params2\n",
    "v = params2.valuesdict()\n",
    "vis0=v['aa']\n",
    "#co=v['bb']\n",
    "c=v['c']\n",
    "#d=v['d']\n",
    "#plt.errorbar(finx*co,finy ,  yerr=0.3,fmt='ro',capsize=3, elinewidth=1)\n",
    "\n",
    "#######\n",
    "#plt.semilogy(xx*8.6E-5,nu*(8.6E-5*xx/(b))*csch(8.6E-5*xx/(ec))*np.sin(b/(2*ec)),'k')\n",
    "#Points temperature\n",
    "plt.errorbar(a[0]*8.6E-5, a[1], xerr=0.2*8.6E-5, yerr=0.3,fmt='ko',capsize=3, elinewidth=1)\n",
    "#plt.plot(xxx*co,vis*(8.6E-5*tem/(xxx*co))*csch(8.6E-5*np.pi*tem/(ec))*np.abs(np.sin(xxx*co/(2*ec))),'-r')\n",
    "#Fit temperature\n",
    "#b=np.linspace(0.01,10, num=100)\n",
    "#for i in xrange(100):\n",
    "plt.plot(xx*8.6E-5,vis0*np.power(8.6E-5*xx,-1/2)*np.exp((-c)*xx**(-d))    ,'k')\n",
    "plt.ylim(0,4)\n",
    "plt.xlim(0,0.05)\n",
    "#plt.savefig('D:\\\\stefan1.pdf', format='pdf')"
   ]
  },
  {
   "cell_type": "code",
   "execution_count": 57,
   "metadata": {
    "collapsed": false
   },
   "outputs": [
    {
     "name": "stderr",
     "output_type": "stream",
     "text": [
      "C:\\Users\\platonov\\Anaconda3\\envs\\py27\\lib\\site-packages\\ipykernel_launcher.py:10: RuntimeWarning: divide by zero encountered in power\n",
      "  # Remove the CWD from sys.path while we load stuff.\n",
      "C:\\Users\\platonov\\Anaconda3\\envs\\py27\\lib\\site-packages\\ipykernel_launcher.py:11: RuntimeWarning: divide by zero encountered in power\n",
      "  # This is added back by InteractiveShellApp.init_path()\n"
     ]
    },
    {
     "data": {
      "text/plain": [
       "(0, 3)"
      ]
     },
     "execution_count": 57,
     "metadata": {},
     "output_type": "execute_result"
    },
    {
     "data": {
      "image/png": "[encoded data removed]",
      "text/plain": [
       "<matplotlib.figure.Figure at 0x1d3f9358>"
      ]
     },
     "metadata": {},
     "output_type": "display_data"
    }
   ],
   "source": [
    "#\n",
    "aa=0.5\n",
    "c=-0.1\n",
    "d=-0.5\n",
    "lin0=1\n",
    "lin=lin0\n",
    "ls=1\n",
    "plt.errorbar(a[0], a[1], xerr=0.2*8.6E-5, yerr=0.3,fmt='ko',capsize=3, elinewidth=1)\n",
    "#plt.plot(xx,aa*np.power(8.6E-5*xx,-1/2)*np.exp(c/xx**d),'k' )\n",
    "plt.plot(xx,aa*np.power(8.6E-5*xx,-1/2)*np.exp(c/xx**d*2),'b' )\n",
    "plt.plot(xx,aa*np.power(8.6E-5*xx,-1/2)*np.exp(c/xx**d*4),'r' )\n",
    "\n",
    "plt.xlim(10,600)\n",
    "plt.ylim(0,3)"
   ]
  },
  {
   "cell_type": "code",
   "execution_count": 58,
   "metadata": {
    "collapsed": false
   },
   "outputs": [
    {
     "data": {
      "text/plain": [
       "array([  25.,   40.,  100.,  200.,  300.,  400.,  500.])"
      ]
     },
     "execution_count": 58,
     "metadata": {},
     "output_type": "execute_result"
    }
   ],
   "source": [
    "a[0]"
   ]
  },
  {
   "cell_type": "code",
   "execution_count": 59,
   "metadata": {
    "collapsed": false
   },
   "outputs": [
    {
     "name": "stderr",
     "output_type": "stream",
     "text": [
      "C:\\Users\\platonov\\Anaconda3\\envs\\py27\\lib\\site-packages\\ipykernel_launcher.py:2: RuntimeWarning: divide by zero encountered in true_divide\n",
      "  \n",
      "C:\\Users\\platonov\\Anaconda3\\envs\\py27\\lib\\site-packages\\ipykernel_launcher.py:2: RuntimeWarning: invalid value encountered in multiply\n",
      "  \n"
     ]
    },
    {
     "data": {
      "text/plain": [
       "[<matplotlib.lines.Line2D at 0x1cf94e10>]"
      ]
     },
     "execution_count": 59,
     "metadata": {},
     "output_type": "execute_result"
    },
    {
     "data": {
      "image/png": "[encoded data removed]",
      "text/plain": [
       "<matplotlib.figure.Figure at 0x1cf94c88>"
      ]
     },
     "metadata": {},
     "output_type": "display_data"
    }
   ],
   "source": [
    "plt.errorbar(a[0]*8.6E-5, a[1], xerr=0.2*8.6E-5, yerr=0.3,fmt='ko',capsize=3, elinewidth=1)\n",
    "plt.plot(xx*8.6E-5,vis*(8.6E-5*xx/(vol*co))*csch(8.6E-5*xx*np.pi/(ec))*np.abs(np.sin(vol*co/(2*ec))),'k')"
   ]
  },
  {
   "cell_type": "code",
   "execution_count": 60,
   "metadata": {
    "collapsed": false
   },
   "outputs": [
    {
     "data": {
      "text/plain": [
       "<lmfit.minimizer.MinimizerResult at 0x1d9a9438>"
      ]
     },
     "execution_count": 60,
     "metadata": {},
     "output_type": "execute_result"
    }
   ],
   "source": [
    "result"
   ]
  },
  {
   "cell_type": "code",
   "execution_count": 61,
   "metadata": {
    "collapsed": false
   },
   "outputs": [
    {
     "data": {
      "text/plain": [
       "(7L,)"
      ]
     },
     "execution_count": 61,
     "metadata": {},
     "output_type": "execute_result"
    }
   ],
   "source": [
    " result.residual.shape"
   ]
  },
  {
   "cell_type": "code",
   "execution_count": 62,
   "metadata": {
    "collapsed": false
   },
   "outputs": [
    {
     "data": {
      "text/plain": [
       "Parameters([('aa',\n",
       "             <Parameter 'aa', value=0.12792035150141534 +/- 0.0908, bounds=[0:inf]>),\n",
       "            ('c',\n",
       "             <Parameter 'c', value=5.9967979026964713e-07 +/- 0.954, bounds=[0:inf]>),\n",
       "            ('d',\n",
       "             <Parameter 'd', value=0.036626542913303473 +/- 5.35e+06, bounds=[0:inf]>)])"
      ]
     },
     "execution_count": 62,
     "metadata": {},
     "output_type": "execute_result"
    }
   ],
   "source": [
    "result.params"
   ]
  },
  {
   "cell_type": "code",
   "execution_count": 63,
   "metadata": {
    "collapsed": false
   },
   "outputs": [
    {
     "ename": "TypeError",
     "evalue": "'float' object has no attribute '__getitem__'",
     "output_type": "error",
     "traceback": [
      "\u001b[1;31m---------------------------------------------------------------------------\u001b[0m",
      "\u001b[1;31mTypeError\u001b[0m                                 Traceback (most recent call last)",
      "\u001b[1;32m<ipython-input-63-1aad91a5fc89>\u001b[0m in \u001b[0;36m<module>\u001b[1;34m()\u001b[0m\n\u001b[0;32m      1\u001b[0m \u001b[1;31m#!/usr/bin/env python\u001b[0m\u001b[1;33m\u001b[0m\u001b[1;33m\u001b[0m\u001b[0m\n\u001b[0;32m      2\u001b[0m \u001b[1;31m#<examples/doc_basic.py>\u001b[0m\u001b[1;33m\u001b[0m\u001b[1;33m\u001b[0m\u001b[0m\n\u001b[1;32m----> 3\u001b[1;33m \u001b[0mx\u001b[0m\u001b[1;33m=\u001b[0m\u001b[0maa\u001b[0m\u001b[1;33m[\u001b[0m\u001b[1;36m0\u001b[0m\u001b[1;33m]\u001b[0m\u001b[1;33m\u001b[0m\u001b[0m\n\u001b[0m\u001b[0;32m      4\u001b[0m \u001b[0mdata\u001b[0m\u001b[1;33m=\u001b[0m\u001b[0maa\u001b[0m\u001b[1;33m[\u001b[0m\u001b[1;36m1\u001b[0m\u001b[1;33m]\u001b[0m\u001b[1;33m\u001b[0m\u001b[0m\n\u001b[0;32m      5\u001b[0m \u001b[1;33m\u001b[0m\u001b[0m\n",
      "\u001b[1;31mTypeError\u001b[0m: 'float' object has no attribute '__getitem__'"
     ]
    }
   ],
   "source": [
    "#!/usr/bin/env python\n",
    "#<examples/doc_basic.py>\n",
    "x=aa[0]\n",
    "data=aa[1]\n",
    "\n",
    "\n",
    "v1=np.linspace(0, 0, num=20)\n",
    "v2=np.linspace(0, 0, num=20)\n",
    "v3=np.linspace(0, 0, num=20)\n",
    "from lmfit import minimize, Minimizer, Parameters, Parameter, report_fit\n",
    "import numpy as np\n",
    "b=25\n",
    "# create data to be fitted\n",
    "for i in range(0,20):\n",
    "    def fcn2min(params, x, data):\n",
    "        a = params['a']\n",
    "        #b = params['b']\n",
    "        c = params['c']\n",
    "        res=a*(8.6E-5*b/(x))*csch(8.6E-5*np.pi*b/(c))*np.sin(x/(2*c))\n",
    "        return res - data\n",
    "    \n",
    "# create a set of Parameters\n",
    "    params = Parameters()\n",
    "    params.add('a',   value= 1)\n",
    "    #params.add('b', value=0.1)\n",
    "    params.add('c', value= 1E-2)       \n",
    "\n",
    "# do fit, here with leastsq model\n",
    "    minner = Minimizer(fcn2min, params, fcn_args=(x, data))\n",
    "    kws  = {'options': {'maxiter':100}}\n",
    "    result = minner.minimize()\n",
    "    result.params\n",
    "\n",
    "# calculate final result\n",
    "    final = data + result.residual\n",
    "#    new_matrix[i,:]=final\n",
    "# write error report\n",
    "  #  report_fit(result)\n",
    "    #expp2[i]=final\n",
    "# try to plot results\n",
    "    plt.plot(x, data, 'o')\n",
    "    plt.plot(x, final, 'r')\n",
    "    #plt.xlim(-1.4,-1.2)\n",
    "    params2=result.params\n",
    "    v = params2.valuesdict()\n",
    "    v1[i]=v['a']\n",
    "    #v2[i]=v['b']\n",
    "    v3[i]=v['c']\n",
    "#plt.savefig('D:\\\\sl2.pdf', format='pdf')"
   ]
  },
  {
   "cell_type": "code",
   "execution_count": 64,
   "metadata": {
    "collapsed": false
   },
   "outputs": [
    {
     "data": {
      "text/plain": [
       "Parameters([('aa',\n",
       "             <Parameter 'aa', value=0.12792035150141534 +/- 0.0908, bounds=[0:inf]>),\n",
       "            ('c',\n",
       "             <Parameter 'c', value=5.9967979026964713e-07 +/- 0.954, bounds=[0:inf]>),\n",
       "            ('d',\n",
       "             <Parameter 'd', value=0.036626542913303473 +/- 5.35e+06, bounds=[0:inf]>)])"
      ]
     },
     "execution_count": 64,
     "metadata": {},
     "output_type": "execute_result"
    }
   ],
   "source": [
    "params2"
   ]
  },
  {
   "cell_type": "code",
   "execution_count": 65,
   "metadata": {
    "collapsed": false
   },
   "outputs": [
    {
     "ename": "TypeError",
     "evalue": "'float' object has no attribute '__getitem__'",
     "output_type": "error",
     "traceback": [
      "\u001b[1;31m---------------------------------------------------------------------------\u001b[0m",
      "\u001b[1;31mTypeError\u001b[0m                                 Traceback (most recent call last)",
      "\u001b[1;32m<ipython-input-65-3ce261641025>\u001b[0m in \u001b[0;36m<module>\u001b[1;34m()\u001b[0m\n\u001b[0;32m      1\u001b[0m \u001b[1;31m#!/usr/bin/env python\u001b[0m\u001b[1;33m\u001b[0m\u001b[1;33m\u001b[0m\u001b[0m\n\u001b[0;32m      2\u001b[0m \u001b[1;31m#<examples/doc_basic.py>\u001b[0m\u001b[1;33m\u001b[0m\u001b[1;33m\u001b[0m\u001b[0m\n\u001b[1;32m----> 3\u001b[1;33m \u001b[0mx\u001b[0m\u001b[1;33m=\u001b[0m\u001b[0maa\u001b[0m\u001b[1;33m[\u001b[0m\u001b[1;36m0\u001b[0m\u001b[1;33m]\u001b[0m\u001b[1;33m/\u001b[0m\u001b[1;36m10\u001b[0m\u001b[1;33m\u001b[0m\u001b[0m\n\u001b[0m\u001b[0;32m      4\u001b[0m \u001b[0mdata\u001b[0m\u001b[1;33m=\u001b[0m\u001b[0maa\u001b[0m\u001b[1;33m[\u001b[0m\u001b[1;36m1\u001b[0m\u001b[1;33m]\u001b[0m\u001b[1;33m\u001b[0m\u001b[0m\n\u001b[0;32m      5\u001b[0m \u001b[1;33m\u001b[0m\u001b[0m\n",
      "\u001b[1;31mTypeError\u001b[0m: 'float' object has no attribute '__getitem__'"
     ]
    }
   ],
   "source": [
    "#!/usr/bin/env python\n",
    "#<examples/doc_basic.py>\n",
    "x=aa[0]/10\n",
    "data=aa[1]\n",
    "\n",
    "\n",
    "v11=np.linspace(0, 0, num=20)\n",
    "v22=np.linspace(0, 0, num=20)\n",
    "v33=np.linspace(0, 0, num=20)\n",
    "from lmfit import minimize, Minimizer, Parameters, Parameter, report_fit\n",
    "import numpy as np\n",
    "# create data to be fitted\n",
    "for i in range(0,20):\n",
    "    def fcn2min(params, x, data):\n",
    "        a = params['a']\n",
    "        b = params['b']\n",
    "        c = params['c']\n",
    "        res=a*np.exp(b*np.power(x,1/2))\n",
    "        return res - data\n",
    "    \n",
    "# create a set of Parameters\n",
    "    params = Parameters()\n",
    "    params.add('a',   value= 1)\n",
    "    params.add('b', value=0.1)\n",
    "    params.add('c', value= 1E-2)       \n",
    "\n",
    "# do fit, here with leastsq model\n",
    "    minner = Minimizer(fcn2min, params, fcn_args=(x, data))\n",
    "    kws  = {'options': {'maxiter':100}}\n",
    "    result = minner.minimize()\n",
    "    result.params\n",
    "\n",
    "# calculate final result\n",
    "    final = data + result.residual\n",
    "#    new_matrix[i,:]=final\n",
    "# write error report\n",
    "  #  report_fit(result)\n",
    "    #expp2[i]=final\n",
    "# try to plot results\n",
    "    plt.plot(x, data, 'o')\n",
    "    plt.plot(x, final, 'r')\n",
    "    #plt.xlim(-1.4,-1.2)\n",
    "    params2=result.params\n",
    "    v = params2.valuesdict()\n",
    "    v11[i]=v['a']\n",
    "    v22[i]=v['b']\n",
    "    v33[i]=v['c']\n",
    "#plt.savefig('D:\\\\sl2.pdf', format='pdf')"
   ]
  },
  {
   "cell_type": "code",
   "execution_count": 66,
   "metadata": {
    "collapsed": false
   },
   "outputs": [
    {
     "data": {
      "text/plain": [
       "array([-0.25880068,  0.26897656,  0.67059966, -0.02538334, -0.27639716,\n",
       "       -0.41970017, -0.42688659])"
      ]
     },
     "execution_count": 66,
     "metadata": {},
     "output_type": "execute_result"
    }
   ],
   "source": [
    "result.residual"
   ]
  },
  {
   "cell_type": "code",
   "execution_count": 67,
   "metadata": {
    "collapsed": false
   },
   "outputs": [
    {
     "data": {
      "image/png": "[encoded data removed]",
      "text/plain": [
       "<matplotlib.figure.Figure at 0x1e4ef470>"
      ]
     },
     "metadata": {},
     "output_type": "display_data"
    }
   ],
   "source": [
    "#!/usr/bin/env python\n",
    "#<examples/doc_basic.py>\n",
    "x=a[0]\n",
    "data=a[1]\n",
    "c11=np.linspace(0, 0, num=7)\n",
    "c22=np.linspace(0, 0, num=7)\n",
    "c33=np.linspace(0, 0, num=7)\n",
    "from lmfit import minimize, Minimizer, Parameters, Parameter, report_fit\n",
    "import numpy as np\n",
    "# create data to be fitted\n",
    "for i in range(0,7):\n",
    "    def fcn2min(params, x, data):\n",
    "        a = params['a']\n",
    "        b = params['b']\n",
    "        c = params['c']\n",
    "        res=a*np.exp(b*np.power(x,1/2))\n",
    "        return res - data\n",
    "    \n",
    "# create a set of Parameters\n",
    "    params = Parameters()\n",
    "    params.add('a',   value= 1)\n",
    "    params.add('b', value=0.1)\n",
    "    params.add('c', value= 1E-2)       \n",
    "\n",
    "# do fit, here with leastsq model\n",
    "    minner = Minimizer(fcn2min, params, fcn_args=(x, data))\n",
    "    kws  = {'options': {'maxiter':100}}\n",
    "    result = minner.minimize()\n",
    "    result.params\n",
    "\n",
    "# calculate final result\n",
    "    final = data + result.residual\n",
    "#    new_matrix[i,:]=final\n",
    "# write error report\n",
    "  #  report_fit(result)\n",
    "    #expp2[i]=final\n",
    "# try to plot results\n",
    "    plt.plot(x, data, 'o')\n",
    "    plt.plot(x, final, 'r')\n",
    "    #plt.xlim(-1.4,-1.2)\n",
    "    params2=result.params\n",
    "    v = params2.valuesdict()\n",
    "    c11[i]=v['a']\n",
    "    c22[i]=v['b']\n",
    "    c33[i]=v['c']\n",
    "#plt.savefig('D:\\\\sl2.pdf', format='pdf')"
   ]
  },
  {
   "cell_type": "code",
   "execution_count": 68,
   "metadata": {
    "collapsed": false
   },
   "outputs": [
    {
     "data": {
      "text/plain": [
       "4.8880435423860593"
      ]
     },
     "execution_count": 68,
     "metadata": {},
     "output_type": "execute_result"
    }
   ],
   "source": [
    "c11[0]"
   ]
  },
  {
   "cell_type": "code",
   "execution_count": 69,
   "metadata": {
    "collapsed": false
   },
   "outputs": [
    {
     "name": "stderr",
     "output_type": "stream",
     "text": [
      "C:\\Users\\platonov\\Anaconda3\\envs\\py27\\lib\\site-packages\\ipykernel_launcher.py:5: RuntimeWarning: divide by zero encountered in true_divide\n",
      "  \"\"\"\n",
      "C:\\Users\\platonov\\Anaconda3\\envs\\py27\\lib\\site-packages\\ipykernel_launcher.py:5: RuntimeWarning: invalid value encountered in true_divide\n",
      "  \"\"\"\n",
      "C:\\Users\\platonov\\Anaconda3\\envs\\py27\\lib\\site-packages\\ipykernel_launcher.py:5: RuntimeWarning: invalid value encountered in multiply\n",
      "  \"\"\"\n",
      "C:\\Users\\platonov\\Anaconda3\\envs\\py27\\lib\\site-packages\\ipykernel_launcher.py:5: RuntimeWarning: invalid value encountered in double_scalars\n",
      "  \"\"\"\n"
     ]
    },
    {
     "data": {
      "text/plain": [
       "[<matplotlib.lines.Line2D at 0x1e1ac9b0>]"
      ]
     },
     "execution_count": 69,
     "metadata": {},
     "output_type": "execute_result"
    },
    {
     "data": {
      "image/png": "[encoded data removed]",
      "text/plain": [
       "<matplotlib.figure.Figure at 0x1e1ac828>"
      ]
     },
     "metadata": {},
     "output_type": "display_data"
    }
   ],
   "source": [
    "xx=np.linspace(0, 500, num=1000)\n",
    "nu=c1[0]\n",
    "ec=c3[0]\n",
    "b=c2[0]\n",
    "plt.plot(xx,nu*(8.6E-5*xx/(b))*csch(8.6E-5*xx/(ec))*np.sin(b/(2*ec)))\n",
    "plt.plot(x,data,'o')"
   ]
  },
  {
   "cell_type": "code",
   "execution_count": null,
   "metadata": {
    "collapsed": true
   },
   "outputs": [],
   "source": []
  },
  {
   "cell_type": "code",
   "execution_count": 78,
   "metadata": {
    "collapsed": false
   },
   "outputs": [
    {
     "name": "stderr",
     "output_type": "stream",
     "text": [
      "C:\\Users\\platonov\\Anaconda3\\envs\\py27\\lib\\site-packages\\ipykernel_launcher.py:21: RuntimeWarning: divide by zero encountered in true_divide\n",
      "C:\\Users\\platonov\\Anaconda3\\envs\\py27\\lib\\site-packages\\ipykernel_launcher.py:21: RuntimeWarning: invalid value encountered in true_divide\n",
      "C:\\Users\\platonov\\Anaconda3\\envs\\py27\\lib\\site-packages\\ipykernel_launcher.py:21: RuntimeWarning: divide by zero encountered in double_scalars\n",
      "C:\\Users\\platonov\\Anaconda3\\envs\\py27\\lib\\site-packages\\ipykernel_launcher.py:21: RuntimeWarning: invalid value encountered in sin\n",
      "C:\\Users\\platonov\\Anaconda3\\envs\\py27\\lib\\site-packages\\ipykernel_launcher.py:21: RuntimeWarning: invalid value encountered in absolute\n",
      "C:\\Users\\platonov\\Anaconda3\\envs\\py27\\lib\\site-packages\\ipykernel_launcher.py:53: RuntimeWarning: divide by zero encountered in power\n",
      "C:\\Users\\platonov\\Anaconda3\\envs\\py27\\lib\\site-packages\\ipykernel_launcher.py:59: RuntimeWarning: divide by zero encountered in true_divide\n",
      "C:\\Users\\platonov\\Anaconda3\\envs\\py27\\lib\\site-packages\\ipykernel_launcher.py:59: RuntimeWarning: invalid value encountered in multiply\n",
      "C:\\Users\\platonov\\Anaconda3\\envs\\py27\\lib\\site-packages\\ipykernel_launcher.py:60: RuntimeWarning: divide by zero encountered in power\n"
     ]
    },
    {
     "data": {
      "image/png": "[encoded data removed]",
      "text/plain": [
       "<matplotlib.figure.Figure at 0x1ca4afd0>"
      ]
     },
     "metadata": {},
     "output_type": "display_data"
    }
   ],
   "source": [
    "import matplotlib.gridspec as gridspec\n",
    "fig = plt.figure()\n",
    "gs = gridspec.GridSpec(4,5)\n",
    "xx=np.linspace(0, 800, num=1000)\n",
    "gs.update(left=0, right=1, wspace=0.2, hspace=1)\n",
    "\n",
    "ax1 = plt.subplot(gs[0:3, 0:2])\n",
    "red_patch = mlines.Line2D([], [], color='red', marker='o',\n",
    "                          markersize=4, label='$V_t=-3\\,$V')\n",
    "blue_patch = mlines.Line2D([], [], color='blue', marker='o',\n",
    "                          markersize=4,label='$-2.5\\,$V')\n",
    "black_patch = mlines.Line2D([], [], color='black', marker='o',\n",
    "                          markersize=4,label='$-2\\,$V')\n",
    "#leg=plt.legend(handles=[red_patch,blue_patch,black_patch],loc=2,fontsize=10)\n",
    "#leg.get_frame().set_facecolor('none')\n",
    "#leg.get_frame().set_linewidth(0.0)\n",
    "#x1=np.linspace(300, -260, num=28)\n",
    "#x2=np.linspace(400, -120, num=28)\n",
    "#x3=np.linspace(400, -100, num=27)\n",
    "plt.errorbar(a[0], a[1], xerr=0.2*8.6E-5, yerr=0.3,fmt='ko',capsize=3, elinewidth=1)\n",
    "plt.plot(xx,vis*(8.6E-5*xx/(vol*co))*csch(8.6E-5*xx*np.pi/(ec))*np.abs(np.sin(vol*co/(2*ec))),'k')\n",
    "#plt.ylim(0,3)\n",
    "plt.tick_params(direction='in', labeltop=False, labelbottom=True, bottom=True,labelleft=True, top=True,left=True, labelright=False, right=True)\n",
    "plt.yticks([0,1,2,3],fontsize=10)\n",
    "#plt.plot(x3[1:26],(-1/m4[1:26]/0.05),'-or')\n",
    "plt.ylim(0,3)\n",
    "plt.xlim(20,650)\n",
    "\n",
    "\n",
    "\n",
    "plt.ylabel(\"$v$ ($\\\\%$)\", color='k',fontsize=12)\n",
    "plt.xlabel(\"$T$ ($mK$)\", color='k',fontsize=12)\n",
    "plt.tick_params(direction='in')\n",
    "#plt.yticks([1,2,3],fontsize=10)\n",
    "#plt.plot(-exp1[:,100]*1E6,x1,'-k')\n",
    "#plt.plot(-exp1[:,60]*1E6,x1,'-b')\n",
    "xx2=np.linspace(0, 2000, num=1000)\n",
    "coef2=20\n",
    "test2=11\n",
    "coef=20\n",
    "aa=0.5\n",
    "test=20\n",
    "lmb=1E9\n",
    "def length(x):\n",
    "    res=np.power(8.6E-5*x,-1/3)\n",
    "    #*lmb/(np.power(8.6E-5*xx,-1/3)+lmb)\n",
    "    return res\n",
    "#plt.yticks([0,1,2],fontsize=10)\n",
    "#plt.xlabel(\"$I$ ($\\mu$A)\", color='k',fontsize=12)\n",
    "#plt.ylabel(\"$I$ (nA)\", color='k',fontsize=12)\n",
    "#plt.ylim(0,2)\n",
    "#plt.plot(xx,coef*aa/5*np.power(8.6E-5*xx,-1/2)*np.exp(-np.power(8.6E-5*xx,1/2)*test),'r--')\n",
    "plt.plot(xx,coef2*aa/5*np.power(8.6E-5*xx,-1/2)*np.exp(-test2/np.power(8.6E-5*xx,-1/3)),'r')\n",
    "ax2 = plt.subplot(gs[0:3, 2:4])\n",
    "#plt.plot(xx2,coef2*aa/5*np.power(8.6E-5*xx2,-1/2)*np.exp(-np.power(8.6E-5*xx,1/2),'r--')\n",
    "plt.tick_params(direction='in', labeltop=False, labelbottom=True, bottom=True,left=True,labelleft=False, top=True,labelright=True, right=True)\n",
    "xxx=np.linspace(0, 0.4, num=1000)\n",
    "plt.errorbar(finx*co2,finy ,  yerr=0.3,fmt='ko',capsize=3, elinewidth=1)\n",
    "plt.plot(xxx*co2,vis2*(8.6E-5*tem/(xxx*co2))*csch(8.6E-5*np.pi*tem/(ec2))*np.abs(np.sin(xxx*co2/(2*ec2))),'-k')\n",
    "plt.plot(xxx*co2,first/5*np.power(xxx*co2,1/2)*np.exp(-second/np.power(xxx*co2,-1/3)),'r')\n",
    "#plt.tick_params(direction='in', labeltop=False, labelbottom=True, bottom=True,left=True,labelleft=False, top=True,labelright=True, right=True)\n",
    "#xxx=np.linspace(0, 0.4, num=1000)\n",
    "#xx=np.linspace(0, 800, num=1000)\n",
    "#plt.errorbar(finx*co2,finy ,  yerr=0.3,fmt='ko',capsize=3, elinewidth=1)\n",
    "#plt.loglog(xxx*co2,vis2*(8.6E-5*tem/(xxx*co2))*csch(8.6E-5*np.pi*tem/(ec2))*np.abs(np.sin(xxx*co2/(2*ec2))),'-k')\n",
    "plt.ylim(0,3)\n",
    "plt.xlim(0,0.15)\n",
    "plt.yticks([0,1,2,3],fontsize=10)\n",
    "plt.xticks([0.1,0.2],fontsize=10)\n",
    "#plt.ylabel(\"$\\\\nu$ ($\\\\%$)\", color='k',fontsize=12)\n",
    "#plt.xlabel(\"$V$ (mV)\", color='k',fontsize=12)\n",
    "#red_patch = mlines.Line2D([], [], color='red', marker='o',\n",
    "#                          markersize=4, label='$V_t=-3\\,$V')\n",
    "#blue_patch = mlines.Line2D([], [], color='blue', marker='o',\n",
    "#                          markersize=4,label='$-2.5\\,$V')\n",
    "#black_patch = mlines.Line2D([], [], color='black', marker='o',\n",
    "#                          markersize=4,label='$-2\\,$V')\n",
    "#leg=plt.legend(handles=[red_patch,blue_patch,black_patch],loc=2,fontsize=10)\n",
    "#leg.get_frame().set_facecolor('none')\n",
    "#leg.get_frame().set_linewidth(0.0)\n",
    "\n",
    "\n",
    "#a = plt.axes([.61, .4, .15, .2], facecolor='w')\n",
    "#x4=np.linspace(300, -260, num=27)\n",
    "\n",
    "plt.xlabel(\"$V_{AB}$ (V)\", color='k',fontsize=12)\n",
    "plt.ylabel(\"$v$ (\\%)\", color='k',fontsize=12)\n",
    "#plt.title(\"$V_s$ (mV)\", color='k',fontsize=10)\n",
    "\n",
    "plt.savefig('D:\\\\coh.pdf',bbox_inches='tight', format='pdf',dpi=900)"
   ]
  },
  {
   "cell_type": "code",
   "execution_count": 77,
   "metadata": {
    "collapsed": false
   },
   "outputs": [
    {
     "data": {
      "text/plain": [
       "2.0"
      ]
     },
     "execution_count": 77,
     "metadata": {},
     "output_type": "execute_result"
    }
   ],
   "source": [
    "coef2*aa/5"
   ]
  },
  {
   "cell_type": "code",
   "execution_count": 32,
   "metadata": {
    "collapsed": false
   },
   "outputs": [
    {
     "ename": "NameError",
     "evalue": "name 'vis' is not defined",
     "output_type": "error",
     "traceback": [
      "\u001b[1;31m---------------------------------------------------------------------------\u001b[0m",
      "\u001b[1;31mNameError\u001b[0m                                 Traceback (most recent call last)",
      "\u001b[1;32m<ipython-input-32-cef467e3241a>\u001b[0m in \u001b[0;36m<module>\u001b[1;34m()\u001b[0m\n\u001b[1;32m----> 1\u001b[1;33m \u001b[0mplt\u001b[0m\u001b[1;33m.\u001b[0m\u001b[0mplot\u001b[0m\u001b[1;33m(\u001b[0m\u001b[0mxx\u001b[0m\u001b[1;33m,\u001b[0m\u001b[0mvis\u001b[0m\u001b[1;33m*\u001b[0m\u001b[1;33m(\u001b[0m\u001b[1;36m8.6E-5\u001b[0m\u001b[1;33m*\u001b[0m\u001b[0mxx\u001b[0m\u001b[1;33m/\u001b[0m\u001b[1;33m(\u001b[0m\u001b[0mvol\u001b[0m\u001b[1;33m*\u001b[0m\u001b[0mco\u001b[0m\u001b[1;33m)\u001b[0m\u001b[1;33m)\u001b[0m\u001b[1;33m*\u001b[0m\u001b[0mcsch\u001b[0m\u001b[1;33m(\u001b[0m\u001b[1;36m8.6E-5\u001b[0m\u001b[1;33m*\u001b[0m\u001b[0mxx\u001b[0m\u001b[1;33m*\u001b[0m\u001b[0mnp\u001b[0m\u001b[1;33m.\u001b[0m\u001b[0mpi\u001b[0m\u001b[1;33m/\u001b[0m\u001b[1;33m(\u001b[0m\u001b[0mec\u001b[0m\u001b[1;33m)\u001b[0m\u001b[1;33m)\u001b[0m\u001b[1;33m*\u001b[0m\u001b[0mnp\u001b[0m\u001b[1;33m.\u001b[0m\u001b[0mabs\u001b[0m\u001b[1;33m(\u001b[0m\u001b[0mnp\u001b[0m\u001b[1;33m.\u001b[0m\u001b[0msin\u001b[0m\u001b[1;33m(\u001b[0m\u001b[0mvol\u001b[0m\u001b[1;33m*\u001b[0m\u001b[0mco\u001b[0m\u001b[1;33m/\u001b[0m\u001b[1;33m(\u001b[0m\u001b[1;36m2\u001b[0m\u001b[1;33m*\u001b[0m\u001b[0mec\u001b[0m\u001b[1;33m)\u001b[0m\u001b[1;33m)\u001b[0m\u001b[1;33m)\u001b[0m\u001b[1;33m,\u001b[0m\u001b[1;34m'k'\u001b[0m\u001b[1;33m)\u001b[0m\u001b[1;33m\u001b[0m\u001b[0m\n\u001b[0m",
      "\u001b[1;31mNameError\u001b[0m: name 'vis' is not defined"
     ]
    }
   ],
   "source": [
    "plt.plot(xx,vis*(8.6E-5*xx/(vol*co))*csch(8.6E-5*xx*np.pi/(ec))*np.abs(np.sin(vol*co/(2*ec))),'k')"
   ]
  },
  {
   "cell_type": "code",
   "execution_count": 33,
   "metadata": {
    "collapsed": false
   },
   "outputs": [
    {
     "data": {
      "text/plain": [
       "0.17507477712768726"
      ]
     },
     "execution_count": 33,
     "metadata": {},
     "output_type": "execute_result"
    }
   ],
   "source": [
    "vis2"
   ]
  },
  {
   "cell_type": "code",
   "execution_count": 34,
   "metadata": {
    "collapsed": false
   },
   "outputs": [
    {
     "name": "stderr",
     "output_type": "stream",
     "text": [
      "C:\\Users\\platonov\\Anaconda3\\envs\\py27\\lib\\site-packages\\ipykernel_launcher.py:4: RuntimeWarning: divide by zero encountered in power\n",
      "  after removing the cwd from sys.path.\n"
     ]
    },
    {
     "data": {
      "text/plain": [
       "<Container object of 3 artists>"
      ]
     },
     "execution_count": 34,
     "metadata": {},
     "output_type": "execute_result"
    },
    {
     "data": {
      "image/png": "[encoded data removed]",
      "text/plain": [
       "<matplotlib.figure.Figure at 0x1cdae128>"
      ]
     },
     "metadata": {},
     "output_type": "display_data"
    }
   ],
   "source": [
    "first=8000\n",
    "second=14\n",
    "\n",
    "plt.loglog(xxx*co2,first/5*np.power(xxx*co2,1/2)*np.exp(-second/np.power(xxx*co2,-1/3)),'r')\n",
    "plt.errorbar(finx*co2,finy ,  yerr=0.3,fmt='ko',capsize=3, elinewidth=1)"
   ]
  },
  {
   "cell_type": "code",
   "execution_count": 35,
   "metadata": {
    "collapsed": false
   },
   "outputs": [
    {
     "ename": "NameError",
     "evalue": "name 'coef2' is not defined",
     "output_type": "error",
     "traceback": [
      "\u001b[1;31m---------------------------------------------------------------------------\u001b[0m",
      "\u001b[1;31mNameError\u001b[0m                                 Traceback (most recent call last)",
      "\u001b[1;32m<ipython-input-35-d787170d03b2>\u001b[0m in \u001b[0;36m<module>\u001b[1;34m()\u001b[0m\n\u001b[0;32m      1\u001b[0m \u001b[0mplt\u001b[0m\u001b[1;33m.\u001b[0m\u001b[0merrorbar\u001b[0m\u001b[1;33m(\u001b[0m\u001b[0ma\u001b[0m\u001b[1;33m[\u001b[0m\u001b[1;36m0\u001b[0m\u001b[1;33m]\u001b[0m\u001b[1;33m,\u001b[0m \u001b[0ma\u001b[0m\u001b[1;33m[\u001b[0m\u001b[1;36m1\u001b[0m\u001b[1;33m]\u001b[0m\u001b[1;33m,\u001b[0m \u001b[0mxerr\u001b[0m\u001b[1;33m=\u001b[0m\u001b[1;36m0.2\u001b[0m\u001b[1;33m*\u001b[0m\u001b[1;36m8.6E-5\u001b[0m\u001b[1;33m,\u001b[0m \u001b[0myerr\u001b[0m\u001b[1;33m=\u001b[0m\u001b[1;36m0.3\u001b[0m\u001b[1;33m,\u001b[0m\u001b[0mfmt\u001b[0m\u001b[1;33m=\u001b[0m\u001b[1;34m'ko'\u001b[0m\u001b[1;33m,\u001b[0m\u001b[0mcapsize\u001b[0m\u001b[1;33m=\u001b[0m\u001b[1;36m3\u001b[0m\u001b[1;33m,\u001b[0m \u001b[0melinewidth\u001b[0m\u001b[1;33m=\u001b[0m\u001b[1;36m1\u001b[0m\u001b[1;33m)\u001b[0m\u001b[1;33m\u001b[0m\u001b[0m\n\u001b[1;32m----> 2\u001b[1;33m \u001b[0mplt\u001b[0m\u001b[1;33m.\u001b[0m\u001b[0mloglog\u001b[0m\u001b[1;33m(\u001b[0m\u001b[0mxx\u001b[0m\u001b[1;33m,\u001b[0m\u001b[0mcoef2\u001b[0m\u001b[1;33m*\u001b[0m\u001b[0maa\u001b[0m\u001b[1;33m/\u001b[0m\u001b[1;36m5\u001b[0m\u001b[1;33m*\u001b[0m\u001b[0mnp\u001b[0m\u001b[1;33m.\u001b[0m\u001b[0mpower\u001b[0m\u001b[1;33m(\u001b[0m\u001b[1;36m8.6E-5\u001b[0m\u001b[1;33m*\u001b[0m\u001b[0mxx\u001b[0m\u001b[1;33m,\u001b[0m\u001b[1;33m-\u001b[0m\u001b[1;36m1\u001b[0m\u001b[1;33m/\u001b[0m\u001b[1;36m2\u001b[0m\u001b[1;33m)\u001b[0m\u001b[1;33m)\u001b[0m\u001b[1;33m\u001b[0m\u001b[0m\n\u001b[0m\u001b[0;32m      3\u001b[0m \u001b[0mplt\u001b[0m\u001b[1;33m.\u001b[0m\u001b[0mloglog\u001b[0m\u001b[1;33m(\u001b[0m\u001b[0mxx\u001b[0m\u001b[1;33m,\u001b[0m\u001b[0mcoef2\u001b[0m\u001b[1;33m*\u001b[0m\u001b[0maa\u001b[0m\u001b[1;33m/\u001b[0m\u001b[1;36m5\u001b[0m\u001b[1;33m*\u001b[0m\u001b[0mnp\u001b[0m\u001b[1;33m.\u001b[0m\u001b[0mpower\u001b[0m\u001b[1;33m(\u001b[0m\u001b[1;36m8.6E-5\u001b[0m\u001b[1;33m*\u001b[0m\u001b[0mxx\u001b[0m\u001b[1;33m,\u001b[0m\u001b[1;33m-\u001b[0m\u001b[1;36m1\u001b[0m\u001b[1;33m/\u001b[0m\u001b[1;36m2\u001b[0m\u001b[1;33m)\u001b[0m\u001b[1;33m*\u001b[0m\u001b[0mnp\u001b[0m\u001b[1;33m.\u001b[0m\u001b[0mexp\u001b[0m\u001b[1;33m(\u001b[0m\u001b[1;33m-\u001b[0m\u001b[0mtest2\u001b[0m\u001b[1;33m/\u001b[0m\u001b[0mnp\u001b[0m\u001b[1;33m.\u001b[0m\u001b[0mpower\u001b[0m\u001b[1;33m(\u001b[0m\u001b[1;36m8.6E-5\u001b[0m\u001b[1;33m*\u001b[0m\u001b[0mxx\u001b[0m\u001b[1;33m,\u001b[0m\u001b[1;33m-\u001b[0m\u001b[1;36m1\u001b[0m\u001b[1;33m/\u001b[0m\u001b[1;36m3\u001b[0m\u001b[1;33m)\u001b[0m\u001b[1;33m)\u001b[0m\u001b[1;33m,\u001b[0m\u001b[1;34m'r'\u001b[0m\u001b[1;33m)\u001b[0m\u001b[1;33m\u001b[0m\u001b[0m\n\u001b[0;32m      4\u001b[0m \u001b[0mplt\u001b[0m\u001b[1;33m.\u001b[0m\u001b[0mloglog\u001b[0m\u001b[1;33m(\u001b[0m\u001b[0mnp\u001b[0m\u001b[1;33m.\u001b[0m\u001b[0mexp\u001b[0m\u001b[1;33m(\u001b[0m\u001b[1;33m-\u001b[0m\u001b[0mtest2\u001b[0m\u001b[1;33m/\u001b[0m\u001b[0mnp\u001b[0m\u001b[1;33m.\u001b[0m\u001b[0mpower\u001b[0m\u001b[1;33m(\u001b[0m\u001b[1;36m8.6E-5\u001b[0m\u001b[1;33m*\u001b[0m\u001b[0mxx\u001b[0m\u001b[1;33m,\u001b[0m\u001b[1;33m-\u001b[0m\u001b[1;36m1\u001b[0m\u001b[1;33m/\u001b[0m\u001b[1;36m3\u001b[0m\u001b[1;33m)\u001b[0m\u001b[1;33m)\u001b[0m\u001b[1;33m)\u001b[0m\u001b[1;33m\u001b[0m\u001b[0m\n",
      "\u001b[1;31mNameError\u001b[0m: name 'coef2' is not defined"
     ]
    },
    {
     "data": {
      "image/png": "[encoded data removed]",
      "text/plain": [
       "<matplotlib.figure.Figure at 0x1d6f4278>"
      ]
     },
     "metadata": {},
     "output_type": "display_data"
    }
   ],
   "source": [
    "plt.errorbar(a[0], a[1], xerr=0.2*8.6E-5, yerr=0.3,fmt='ko',capsize=3, elinewidth=1)\n",
    "plt.loglog(xx,coef2*aa/5*np.power(8.6E-5*xx,-1/2))\n",
    "plt.loglog(xx,coef2*aa/5*np.power(8.6E-5*xx,-1/2)*np.exp(-test2/np.power(8.6E-5*xx,-1/3)),'r')\n",
    "plt.loglog(np.exp(-test2/np.power(8.6E-5*xx,-1/3)))"
   ]
  },
  {
   "cell_type": "code",
   "execution_count": null,
   "metadata": {
    "collapsed": false
   },
   "outputs": [],
   "source": [
    "ec2"
   ]
  },
  {
   "cell_type": "code",
   "execution_count": null,
   "metadata": {
    "collapsed": false
   },
   "outputs": [],
   "source": [
    "#Scale factor\n",
    "k1=1\n",
    "k2=1\n",
    "#Shift\n",
    "d=0.005\n",
    "#Points voltage\n",
    "#plt.errorbar(aa[0,0:9]/k1, aa[1,0:9],  yerr=0.3,fmt='ro',capsize=3, elinewidth=1)\n",
    "#plt.errorbar(aa[0,10:19]/k1+d, aa[1,10:19],yerr=0.3,fmt='bo',capsize=3, elinewidth=1)\n",
    "plt.errorbar(finx/k1,finy ,  yerr=0.3,fmt='ro',capsize=3, elinewidth=1)\n",
    "#######\n",
    "#plt.semilogy(xx*8.6E-5,nu*(8.6E-5*xx/(b))*csch(8.6E-5*xx/(ec))*np.sin(b/(2*ec)),'k')\n",
    "#Points temperature\n",
    "#plt.errorbar(a[0]*8.6E-5/k2, a[1], xerr=0.2*8.6E-5, yerr=0.3,fmt='ko',capsize=3, elinewidth=1)\n",
    "#######\n",
    "#visibility\n",
    "v1[0]=16.9\n",
    "#temperature\n",
    "v2[0]=25\n",
    "#######\n",
    "ec=0.04\n",
    "########\n",
    "#voltage\n",
    "b=0.1/k1\n",
    "#Fiе voltage (1/10)\n",
    "plt.plot(xxx/k1,v1[0]*(8.6E-5*v2[0]/(xxx/k1))*csch(8.6E-5*np.pi*v2[0]/(ec))*np.abs(np.sin(xxx/k1/(2*ec))),'--k')\n",
    "#Fit temperature\n",
    "#b=np.linspace(0.01,10, num=100)\n",
    "#for i in xrange(100):\n",
    "#plt.plot(xx*8.6E-5/k2,v1[0]*(8.6E-5*xx/k2/(b))*csch(8.6E-5*xx*np.pi/k2/(ec))*np.abs(np.sin(b/(2*ec))),'k')\n",
    "plt.xlim(0,0.4)\n",
    "plt.ylim(0,3.2)\n",
    "plt.ylabel(\"$\\\\nu$ ($\\\\%$)\", color='k',fontsize=12)\n",
    "plt.xlabel(\"$T$ (mK)\", color='k',fontsize=12)\n",
    "plt.tick_params(direction='in')\n",
    "plt.savefig('D:\\\\stefan1.pdf',bbox_inches='tight', format='pdf',dpi=900)"
   ]
  },
  {
   "cell_type": "code",
   "execution_count": 36,
   "metadata": {
    "collapsed": false
   },
   "outputs": [
    {
     "ename": "NameError",
     "evalue": "name 'k2' is not defined",
     "output_type": "error",
     "traceback": [
      "\u001b[1;31m---------------------------------------------------------------------------\u001b[0m",
      "\u001b[1;31mNameError\u001b[0m                                 Traceback (most recent call last)",
      "\u001b[1;32m<ipython-input-36-5b3901068bf8>\u001b[0m in \u001b[0;36m<module>\u001b[1;34m()\u001b[0m\n\u001b[1;32m----> 1\u001b[1;33m \u001b[0mplt\u001b[0m\u001b[1;33m.\u001b[0m\u001b[0merrorbar\u001b[0m\u001b[1;33m(\u001b[0m\u001b[0ma\u001b[0m\u001b[1;33m[\u001b[0m\u001b[1;36m0\u001b[0m\u001b[1;33m]\u001b[0m\u001b[1;33m*\u001b[0m\u001b[1;36m8.6E-5\u001b[0m\u001b[1;33m/\u001b[0m\u001b[0mk2\u001b[0m\u001b[1;33m,\u001b[0m \u001b[0ma\u001b[0m\u001b[1;33m[\u001b[0m\u001b[1;36m1\u001b[0m\u001b[1;33m]\u001b[0m\u001b[1;33m,\u001b[0m \u001b[0mxerr\u001b[0m\u001b[1;33m=\u001b[0m\u001b[1;36m0.2\u001b[0m\u001b[1;33m*\u001b[0m\u001b[1;36m8.6E-5\u001b[0m\u001b[1;33m,\u001b[0m \u001b[0myerr\u001b[0m\u001b[1;33m=\u001b[0m\u001b[1;36m0.3\u001b[0m\u001b[1;33m,\u001b[0m\u001b[0mfmt\u001b[0m\u001b[1;33m=\u001b[0m\u001b[1;34m'ko'\u001b[0m\u001b[1;33m,\u001b[0m\u001b[0mcapsize\u001b[0m\u001b[1;33m=\u001b[0m\u001b[1;36m3\u001b[0m\u001b[1;33m,\u001b[0m \u001b[0melinewidth\u001b[0m\u001b[1;33m=\u001b[0m\u001b[1;36m1\u001b[0m\u001b[1;33m)\u001b[0m\u001b[1;33m\u001b[0m\u001b[0m\n\u001b[0m",
      "\u001b[1;31mNameError\u001b[0m: name 'k2' is not defined"
     ]
    }
   ],
   "source": [
    "plt.errorbar(a[0]*8.6E-5/k2, a[1], xerr=0.2*8.6E-5, yerr=0.3,fmt='ko',capsize=3, elinewidth=1)"
   ]
  },
  {
   "cell_type": "code",
   "execution_count": 37,
   "metadata": {
    "collapsed": false
   },
   "outputs": [
    {
     "ename": "NameError",
     "evalue": "name 'co' is not defined",
     "output_type": "error",
     "traceback": [
      "\u001b[1;31m---------------------------------------------------------------------------\u001b[0m",
      "\u001b[1;31mNameError\u001b[0m                                 Traceback (most recent call last)",
      "\u001b[1;32m<ipython-input-37-5a78666b9c2b>\u001b[0m in \u001b[0;36m<module>\u001b[1;34m()\u001b[0m\n\u001b[0;32m      2\u001b[0m \u001b[1;33m\u001b[0m\u001b[0m\n\u001b[0;32m      3\u001b[0m \u001b[1;31m#Scale factor\u001b[0m\u001b[1;33m\u001b[0m\u001b[1;33m\u001b[0m\u001b[0m\n\u001b[1;32m----> 4\u001b[1;33m \u001b[0mk1\u001b[0m\u001b[1;33m=\u001b[0m\u001b[0mco\u001b[0m\u001b[1;33m\u001b[0m\u001b[0m\n\u001b[0m\u001b[0;32m      5\u001b[0m \u001b[0mk2\u001b[0m\u001b[1;33m=\u001b[0m\u001b[1;36m1\u001b[0m\u001b[1;33m\u001b[0m\u001b[0m\n\u001b[0;32m      6\u001b[0m \u001b[1;31m#Shift\u001b[0m\u001b[1;33m\u001b[0m\u001b[1;33m\u001b[0m\u001b[0m\n",
      "\u001b[1;31mNameError\u001b[0m: name 'co' is not defined"
     ]
    }
   ],
   "source": [
    "#Ergodic\n",
    "\n",
    "#Scale factor\n",
    "k1=co\n",
    "k2=1\n",
    "#Shift\n",
    "d=0.005\n",
    "#Points voltage\n",
    "#plt.errorbar(aa[0,0:9]/k1, aa[1,0:9],  yerr=0.3,fmt='ro',capsize=3, elinewidth=1)\n",
    "#plt.errorbar(aa[0,10:19]/k1+d, aa[1,10:19],yerr=0.3,fmt='bo',capsize=3, elinewidth=1)\n",
    "#plt.errorbar(finx*co,finy ,  yerr=0.3,fmt='ko',capsize=3, elinewidth=1)\n",
    "#######\n",
    "#plt.semilogy(xx*8.6E-5,nu*(8.6E-5*xx/(b))*csch(8.6E-5*xx/(ec))*np.sin(b/(2*ec)),'k')\n",
    "#Points temperature\n",
    "plt.errorbar(a[0]*8.6E-5/k2, a[1], xerr=0.2*8.6E-5, yerr=0.3,fmt='ko',capsize=3, elinewidth=1)\n",
    "#######\n",
    "#visibility\n",
    "amp=1.4E4\n",
    "#temperature\n",
    "temp0=50\n",
    "#######\n",
    "volt=-10\n",
    "########\n",
    "temp=-10*np.power(8.6E-5,1/2)\n",
    "########\n",
    "#voltage\n",
    "volt0=0.1\n",
    "#Fiе voltage (1/10)\n",
    "#plt.semilogy(xxx/k1,amp*np.exp(volt/k1*np.power(xxx/k1,1/2)+temp*np.power(temp0,1/2)),'k--')\n",
    "#Fit temperature\n",
    "#b=np.linspace(0.01,10, num=100)\n",
    "#for i in xrange(100):\n",
    "plt.semilogy(xx*8.6E-5,amp*np.exp(volt/k1*np.power(volt0/k1,1/2)+temp*np.power(xx,1/2)),'k-')\n",
    "#plt.xlim(0.001,6E-2)\n",
    "#plt.ylim(0.1,10)\n",
    "plt.savefig('D:\\\\stefan4.pdf',bbox_inches='tight', format='pdf',dpi=900)"
   ]
  },
  {
   "cell_type": "code",
   "execution_count": 38,
   "metadata": {
    "collapsed": false
   },
   "outputs": [
    {
     "ename": "NameError",
     "evalue": "name 'co' is not defined",
     "output_type": "error",
     "traceback": [
      "\u001b[1;31m---------------------------------------------------------------------------\u001b[0m",
      "\u001b[1;31mNameError\u001b[0m                                 Traceback (most recent call last)",
      "\u001b[1;32m<ipython-input-38-a95181fadf43>\u001b[0m in \u001b[0;36m<module>\u001b[1;34m()\u001b[0m\n\u001b[0;32m      1\u001b[0m \u001b[1;31m#Scale factor\u001b[0m\u001b[1;33m\u001b[0m\u001b[1;33m\u001b[0m\u001b[0m\n\u001b[1;32m----> 2\u001b[1;33m \u001b[0mk1\u001b[0m\u001b[1;33m=\u001b[0m\u001b[0mco\u001b[0m\u001b[1;33m\u001b[0m\u001b[0m\n\u001b[0m\u001b[0;32m      3\u001b[0m \u001b[0mk2\u001b[0m\u001b[1;33m=\u001b[0m\u001b[1;36m1\u001b[0m\u001b[1;33m\u001b[0m\u001b[0m\n\u001b[0;32m      4\u001b[0m \u001b[1;31m#Shift\u001b[0m\u001b[1;33m\u001b[0m\u001b[1;33m\u001b[0m\u001b[0m\n\u001b[0;32m      5\u001b[0m \u001b[0md\u001b[0m\u001b[1;33m=\u001b[0m\u001b[1;36m0.005\u001b[0m\u001b[1;33m\u001b[0m\u001b[0m\n",
      "\u001b[1;31mNameError\u001b[0m: name 'co' is not defined"
     ]
    }
   ],
   "source": [
    "#Scale factor\n",
    "k1=co\n",
    "k2=1\n",
    "#Shift\n",
    "d=0.005\n",
    "#Points voltage\n",
    "#plt.errorbar(aa[0,0:9]/k1, aa[1,0:9],  yerr=0.3,fmt='ro',capsize=3, elinewidth=1)\n",
    "#plt.errorbar(aa[0,10:19]/k1+d, aa[1,10:19],yerr=0.3,fmt='bo',capsize=3, elinewidth=1)\n",
    "#plt.errorbar(finx*co,finy ,  yerr=0.3,fmt='ko',capsize=3, elinewidth=1)\n",
    "#######\n",
    "#plt.semilogy(xx*8.6E-5,nu*(8.6E-5*xx/(b))*csch(8.6E-5*xx/(ec))*np.sin(b/(2*ec)),'k')\n",
    "#Points temperature\n",
    "plt.errorbar(a[0]*8.6E-5/k2, a[1], xerr=0.2*8.6E-5, yerr=0.3,fmt='ko',capsize=3, elinewidth=1)\n",
    "#######\n",
    "#visibility\n",
    "amp=1.4E4\n",
    "#temperature\n",
    "temp0=50\n",
    "#######\n",
    "volt=-10\n",
    "########\n",
    "temp=-10*np.power(8.6E-5,1/2)\n",
    "########\n",
    "#voltage\n",
    "volt0=0.1\n",
    "#Fiе voltage (1/10)\n",
    "#plt.semilogy(xxx/k1,amp*np.exp(volt/k1*np.power(xxx/k1,1/2)+temp*np.power(temp0,1/2)),'k--')\n",
    "#Fit temperature\n",
    "#b=np.linspace(0.01,10, num=100)\n",
    "#for i in xrange(100):\n",
    "plt.semilogy(xx*8.6E-5,amp*np.exp(volt/k1*np.power(volt0/k1,1/2)+temp*np.power(xx,1/2)),'k-')\n",
    "#plt.xlim(0.001,6E-2)\n",
    "#plt.ylim(0.1,10)\n",
    "plt.savefig('D:\\\\stefan4.pdf',bbox_inches='tight', format='pdf',dpi=900)"
   ]
  },
  {
   "cell_type": "code",
   "execution_count": 39,
   "metadata": {
    "collapsed": false
   },
   "outputs": [
    {
     "ename": "NameError",
     "evalue": "name 'co' is not defined",
     "output_type": "error",
     "traceback": [
      "\u001b[1;31m---------------------------------------------------------------------------\u001b[0m",
      "\u001b[1;31mNameError\u001b[0m                                 Traceback (most recent call last)",
      "\u001b[1;32m<ipython-input-39-7f984eb5b896>\u001b[0m in \u001b[0;36m<module>\u001b[1;34m()\u001b[0m\n\u001b[0;32m      1\u001b[0m \u001b[1;31m#Scale factor\u001b[0m\u001b[1;33m\u001b[0m\u001b[1;33m\u001b[0m\u001b[0m\n\u001b[1;32m----> 2\u001b[1;33m \u001b[0mk1\u001b[0m\u001b[1;33m=\u001b[0m\u001b[0mco\u001b[0m\u001b[1;33m\u001b[0m\u001b[0m\n\u001b[0m\u001b[0;32m      3\u001b[0m \u001b[0mk2\u001b[0m\u001b[1;33m=\u001b[0m\u001b[1;36m1\u001b[0m\u001b[1;33m\u001b[0m\u001b[0m\n\u001b[0;32m      4\u001b[0m \u001b[1;31m#Shift\u001b[0m\u001b[1;33m\u001b[0m\u001b[1;33m\u001b[0m\u001b[0m\n\u001b[0;32m      5\u001b[0m \u001b[0md\u001b[0m\u001b[1;33m=\u001b[0m\u001b[1;36m0.005\u001b[0m\u001b[1;33m\u001b[0m\u001b[0m\n",
      "\u001b[1;31mNameError\u001b[0m: name 'co' is not defined"
     ]
    }
   ],
   "source": [
    "#Scale factor\n",
    "k1=co\n",
    "k2=1\n",
    "#Shift\n",
    "d=0.005\n",
    "#Points voltage\n",
    "#plt.errorbar(aa[0,0:9]/k1, aa[1,0:9],  yerr=0.3,fmt='ro',capsize=3, elinewidth=1)\n",
    "#plt.errorbar(aa[0,10:19]/k1+d, aa[1,10:19],yerr=0.3,fmt='bo',capsize=3, elinewidth=1)\n",
    "#plt.errorbar(aa[0,0:10]/k1,(fin[0:10]+aa[1,0:10])/2 ,  yerr=0.3,fmt='ko',capsize=3, elinewidth=1)\n",
    "#######\n",
    "#plt.semilogy(xx*8.6E-5,nu*(8.6E-5*xx/(b))*csch(8.6E-5*xx/(ec))*np.sin(b/(2*ec)),'k')\n",
    "#Points temperature\n",
    "plt.errorbar(a[0]*8.6E-5/k2, a[1], xerr=0.2*8.6E-5, yerr=0.3,fmt='ko',capsize=3, elinewidth=1)\n",
    "#######\n",
    "#visibility\n",
    "amp2=3.4\n",
    "#temperature\n",
    "temp02=50\n",
    "#######\n",
    "volt2=-2E-1\n",
    "########\n",
    "temp2=-2E-1*np.power(8.6E-5,2)\n",
    "########\n",
    "#voltage\n",
    "volt02=0.1\n",
    "#Fiе voltage (1/10)\n",
    "#plt.plot(xxx/k1,amp2*np.exp(volt2/k1*np.power(xxx/k1,2)+temp2*np.power(temp02,2)),'k--')\n",
    "#Fit temperature\n",
    "#b=np.linspace(0.01,10, num=100)\n",
    "#for i in xrange(100):\n",
    "plt.plot(xx*8.6E-5,amp2*np.exp(volt2/k1*np.power(volt02/k1,2)+temp2*np.power(xx,2)),'k-')\n",
    "#plt.xlim(0.001,6E-2)\n",
    "#plt.ylim(0.1,10)\n",
    "plt.savefig('D:\\\\stefan4.pdf',bbox_inches='tight', format='pdf',dpi=900)"
   ]
  },
  {
   "cell_type": "code",
   "execution_count": 40,
   "metadata": {
    "collapsed": false
   },
   "outputs": [
    {
     "ename": "NameError",
     "evalue": "name 'amp' is not defined",
     "output_type": "error",
     "traceback": [
      "\u001b[1;31m---------------------------------------------------------------------------\u001b[0m",
      "\u001b[1;31mNameError\u001b[0m                                 Traceback (most recent call last)",
      "\u001b[1;32m<ipython-input-40-5854126aa3ac>\u001b[0m in \u001b[0;36m<module>\u001b[1;34m()\u001b[0m\n\u001b[0;32m      3\u001b[0m \u001b[1;31m#plt.plot(xx,vis*(8.6E-5*xx/(vol*co))*csch(8.6E-5*xx*np.pi/(ec))*np.abs(np.sin(vol*co/(2*ec))),'k')\u001b[0m\u001b[1;33m\u001b[0m\u001b[1;33m\u001b[0m\u001b[0m\n\u001b[0;32m      4\u001b[0m \u001b[1;31m#plt.plot(xx,v1[0]*(8.6E-5*xx/k2/(b))*csch(8.6E-5*np.pi*xx/k2/(ec))*np.sin(b/(2*ec)),'k')\u001b[0m\u001b[1;33m\u001b[0m\u001b[1;33m\u001b[0m\u001b[0m\n\u001b[1;32m----> 5\u001b[1;33m \u001b[0mplt\u001b[0m\u001b[1;33m.\u001b[0m\u001b[0mplot\u001b[0m\u001b[1;33m(\u001b[0m\u001b[0mxx\u001b[0m\u001b[1;33m,\u001b[0m\u001b[0mamp\u001b[0m\u001b[1;33m*\u001b[0m\u001b[0mnp\u001b[0m\u001b[1;33m.\u001b[0m\u001b[0mexp\u001b[0m\u001b[1;33m(\u001b[0m\u001b[0mvolt\u001b[0m\u001b[1;33m/\u001b[0m\u001b[0mk1\u001b[0m\u001b[1;33m*\u001b[0m\u001b[0mnp\u001b[0m\u001b[1;33m.\u001b[0m\u001b[0mpower\u001b[0m\u001b[1;33m(\u001b[0m\u001b[0mvolt0\u001b[0m\u001b[1;33m/\u001b[0m\u001b[0mk1\u001b[0m\u001b[1;33m,\u001b[0m\u001b[1;36m1\u001b[0m\u001b[1;33m/\u001b[0m\u001b[1;36m2\u001b[0m\u001b[1;33m)\u001b[0m\u001b[1;33m+\u001b[0m\u001b[0mtemp\u001b[0m\u001b[1;33m*\u001b[0m\u001b[0mnp\u001b[0m\u001b[1;33m.\u001b[0m\u001b[0mpower\u001b[0m\u001b[1;33m(\u001b[0m\u001b[0mxx\u001b[0m\u001b[1;33m,\u001b[0m\u001b[1;36m1\u001b[0m\u001b[1;33m/\u001b[0m\u001b[1;36m2\u001b[0m\u001b[1;33m)\u001b[0m\u001b[1;33m)\u001b[0m\u001b[1;33m,\u001b[0m\u001b[1;34m'r'\u001b[0m\u001b[1;33m)\u001b[0m\u001b[1;33m\u001b[0m\u001b[0m\n\u001b[0m\u001b[0;32m      6\u001b[0m \u001b[0mplt\u001b[0m\u001b[1;33m.\u001b[0m\u001b[0mplot\u001b[0m\u001b[1;33m(\u001b[0m\u001b[0mxx\u001b[0m\u001b[1;33m,\u001b[0m\u001b[0mamp2\u001b[0m\u001b[1;33m*\u001b[0m\u001b[0mnp\u001b[0m\u001b[1;33m.\u001b[0m\u001b[0mexp\u001b[0m\u001b[1;33m(\u001b[0m\u001b[0mvolt2\u001b[0m\u001b[1;33m/\u001b[0m\u001b[0mk1\u001b[0m\u001b[1;33m*\u001b[0m\u001b[0mnp\u001b[0m\u001b[1;33m.\u001b[0m\u001b[0mpower\u001b[0m\u001b[1;33m(\u001b[0m\u001b[0mvolt02\u001b[0m\u001b[1;33m/\u001b[0m\u001b[0mk1\u001b[0m\u001b[1;33m,\u001b[0m\u001b[1;36m2\u001b[0m\u001b[1;33m)\u001b[0m\u001b[1;33m+\u001b[0m\u001b[0mtemp2\u001b[0m\u001b[1;33m*\u001b[0m\u001b[0mnp\u001b[0m\u001b[1;33m.\u001b[0m\u001b[0mpower\u001b[0m\u001b[1;33m(\u001b[0m\u001b[0mxx\u001b[0m\u001b[1;33m,\u001b[0m\u001b[1;36m2\u001b[0m\u001b[1;33m)\u001b[0m\u001b[1;33m)\u001b[0m\u001b[1;33m,\u001b[0m\u001b[1;34m'b'\u001b[0m\u001b[1;33m)\u001b[0m\u001b[1;33m\u001b[0m\u001b[0m\n\u001b[0;32m      7\u001b[0m \u001b[0mplt\u001b[0m\u001b[1;33m.\u001b[0m\u001b[0merrorbar\u001b[0m\u001b[1;33m(\u001b[0m\u001b[0ma\u001b[0m\u001b[1;33m[\u001b[0m\u001b[1;36m0\u001b[0m\u001b[1;33m]\u001b[0m\u001b[1;33m,\u001b[0m \u001b[0ma\u001b[0m\u001b[1;33m[\u001b[0m\u001b[1;36m1\u001b[0m\u001b[1;33m]\u001b[0m\u001b[1;33m,\u001b[0m \u001b[0mxerr\u001b[0m\u001b[1;33m=\u001b[0m\u001b[1;36m0.2\u001b[0m\u001b[1;33m,\u001b[0m \u001b[0myerr\u001b[0m\u001b[1;33m=\u001b[0m\u001b[1;36m0.3\u001b[0m\u001b[1;33m,\u001b[0m\u001b[0mfmt\u001b[0m\u001b[1;33m=\u001b[0m\u001b[1;34m'ko'\u001b[0m\u001b[1;33m,\u001b[0m\u001b[0mcapsize\u001b[0m\u001b[1;33m=\u001b[0m\u001b[1;36m3\u001b[0m\u001b[1;33m,\u001b[0m \u001b[0melinewidth\u001b[0m\u001b[1;33m=\u001b[0m\u001b[1;36m1\u001b[0m\u001b[1;33m)\u001b[0m\u001b[1;33m\u001b[0m\u001b[0m\n",
      "\u001b[1;31mNameError\u001b[0m: name 'amp' is not defined"
     ]
    }
   ],
   "source": [
    "#xx=np.linspace(0, 700, num=1000)\n",
    "\n",
    "#plt.plot(xx,vis*(8.6E-5*xx/(vol*co))*csch(8.6E-5*xx*np.pi/(ec))*np.abs(np.sin(vol*co/(2*ec))),'k')\n",
    "#plt.plot(xx,v1[0]*(8.6E-5*xx/k2/(b))*csch(8.6E-5*np.pi*xx/k2/(ec))*np.sin(b/(2*ec)),'k')\n",
    "plt.plot(xx,amp*np.exp(volt/k1*np.power(volt0/k1,1/2)+temp*np.power(xx,1/2)),'r')\n",
    "plt.plot(xx,amp2*np.exp(volt2/k1*np.power(volt02/k1,2)+temp2*np.power(xx,2)),'b')\n",
    "plt.errorbar(a[0], a[1], xerr=0.2, yerr=0.3,fmt='ko',capsize=3, elinewidth=1)\n",
    "plt.ylim(0,4)\n",
    "#plt.plot(x3[1:26],(-1/m4[1:26]/0.05),'-or')\n",
    "plt.ylim(0,3)\n",
    "plt.xlim(0,550)\n",
    "plt.ylabel(\"$\\\\nu$ ($\\\\%$)\", color='k',fontsize=12)\n",
    "plt.xlabel(\"$T$ (mK)\", color='k',fontsize=12)\n",
    "plt.tick_params(direction='in')\n",
    "plt.savefig('D:\\\\temp_final.pdf',bbox_inches='tight', format='pdf',dpi=900)"
   ]
  },
  {
   "cell_type": "code",
   "execution_count": 41,
   "metadata": {
    "collapsed": false
   },
   "outputs": [
    {
     "ename": "TypeError",
     "evalue": "'float' object has no attribute '__getitem__'",
     "output_type": "error",
     "traceback": [
      "\u001b[1;31m---------------------------------------------------------------------------\u001b[0m",
      "\u001b[1;31mTypeError\u001b[0m                                 Traceback (most recent call last)",
      "\u001b[1;32m<ipython-input-41-5964e14d3d89>\u001b[0m in \u001b[0;36m<module>\u001b[1;34m()\u001b[0m\n\u001b[0;32m      1\u001b[0m \u001b[0mfin\u001b[0m\u001b[1;33m=\u001b[0m\u001b[0mnp\u001b[0m\u001b[1;33m.\u001b[0m\u001b[0mlinspace\u001b[0m\u001b[1;33m(\u001b[0m\u001b[1;36m0\u001b[0m\u001b[1;33m,\u001b[0m \u001b[1;36m0\u001b[0m\u001b[1;33m,\u001b[0m \u001b[0mnum\u001b[0m\u001b[1;33m=\u001b[0m\u001b[1;36m10\u001b[0m\u001b[1;33m)\u001b[0m\u001b[1;33m\u001b[0m\u001b[0m\n\u001b[0;32m      2\u001b[0m \u001b[1;32mfor\u001b[0m \u001b[0mi\u001b[0m \u001b[1;32min\u001b[0m \u001b[0mxrange\u001b[0m\u001b[1;33m(\u001b[0m\u001b[1;36m10\u001b[0m\u001b[1;33m)\u001b[0m\u001b[1;33m:\u001b[0m\u001b[1;33m\u001b[0m\u001b[0m\n\u001b[1;32m----> 3\u001b[1;33m     \u001b[0mfin\u001b[0m\u001b[1;33m[\u001b[0m\u001b[1;36m10\u001b[0m\u001b[1;33m-\u001b[0m\u001b[0mi\u001b[0m\u001b[1;33m]\u001b[0m\u001b[1;33m=\u001b[0m\u001b[0maa\u001b[0m\u001b[1;33m[\u001b[0m\u001b[1;36m1\u001b[0m\u001b[1;33m,\u001b[0m\u001b[1;36m19\u001b[0m\u001b[1;33m-\u001b[0m\u001b[0mi\u001b[0m\u001b[1;33m]\u001b[0m\u001b[1;33m\u001b[0m\u001b[0m\n\u001b[0m",
      "\u001b[1;31mTypeError\u001b[0m: 'float' object has no attribute '__getitem__'"
     ]
    }
   ],
   "source": [
    "fin=np.linspace(0, 0, num=10)\n",
    "for i in xrange(10):\n",
    "    fin[10-i]=aa[1,19-i]"
   ]
  },
  {
   "cell_type": "code",
   "execution_count": null,
   "metadata": {
    "collapsed": false
   },
   "outputs": [],
   "source": [
    "fin"
   ]
  },
  {
   "cell_type": "code",
   "execution_count": null,
   "metadata": {
    "collapsed": false
   },
   "outputs": [],
   "source": [
    "k1=co\n",
    "#plt.tick_params(direction='in', labeltop=False, labelbottom=True, bottom=True,labelleft=False, top=True,left=True, labelright=False, right=False)\n",
    "xxx=np.linspace(0, 0.4, num=1000)\n",
    "#plt.plot(xxx/k1,v1[0]*(8.6E-5*v2[0]/(xxx/k1))*csch(8.6E-5*np.pi*v2[0]/(ec))*np.abs(np.sin(xxx/k1/(2*ec))),'--k')\n",
    "plt.errorbar(finx*co,finy ,  yerr=0.3,fmt='ro',capsize=3, elinewidth=1)\n",
    "plt.plot(xxx*co,vis*(8.6E-5*tem/(xxx*co))*csch(8.6E-5*np.pi*tem/(ec))*np.abs(np.sin(xxx*co/(2*ec))),'--k')\n",
    "#######\n",
    "\n",
    "plt.plot(xxx*co,amp*np.exp(volt/k1*np.power(xxx/k1,1/2)+temp*np.power(temp0,1/2)),'r')\n",
    "plt.plot(xxx*co,amp2*np.exp(volt2/k1*np.power(xxx/k1,2)+temp2*np.power(temp02,2)),'b')\n",
    "#plt.errorbar(aa[0,0:10]/k1, aa[1,0:10],yerr=0.3,fmt='ro',capsize=3, elinewidth=1)\n",
    "#plt.errorbar(aa[0,10:20]/k1,aa[1,10:20] ,  yerr=0.3,fmt='bo',capsize=3, elinewidth=1)\n",
    "#plt.errorbar(finx/k1,finy ,  yerr=0.3,fmt='ko',capsize=3, elinewidth=1)\n",
    "plt.ylim(0,3)\n",
    "#plt.xlim(0,0.05)\n",
    "#plt.ylabel(\"$\\\\nu$ ($\\\\%$)\", color='k',fontsize=12)\n",
    "plt.ylabel(\"$\\\\nu$ ($\\\\%$)\", color='k',fontsize=12)\n",
    "plt.xlabel(\"$V$ (mV)\", color='k',fontsize=12)\n",
    "red_patch = mlines.Line2D([], [], color='red', marker='o',\n",
    "                          markersize=4, label='$V_t=-3\\,$V')\n",
    "blue_patch = mlines.Line2D([], [], color='blue', marker='o',\n",
    "                          markersize=4,label='$-2.5\\,$V')\n",
    "black_patch = mlines.Line2D([], [], color='black', marker='o',\n",
    "                          markersize=4,label='$-2\\,$V')\n",
    "\n",
    "plt.savefig('D:\\\\volt_final.pdf',bbox_inches='tight', format='pdf',dpi=900)"
   ]
  },
  {
   "cell_type": "code",
   "execution_count": null,
   "metadata": {
    "collapsed": true
   },
   "outputs": [],
   "source": []
  },
  {
   "cell_type": "code",
   "execution_count": null,
   "metadata": {
    "collapsed": true
   },
   "outputs": [],
   "source": []
  },
  {
   "cell_type": "code",
   "execution_count": null,
   "metadata": {
    "collapsed": true
   },
   "outputs": [],
   "source": []
  },
  {
   "cell_type": "code",
   "execution_count": null,
   "metadata": {
    "collapsed": true
   },
   "outputs": [],
   "source": []
  }
 ],
 "metadata": {
  "kernelspec": {
   "display_name": "Python 2",
   "language": "python",
   "name": "python2"
  },
  "language_info": {
   "codemirror_mode": {
    "name": "ipython",
    "version": 2
   },
   "file_extension": ".py",
   "mimetype": "text/x-python",
   "name": "python",
   "nbconvert_exporter": "python",
   "pygments_lexer": "ipython2",
   "version": "2.7.13"
  }
 },
 "nbformat": 4,
 "nbformat_minor": 0
}
