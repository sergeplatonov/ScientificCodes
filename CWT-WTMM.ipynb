{
 "cells": [
  {
   "cell_type": "code",
   "execution_count": 34,
   "metadata": {
    "collapsed": false
   },
   "outputs": [],
   "source": [
    "import numpy as NP\n",
    "\n",
    "\"\"\"\n",
    "A module which implements the continuous wavelet transform\n",
    "\n",
    "---------------------------------------------------------\n",
    "Code released under the BSD 3-clause licence.\n",
    "\n",
    "Copyright (c) 2012, R W Fearick, University of Cape Town\n",
    "All rights reserved.\n",
    "\n",
    "Redistribution and use in source and binary forms, with or without modification, are permitted provided that the following conditions are met:\n",
    "\n",
    "    * Redistributions of source code must retain the above copyright notice, this list of conditions and the following disclaimer.\n",
    "    * Redistributions in binary form must reproduce the above copyright notice, this list of conditions and the following disclaimer in the documentation and/or other materials provided with the distribution.\n",
    "    * Neither the name of the University of Cape Town nor the names of its contributors may be used to endorse or promote products derived from this software without specific prior written permission.\n",
    "\n",
    "THIS SOFTWARE IS PROVIDED BY THE COPYRIGHT HOLDERS AND CONTRIBUTORS \"AS IS\" AND ANY EXPRESS OR IMPLIED WARRANTIES, INCLUDING, BUT NOT LIMITED TO, THE IMPLIED WARRANTIES OF MERCHANTABILITY AND FITNESS FOR A PARTICULAR PURPOSE ARE DISCLAIMED. IN NO EVENT SHALL THE COPYRIGHT HOLDER OR CONTRIBUTORS BE LIABLE FOR ANY DIRECT, INDIRECT, INCIDENTAL, SPECIAL, EXEMPLARY, OR CONSEQUENTIAL DAMAGES (INCLUDING, BUT NOT LIMITED TO, PROCUREMENT OF SUBSTITUTE GOODS OR SERVICES; LOSS OF USE, DATA, OR PROFITS; OR BUSINESS INTERRUPTION) HOWEVER CAUSED AND ON ANY THEORY OF LIABILITY, WHETHER IN CONTRACT, STRICT LIABILITY, OR TORT (INCLUDING NEGLIGENCE OR OTHERWISE) ARISING IN ANY WAY OUT OF THE USE OF THIS SOFTWARE, EVEN IF ADVISED OF THE POSSIBILITY OF SUCH DAMAGE.\n",
    "---------------------------------------------------------\n",
    "\n",
    "Wavelet classes:\n",
    "Morlet\n",
    "MorletReal\n",
    "MexicanHat\n",
    "Paul2      : Paul order 2\n",
    "Paul4      : Paul order 4\n",
    "DOG1       : 1st Derivative Of Gaussian\n",
    "DOG4       : 4th Derivative Of Gaussian\n",
    "Haar       : Unnormalised version of continuous Haar transform\n",
    "HaarW      : Normalised Haar\n",
    "\n",
    "Usage e.g.\n",
    "wavelet=Morlet(data, largestscale=2, notes=0, order=2, scaling=\"log\")\n",
    " data:  Numeric array of data (float), with length ndata.\n",
    "        Optimum length is a power of 2 (for FFT)\n",
    "        Worst-case length is a prime\n",
    " largestscale:\n",
    "        largest scale as inverse fraction of length\n",
    "        scale = len(data)/largestscale\n",
    "        smallest scale should be >= 2 for meaningful data\n",
    " notes: number of scale intervals per octave\n",
    "        if notes == 0, scales are on a linear increment\n",
    " order: order of wavelet for wavelets with variable order\n",
    "        [Paul, DOG, ..]\n",
    " scaling: \"linear\" or \"log\" scaling of the wavelet scale.\n",
    "        Note that feature width in the scale direction\n",
    "        is constant on a log scale.\n",
    "        \n",
    "Attributes of instance:\n",
    "wavelet.cwt:       2-d array of Wavelet coefficients, (nscales,ndata)\n",
    "wavelet.nscale:    Number of scale intervals\n",
    "wavelet.scales:    Array of scale values\n",
    "                   Note that meaning of the scale will depend on the family\n",
    "wavelet.fourierwl: Factor to multiply scale by to get scale\n",
    "                   of equivalent FFT\n",
    "                   Using this factor, different wavelet families will\n",
    "                   have comparable scales\n",
    "\n",
    "References:\n",
    "A practical guide to wavelet analysis\n",
    "C Torrance and GP Compo\n",
    "Bull Amer Meteor Soc Vol 79 No 1 61-78 (1998)\n",
    "naming below vaguely follows this.\n",
    "\n",
    "updates:\n",
    "(24/2/07):  Fix Morlet so can get MorletReal by cutting out H\n",
    "(10/04/08): Numeric -> numpy\n",
    "(25/07/08): log and lin scale increment in same direction!\n",
    "            swap indices in 2-d coeffiecient matrix\n",
    "            explicit scaling of scale axis\n",
    "\"\"\"\n",
    "\n",
    "class Cwt:\n",
    "    \"\"\"\n",
    "    Base class for continuous wavelet transforms\n",
    "    Implements cwt via the Fourier transform\n",
    "    Used by subclass which provides the method wf(self,s_omega)\n",
    "    wf is the Fourier transform of the wavelet function.\n",
    "    Returns an instance.\n",
    "    \"\"\"\n",
    "\n",
    "    fourierwl=1.00\n",
    "\n",
    "    def _log2(self, x):\n",
    "        # utility function to return (integer) log2\n",
    "        return int( NP.log(float(x))/ NP.log(2.0)+0.0001 )\n",
    "\n",
    "    def __init__(self, data, largestscale=1, notes=0, order=2, scaling='linear'):\n",
    "        \"\"\"\n",
    "        Continuous wavelet transform of data\n",
    "\n",
    "        data:    data in array to transform, length must be power of 2\n",
    "        notes:   number of scale intervals per octave\n",
    "        largestscale: largest scale as inverse fraction of length\n",
    "                 of data array\n",
    "                 scale = len(data)/largestscale\n",
    "                 smallest scale should be >= 2 for meaningful data\n",
    "        order:   Order of wavelet basis function for some families\n",
    "        scaling: Linear or log\n",
    "        \"\"\"\n",
    "        ndata = len(data)\n",
    "        self.order=order\n",
    "        self.scale=largestscale\n",
    "        self._setscales(ndata,largestscale,notes,scaling)\n",
    "        self.cwt= NP.zeros((self.nscale,ndata), NP.complex64)\n",
    "        omega= NP.array(range(0,ndata/2)+range(-ndata/2,0))*(2.0*NP.pi/ndata)\n",
    "        datahat=NP.fft.fft(data)\n",
    "        self.fftdata=datahat\n",
    "        #self.psihat0=self.wf(omega*self.scales[3*self.nscale/4])\n",
    "        # loop over scales and compute wvelet coeffiecients at each scale\n",
    "        # using the fft to do the convolution\n",
    "        for scaleindex in range(self.nscale):\n",
    "            currentscale=self.scales[scaleindex]\n",
    "            self.currentscale=currentscale  # for internal use\n",
    "            s_omega = omega*currentscale\n",
    "            psihat=self.wf(s_omega)\n",
    "            psihat = psihat *  NP.sqrt(2.0*NP.pi*currentscale)\n",
    "            convhat = psihat * datahat\n",
    "            W    = NP.fft.ifft(convhat)\n",
    "            self.cwt[scaleindex,0:ndata] = W \n",
    "        return\n",
    "    \n",
    "    def _setscales(self,ndata,largestscale,notes,scaling):\n",
    "        \"\"\"\n",
    "        if notes non-zero, returns a log scale based on notes per ocave\n",
    "        else a linear scale\n",
    "        (25/07/08): fix notes!=0 case so smallest scale at [0]\n",
    "        \"\"\"\n",
    "        if scaling==\"log\":\n",
    "            if notes<=0: notes=1 \n",
    "            # adjust nscale so smallest scale is 2 \n",
    "            noctave=self._log2( ndata/largestscale/2 )\n",
    "            self.nscale=notes*noctave\n",
    "            self.scales=NP.zeros(self.nscale,float)\n",
    "            for j in range(self.nscale):\n",
    "                self.scales[j] = ndata/(self.scale*(2.0**(float(self.nscale-1-j)/notes)))\n",
    "        elif scaling==\"linear\":\n",
    "            nmax=ndata/largestscale/2\n",
    "            self.scales=NP.arange(float(2),float(nmax))\n",
    "            self.nscale=len(self.scales)\n",
    "        else: raise ValueError, \"scaling must be linear or log\"\n",
    "        return\n",
    "    \n",
    "    def getdata(self):\n",
    "        \"\"\"\n",
    "        returns wavelet coefficient array\n",
    "        \"\"\"\n",
    "        return self.cwt\n",
    "    def getcoefficients(self):\n",
    "        return self.cwt\n",
    "    def getpower(self):\n",
    "        \"\"\"\n",
    "        returns square of wavelet coefficient array\n",
    "        \"\"\"\n",
    "        return (self.cwt* NP.conjugate(self.cwt)).real\n",
    "    def getscales(self):\n",
    "        \"\"\"\n",
    "        returns array containing scales used in transform\n",
    "        \"\"\"\n",
    "        return self.scales\n",
    "    def getnscale(self):\n",
    "        \"\"\"\n",
    "        return number of scales\n",
    "        \"\"\"\n",
    "        return self.nscale\n",
    "\n",
    "# wavelet classes    \n",
    "class Morlet(Cwt):\n",
    "    \"\"\"\n",
    "    Morlet wavelet\n",
    "    \"\"\"\n",
    "    _omega0=5.0\n",
    "    fourierwl=4* NP.pi/(_omega0+ NP.sqrt(2.0+_omega0**2))\n",
    "    def wf(self, s_omega):\n",
    "        H= NP.ones(len(s_omega))\n",
    "        n=len(s_omega)\n",
    "        for i in range(len(s_omega)):\n",
    "            if s_omega[i] < 0.0: H[i]=0.0\n",
    "        # !!!! note : was s_omega/8 before 17/6/03\n",
    "        xhat=0.75112554*( NP.exp(-(s_omega-self._omega0)**2/2.0))*H\n",
    "        return xhat\n",
    "\n",
    "class MorletReal(Cwt):\n",
    "    \"\"\"\n",
    "    Real Morlet wavelet\n",
    "    \"\"\"\n",
    "    _omega0=5.0\n",
    "    fourierwl=4* NP.pi/(_omega0+ NP.sqrt(2.0+_omega0**2))\n",
    "    def wf(self, s_omega):\n",
    "        H= NP.ones(len(s_omega))\n",
    "        n=len(s_omega)\n",
    "        for i in range(len(s_omega)):\n",
    "            if s_omega[i] < 0.0: H[i]=0.0\n",
    "        # !!!! note : was s_omega/8 before 17/6/03\n",
    "        xhat=0.75112554*( NP.exp(-(s_omega-self._omega0)**2/2.0)+ NP.exp(-(s_omega+self._omega0)**2/2.0)- NP.exp(-(self._omega0)**2/2.0)+ NP.exp(-(self._omega0)**2/2.0))\n",
    "        return xhat\n",
    "    \n",
    "class Paul4(Cwt):\n",
    "    \"\"\"\n",
    "    Paul m=4 wavelet\n",
    "    \"\"\"\n",
    "    fourierwl=4* NP.pi/(2.*4+1.)\n",
    "    def wf(self, s_omega):\n",
    "        n=len(s_omega)\n",
    "        xhat= NP.zeros(n)\n",
    "        xhat[0:n/2]=0.11268723*s_omega[0:n/2]**4* NP.exp(-s_omega[0:n/2])\n",
    "        #return 0.11268723*s_omega**2*exp(-s_omega)*H\n",
    "        return xhat\n",
    "\n",
    "class Paul2(Cwt):\n",
    "    \"\"\"\n",
    "    Paul m=2 wavelet\n",
    "    \"\"\"\n",
    "    fourierwl=4* NP.pi/(2.*2+1.)\n",
    "    def wf(self, s_omega):\n",
    "        n=len(s_omega)\n",
    "        xhat= NP.zeros(n)\n",
    "        xhat[0:n/2]=1.1547005*s_omega[0:n/2]**2* NP.exp(-s_omega[0:n/2])\n",
    "        #return 0.11268723*s_omega**2*exp(-s_omega)*H\n",
    "        return xhat\n",
    "\n",
    "class Paul(Cwt):\n",
    "    \"\"\"\n",
    "    Paul order m wavelet\n",
    "    \"\"\"\n",
    "    def wf(self, s_omega):\n",
    "        Cwt.fourierwl=4* NP.pi/(2.*self.order+1.)\n",
    "        m=self.order\n",
    "        n=len(s_omega)\n",
    "        normfactor=float(m)\n",
    "        for i in range(1,2*m):\n",
    "            normfactor=normfactor*i\n",
    "        normfactor=2.0**m/ NP.sqrt(normfactor)\n",
    "        xhat= NP.zeros(n)\n",
    "        xhat[0:n/2]=normfactor*s_omega[0:n/2]**m* NP.exp(-s_omega[0:n/2])\n",
    "        #return 0.11268723*s_omega**2*exp(-s_omega)*H\n",
    "        return xhat\n",
    "\n",
    "class MexicanHat(Cwt):\n",
    "    \"\"\"\n",
    "    2nd Derivative Gaussian (mexican hat) wavelet\n",
    "    \"\"\"\n",
    "    fourierwl=2.0* NP.pi/ NP.sqrt(2.5)\n",
    "    def wf(self, s_omega):\n",
    "        # should this number be 1/sqrt(3/4) (no pi)?\n",
    "        #s_omega = s_omega/self.fourierwl\n",
    "        #print max(s_omega)\n",
    "        a=s_omega**2\n",
    "        b=s_omega**2/2\n",
    "        return a* NP.exp(-b)/1.1529702\n",
    "        #return s_omega**2*exp(-s_omega**2/2.0)/1.1529702\n",
    "\n",
    "class DOG4(Cwt):\n",
    "    \"\"\"\n",
    "    4th Derivative Gaussian wavelet\n",
    "    see also T&C errata for - sign\n",
    "    but reconstruction seems to work best with +!\n",
    "    \"\"\"\n",
    "    fourierwl=2.0* NP.pi/ NP.sqrt(4.5)\n",
    "    def wf(self, s_omega):\n",
    "        return s_omega**4* NP.exp(-s_omega**2/2.0)/3.4105319\n",
    "\n",
    "class DOG1(Cwt):\n",
    "    \"\"\"\n",
    "    1st Derivative Gaussian wavelet\n",
    "    but reconstruction seems to work best with +!\n",
    "    \"\"\"\n",
    "    fourierwl=2.0* NP.pi/ NP.sqrt(1.5)\n",
    "    def wf(self, s_omega):\n",
    "        dog1= NP.zeros(len(s_omega),np.complex64)\n",
    "        dog1.imag=s_omega* NP.exp(-s_omega**2/2.0)/sqrt(pi)\n",
    "        return dog1\n",
    "\n",
    "class DOG(Cwt):\n",
    "    \"\"\"\n",
    "    Derivative Gaussian wavelet of order m\n",
    "    but reconstruction seems to work best with +!\n",
    "    \"\"\"\n",
    "    def wf(self, s_omega):\n",
    "        try:\n",
    "            from scipy.special import gamma\n",
    "        except ImportError:\n",
    "            print \"Requires scipy gamma function\"\n",
    "            raise ImportError\n",
    "        Cwt.fourierwl=2* NP.pi/ NP.sqrt(self.order+0.5)\n",
    "        m=self.order\n",
    "        dog=1.0J**m*s_omega**m* NP.exp(-s_omega**2/2)/ NP.sqrt(gamma(self.order+0.5))\n",
    "        return dog\n",
    "\n",
    "class Haar(Cwt):\n",
    "    \"\"\"\n",
    "    Continuous version of Haar wavelet\n",
    "    \"\"\"\n",
    "    #    note: not orthogonal!\n",
    "    #    note: s_omega/4 matches Lecroix scale defn.\n",
    "    #          s_omega/2 matches orthogonal Haar\n",
    "    # 2/8/05 constants adjusted to match artem eim\n",
    "\n",
    "    fourierwl=1.0#1.83129  #2.0\n",
    "    def wf(self, s_omega):\n",
    "        haar= NP.zeros(len(s_omega),np.complex64)\n",
    "        om = s_omega[:]/self.currentscale\n",
    "        om[0]=1.0  #prevent divide error\n",
    "        #haar.imag=4.0*sin(s_omega/2)**2/om\n",
    "        haar.imag=4.0* NP.sin(s_omega/4)**2/om\n",
    "        return haar\n",
    "\n",
    "class HaarW(Cwt):\n",
    "    \"\"\"\n",
    "    Continuous version of Haar wavelet (norm)\n",
    "    \"\"\"\n",
    "    #    note: not orthogonal!\n",
    "    #    note: s_omega/4 matches Lecroix scale defn.\n",
    "    #          s_omega/2 matches orthogonal Haar\n",
    "    # normalised to unit power\n",
    "\n",
    "    fourierwl=1.83129*1.2  #2.0\n",
    "    def wf(self, s_omega):\n",
    "        haar= NP.zeros(len(s_omega),np.complex64)\n",
    "        om = s_omega[:]#/self.currentscale\n",
    "        om[0]=1.0  #prevent divide error\n",
    "        #haar.imag=4.0*sin(s_omega/2)**2/om\n",
    "        haar.imag=4.0* NP.sin(s_omega/2)**2/om\n",
    "        return haar"
   ]
  },
  {
   "cell_type": "code",
   "execution_count": 35,
   "metadata": {
    "collapsed": false
   },
   "outputs": [],
   "source": [
    "import scipy\n",
    "import numpy\n",
    "import matplotlib\n",
    "import numpy as np\n",
    "import os\n",
    "import matplotlib.cm as cm\n",
    "import matplotlib.mlab as mlab\n",
    "import matplotlib.pyplot as plt\n",
    "get_ipython().magic(u'matplotlib inline')\n",
    "\n",
    "from __future__ import division\n",
    "exp1 =  open(\"D:\\\\big.txt\", \"rb\")\n",
    "exp1=np.fromfile(exp1,dtype=float,count=-1, sep=\" \")\n",
    "#exp1 = np.fromfile('/home/sergey/Documents/exp_cx1.dat',dtype=float,count=-1, sep=\" \")\n",
    "exp1 = np.reshape(exp1, (-1,2 ))\n",
    "a = exp1.transpose()\n"
   ]
  },
  {
   "cell_type": "code",
   "execution_count": 36,
   "metadata": {
    "collapsed": false
   },
   "outputs": [
    {
     "data": {
      "text/plain": [
       "(2604L, 2L)"
      ]
     },
     "execution_count": 36,
     "metadata": {},
     "output_type": "execute_result"
    }
   ],
   "source": [
    "exp1.shape"
   ]
  },
  {
   "cell_type": "code",
   "execution_count": 37,
   "metadata": {
    "collapsed": false
   },
   "outputs": [],
   "source": [
    "from scipy import sparse\n",
    "from scipy.sparse.linalg import spsolve\n",
    "def baseline_als(y, lam, p, niter=10):\n",
    "  L = len(y)\n",
    "  D = sparse.csc_matrix(np.diff(np.eye(L), 2))\n",
    "  w = np.ones(L)\n",
    "  for i in xrange(niter):\n",
    "    W = sparse.spdiags(w, 0, L, L)\n",
    "    Z = W + lam * D.dot(D.transpose())\n",
    "    z = spsolve(Z, w*y)\n",
    "    w = p * (y > z) + (1-p) * (y < z)\n",
    "  return z"
   ]
  },
  {
   "cell_type": "code",
   "execution_count": 38,
   "metadata": {
    "collapsed": false
   },
   "outputs": [
    {
     "data": {
      "image/png": "[encoded data removed]",
      "text/plain": [
       "<matplotlib.figure.Figure at 0x2195a940>"
      ]
     },
     "metadata": {},
     "output_type": "display_data"
    }
   ],
   "source": [
    "dat=baseline_als(a[1],1000,0.01,500)\n",
    "plt.plot(a[0],a[1])\n",
    "plt.plot(dat)\n",
    "expt=a[1]-dat\n"
   ]
  },
  {
   "cell_type": "code",
   "execution_count": null,
   "metadata": {
    "collapsed": false
   },
   "outputs": [],
   "source": []
  },
  {
   "cell_type": "code",
   "execution_count": 39,
   "metadata": {
    "collapsed": false
   },
   "outputs": [
    {
     "data": {
      "text/plain": [
       "[<matplotlib.lines.Line2D at 0x21025898>]"
      ]
     },
     "execution_count": 39,
     "metadata": {},
     "output_type": "execute_result"
    },
    {
     "data": {
      "image/png": "[encoded data removed]",
      "text/plain": [
       "<matplotlib.figure.Figure at 0x213e7550>"
      ]
     },
     "metadata": {},
     "output_type": "display_data"
    }
   ],
   "source": [
    "plt.plot(exp1[0],exp1[1])\n",
    "plt.plot(exp1[0],exp1[2])\n",
    "plt.plot(exp1[0],exp1[3])\n",
    "plt.plot(exp1[0],exp1[4])\n",
    "plt.plot(exp1[0],exp1[5])\n",
    "plt.plot(exp1[0],exp1[6])\n"
   ]
  },
  {
   "cell_type": "code",
   "execution_count": 40,
   "metadata": {
    "collapsed": false
   },
   "outputs": [
    {
     "data": {
      "text/plain": [
       "(2604L,)"
      ]
     },
     "execution_count": 40,
     "metadata": {},
     "output_type": "execute_result"
    }
   ],
   "source": [
    "a[1].shape"
   ]
  },
  {
   "cell_type": "code",
   "execution_count": 42,
   "metadata": {
    "collapsed": false
   },
   "outputs": [
    {
     "ename": "TypeError",
     "evalue": "range() integer end argument expected, got float.",
     "output_type": "error",
     "traceback": [
      "\u001b[1;31m---------------------------------------------------------------------------\u001b[0m",
      "\u001b[1;31mTypeError\u001b[0m                                 Traceback (most recent call last)",
      "\u001b[1;32m<ipython-input-42-b2d9e4e9efb3>\u001b[0m in \u001b[0;36m<module>\u001b[1;34m()\u001b[0m\n\u001b[0;32m     17\u001b[0m \u001b[1;33m\u001b[0m\u001b[0m\n\u001b[0;32m     18\u001b[0m     \u001b[1;31m# Wavelet transform the data\u001b[0m\u001b[1;33m\u001b[0m\u001b[1;33m\u001b[0m\u001b[0m\n\u001b[1;32m---> 19\u001b[1;33m     \u001b[0mcw\u001b[0m\u001b[1;33m=\u001b[0m\u001b[0mwavelet\u001b[0m\u001b[1;33m(\u001b[0m\u001b[0ma\u001b[0m\u001b[1;33m[\u001b[0m\u001b[1;36m1\u001b[0m\u001b[1;33m]\u001b[0m\u001b[1;33m-\u001b[0m\u001b[0mdat\u001b[0m\u001b[1;33m,\u001b[0m\u001b[0mmaxscale\u001b[0m\u001b[1;33m,\u001b[0m\u001b[0mnotes\u001b[0m\u001b[1;33m,\u001b[0m\u001b[0mscaling\u001b[0m\u001b[1;33m=\u001b[0m\u001b[0mscaling\u001b[0m\u001b[1;33m)\u001b[0m\u001b[1;33m\u001b[0m\u001b[0m\n\u001b[0m\u001b[0;32m     20\u001b[0m     \u001b[0mscales\u001b[0m\u001b[1;33m=\u001b[0m\u001b[0mcw\u001b[0m\u001b[1;33m.\u001b[0m\u001b[0mgetscales\u001b[0m\u001b[1;33m(\u001b[0m\u001b[1;33m)\u001b[0m\u001b[1;33m\u001b[0m\u001b[0m\n\u001b[0;32m     21\u001b[0m     \u001b[0mcwt\u001b[0m\u001b[1;33m=\u001b[0m\u001b[0mcw\u001b[0m\u001b[1;33m.\u001b[0m\u001b[0mgetdata\u001b[0m\u001b[1;33m(\u001b[0m\u001b[1;33m)\u001b[0m\u001b[1;33m\u001b[0m\u001b[0m\n",
      "\u001b[1;32m<ipython-input-34-04119af9c5e3>\u001b[0m in \u001b[0;36m__init__\u001b[1;34m(self, data, largestscale, notes, order, scaling)\u001b[0m\n\u001b[0;32m    104\u001b[0m         \u001b[0mself\u001b[0m\u001b[1;33m.\u001b[0m\u001b[0m_setscales\u001b[0m\u001b[1;33m(\u001b[0m\u001b[0mndata\u001b[0m\u001b[1;33m,\u001b[0m\u001b[0mlargestscale\u001b[0m\u001b[1;33m,\u001b[0m\u001b[0mnotes\u001b[0m\u001b[1;33m,\u001b[0m\u001b[0mscaling\u001b[0m\u001b[1;33m)\u001b[0m\u001b[1;33m\u001b[0m\u001b[0m\n\u001b[0;32m    105\u001b[0m         \u001b[0mself\u001b[0m\u001b[1;33m.\u001b[0m\u001b[0mcwt\u001b[0m\u001b[1;33m=\u001b[0m \u001b[0mNP\u001b[0m\u001b[1;33m.\u001b[0m\u001b[0mzeros\u001b[0m\u001b[1;33m(\u001b[0m\u001b[1;33m(\u001b[0m\u001b[0mself\u001b[0m\u001b[1;33m.\u001b[0m\u001b[0mnscale\u001b[0m\u001b[1;33m,\u001b[0m\u001b[0mndata\u001b[0m\u001b[1;33m)\u001b[0m\u001b[1;33m,\u001b[0m \u001b[0mNP\u001b[0m\u001b[1;33m.\u001b[0m\u001b[0mcomplex64\u001b[0m\u001b[1;33m)\u001b[0m\u001b[1;33m\u001b[0m\u001b[0m\n\u001b[1;32m--> 106\u001b[1;33m         \u001b[0momega\u001b[0m\u001b[1;33m=\u001b[0m \u001b[0mNP\u001b[0m\u001b[1;33m.\u001b[0m\u001b[0marray\u001b[0m\u001b[1;33m(\u001b[0m\u001b[0mrange\u001b[0m\u001b[1;33m(\u001b[0m\u001b[1;36m0\u001b[0m\u001b[1;33m,\u001b[0m\u001b[0mndata\u001b[0m\u001b[1;33m/\u001b[0m\u001b[1;36m2\u001b[0m\u001b[1;33m)\u001b[0m\u001b[1;33m+\u001b[0m\u001b[0mrange\u001b[0m\u001b[1;33m(\u001b[0m\u001b[1;33m-\u001b[0m\u001b[0mndata\u001b[0m\u001b[1;33m/\u001b[0m\u001b[1;36m2\u001b[0m\u001b[1;33m,\u001b[0m\u001b[1;36m0\u001b[0m\u001b[1;33m)\u001b[0m\u001b[1;33m)\u001b[0m\u001b[1;33m*\u001b[0m\u001b[1;33m(\u001b[0m\u001b[1;36m2.0\u001b[0m\u001b[1;33m*\u001b[0m\u001b[0mNP\u001b[0m\u001b[1;33m.\u001b[0m\u001b[0mpi\u001b[0m\u001b[1;33m/\u001b[0m\u001b[0mndata\u001b[0m\u001b[1;33m)\u001b[0m\u001b[1;33m\u001b[0m\u001b[0m\n\u001b[0m\u001b[0;32m    107\u001b[0m         \u001b[0mdatahat\u001b[0m\u001b[1;33m=\u001b[0m\u001b[0mNP\u001b[0m\u001b[1;33m.\u001b[0m\u001b[0mfft\u001b[0m\u001b[1;33m.\u001b[0m\u001b[0mfft\u001b[0m\u001b[1;33m(\u001b[0m\u001b[0mdata\u001b[0m\u001b[1;33m)\u001b[0m\u001b[1;33m\u001b[0m\u001b[0m\n\u001b[0;32m    108\u001b[0m         \u001b[0mself\u001b[0m\u001b[1;33m.\u001b[0m\u001b[0mfftdata\u001b[0m\u001b[1;33m=\u001b[0m\u001b[0mdatahat\u001b[0m\u001b[1;33m\u001b[0m\u001b[0m\n",
      "\u001b[1;31mTypeError\u001b[0m: range() integer end argument expected, got float."
     ]
    }
   ],
   "source": [
    "if __name__==\"__main__\":\n",
    "    import numpy as np\n",
    "    import pylab as mpl\n",
    "\n",
    "    wavelet=Morlet\n",
    "    maxscale=4\n",
    "    notes=100\n",
    "    scaling=\"log\" #or \"linear\"\n",
    "    #scaling=\"linear\"\n",
    "    plotpower2d=True\n",
    "\n",
    "    # set up some data\n",
    "    Ns=1024\n",
    "    #limits of analysis\n",
    "    Nlo=0 \n",
    "    Nhi=Ns\n",
    "    \n",
    "    # Wavelet transform the data\n",
    "    cw=wavelet(a[1]-dat,maxscale,notes,scaling=scaling)\n",
    "    scales=cw.getscales()     \n",
    "    cwt=cw.getdata()\n",
    "    # power spectrum\n",
    "    pwr=cw.getpower()\n",
    "    scalespec=np.sum(pwr,axis=1)/scales # calculate scale spectrum\n",
    "    # scales\n",
    "    y=cw.fourierwl*scales\n",
    "    x=np.arange(Nlo*1.0,Nhi*1.0,1.0)\n",
    "    #x=np.arange(0,0.7,0.01)\n",
    "    fig=mpl.figure(1)\n",
    "\n",
    "    # 2-d coefficient plot\n",
    "    ax=mpl.axes([0.4,0.1,0.55,0.4])\n",
    "    mpl.xlabel('$V_L$ (mV)')\n",
    "    plotcwt=np.clip(np.fabs(cwt.real), 0., 1000.)\n",
    "    if plotpower2d: plotcwt=pwr\n",
    "    im=mpl.imshow(plotcwt,cmap=mpl.cm.jet,extent=[-1,0,y[-1],y[0]],aspect='auto')\n",
    "    #plt.colorbar()\n",
    "    if scaling==\"log\": ax.set_yscale('log')\n",
    "    mpl.ylim(y[0],y[-1])\n",
    "    #mpl.xlim(0.5,-2)\n",
    "    #ax.xaxis.set_ticks(np.arange(Nlo*1.0,(Nhi+1)*1.0,100.0))\n",
    "    ax.yaxis.set_ticklabels([\"\",\"\"])\n",
    "    theposition=mpl.gca().get_position()\n",
    "\n",
    "    # data plot\n",
    "    ax2=mpl.axes([0.4,0.54,0.55,0.3])\n",
    "    mpl.ylabel('I (nA)')\n",
    "    pos=ax.get_position()\n",
    "    mpl.plot(a[1]*1E9,'b-')\n",
    "    #mpl.xlim(Nlo*1.0,Nhi*1.0)\n",
    "    #mpl.ylim(0,4)\n",
    "    ax2.xaxis.set_ticklabels([\"\",\"\"])\n",
    "    #mpl.text(0.5,0.9,\"Wavelet transform\",\n",
    "      #   fontsize=14,bbox=dict(facecolor='green',alpha=0.2),\n",
    "      #   transform = fig.transFigure,horizontalalignment='center')\n",
    "\n",
    "    # projected power spectrum\n",
    "    ax3=mpl.axes([0.08,0.1,0.29,0.4])\n",
    "    mpl.xlabel('Power')\n",
    "    mpl.ylabel('Period (mV)')\n",
    "    vara=1.0\n",
    "    if scaling==\"log\":\n",
    "        mpl.loglog(scalespec/vara,y*0.0025,'b-')\n",
    "    else:\n",
    "        mpl.semilogx(scalespec/vara,y*0.0025,'b-')\n",
    "    mpl.ylim(y[0]*0.0025,y[-1]*0.0025)\n",
    "    #mpl.xlim((x[0],x[-1])\n",
    "    #plt.savefig('D:\\galya4', format='pdf')\n",
    "    mpl.show()"
   ]
  },
  {
   "cell_type": "code",
   "execution_count": 1,
   "metadata": {
    "collapsed": false
   },
   "outputs": [
    {
     "ename": "NameError",
     "evalue": "name 'mpl' is not defined",
     "output_type": "error",
     "traceback": [
      "\u001b[0;31m---------------------------------------------------------------------------\u001b[0m",
      "\u001b[0;31mNameError\u001b[0m                                 Traceback (most recent call last)",
      "\u001b[0;32m<ipython-input-1-d686fe7ee168>\u001b[0m in \u001b[0;36m<module>\u001b[0;34m()\u001b[0m\n\u001b[0;32m----> 1\u001b[0;31m \u001b[0mim\u001b[0m\u001b[1;33m=\u001b[0m\u001b[0mmpl\u001b[0m\u001b[1;33m.\u001b[0m\u001b[0mimshow\u001b[0m\u001b[1;33m(\u001b[0m\u001b[0mplotcwt\u001b[0m\u001b[1;33m*\u001b[0m\u001b[1;36m1E21\u001b[0m\u001b[1;33m,\u001b[0m\u001b[0mcmap\u001b[0m\u001b[1;33m=\u001b[0m\u001b[0mmpl\u001b[0m\u001b[1;33m.\u001b[0m\u001b[0mcm\u001b[0m\u001b[1;33m.\u001b[0m\u001b[0mjet\u001b[0m\u001b[1;33m,\u001b[0m\u001b[0mvmin\u001b[0m\u001b[1;33m=\u001b[0m\u001b[1;36m0.1\u001b[0m\u001b[1;33m,\u001b[0m\u001b[0mvmax\u001b[0m\u001b[1;33m=\u001b[0m\u001b[1;36m4\u001b[0m\u001b[1;33m,\u001b[0m\u001b[0mextent\u001b[0m\u001b[1;33m=\u001b[0m\u001b[1;33m[\u001b[0m\u001b[1;33m-\u001b[0m\u001b[1;36m1\u001b[0m\u001b[1;33m,\u001b[0m\u001b[1;36m0\u001b[0m\u001b[1;33m,\u001b[0m\u001b[0my\u001b[0m\u001b[1;33m[\u001b[0m\u001b[1;33m-\u001b[0m\u001b[1;36m1\u001b[0m\u001b[1;33m]\u001b[0m\u001b[1;33m,\u001b[0m\u001b[0my\u001b[0m\u001b[1;33m[\u001b[0m\u001b[1;36m0\u001b[0m\u001b[1;33m]\u001b[0m\u001b[1;33m]\u001b[0m\u001b[1;33m,\u001b[0m\u001b[0maspect\u001b[0m\u001b[1;33m=\u001b[0m\u001b[1;34m'auto'\u001b[0m\u001b[1;33m)\u001b[0m\u001b[1;33m\u001b[0m\u001b[0m\n\u001b[0m\u001b[1;32m      2\u001b[0m \u001b[0mmpl\u001b[0m\u001b[1;33m.\u001b[0m\u001b[0mxlim\u001b[0m\u001b[1;33m(\u001b[0m\u001b[1;33m-\u001b[0m\u001b[1;36m0.6\u001b[0m\u001b[1;33m,\u001b[0m\u001b[1;36m0\u001b[0m\u001b[1;33m)\u001b[0m\u001b[1;33m\u001b[0m\u001b[0m\n\u001b[1;32m      3\u001b[0m \u001b[0mmpl\u001b[0m\u001b[1;33m.\u001b[0m\u001b[0mylim\u001b[0m\u001b[1;33m(\u001b[0m\u001b[1;36m200\u001b[0m\u001b[1;33m,\u001b[0m\u001b[1;36m400\u001b[0m\u001b[1;33m)\u001b[0m\u001b[1;33m\u001b[0m\u001b[0m\n",
      "\u001b[0;31mNameError\u001b[0m: name 'mpl' is not defined"
     ]
    }
   ],
   "source": [
    "im=mpl.imshow(plotcwt*1E21,cmap=mpl.cm.jet,vmin=0.1,vmax=4,extent=[-1,0,y[-1],y[0]],aspect='auto')\n",
    "mpl.xlim(-0.6,0)\n",
    "mpl.ylim(200,400)"
   ]
  },
  {
   "cell_type": "code",
   "execution_count": 2,
   "metadata": {
    "collapsed": false
   },
   "outputs": [
    {
     "ename": "NameError",
     "evalue": "name 'plt' is not defined",
     "output_type": "error",
     "traceback": [
      "\u001b[0;31m---------------------------------------------------------------------------\u001b[0m",
      "\u001b[0;31mNameError\u001b[0m                                 Traceback (most recent call last)",
      "\u001b[0;32m<ipython-input-2-aa3854cd5e31>\u001b[0m in \u001b[0;36m<module>\u001b[0;34m()\u001b[0m\n\u001b[0;32m----> 1\u001b[0;31m \u001b[0mfig\u001b[0m \u001b[1;33m=\u001b[0m \u001b[0mplt\u001b[0m\u001b[1;33m.\u001b[0m\u001b[0mfigure\u001b[0m\u001b[1;33m(\u001b[0m\u001b[1;33m)\u001b[0m\u001b[1;33m\u001b[0m\u001b[0m\n\u001b[0m\u001b[1;32m      2\u001b[0m \u001b[0max\u001b[0m \u001b[1;33m=\u001b[0m \u001b[0mfig\u001b[0m\u001b[1;33m.\u001b[0m\u001b[0madd_subplot\u001b[0m\u001b[1;33m(\u001b[0m\u001b[1;36m111\u001b[0m\u001b[1;33m)\u001b[0m\u001b[1;33m\u001b[0m\u001b[0m\n\u001b[1;32m      3\u001b[0m \u001b[0mplt\u001b[0m\u001b[1;33m.\u001b[0m\u001b[0mplot\u001b[0m\u001b[1;33m(\u001b[0m\u001b[0ma\u001b[0m\u001b[1;33m[\u001b[0m\u001b[1;36m0\u001b[0m\u001b[1;33m]\u001b[0m\u001b[1;33m*\u001b[0m\u001b[1;36m87.5\u001b[0m\u001b[1;33m,\u001b[0m\u001b[1;33m-\u001b[0m\u001b[0ma\u001b[0m\u001b[1;33m[\u001b[0m\u001b[1;36m1\u001b[0m\u001b[1;33m]\u001b[0m\u001b[1;33m*\u001b[0m\u001b[1;36m1E9\u001b[0m\u001b[1;33m,\u001b[0m\u001b[1;34m'b-'\u001b[0m\u001b[1;33m)\u001b[0m\u001b[1;33m\u001b[0m\u001b[0m\n\u001b[1;32m      4\u001b[0m \u001b[0max\u001b[0m\u001b[1;33m.\u001b[0m\u001b[0mset_xlim\u001b[0m\u001b[1;33m(\u001b[0m\u001b[1;33m-\u001b[0m\u001b[1;36m350\u001b[0m\u001b[1;33m,\u001b[0m\u001b[1;36m350\u001b[0m\u001b[1;33m)\u001b[0m\u001b[1;33m\u001b[0m\u001b[0m\n\u001b[1;32m      5\u001b[0m \u001b[0max\u001b[0m\u001b[1;33m.\u001b[0m\u001b[0mset_ylim\u001b[0m\u001b[1;33m(\u001b[0m\u001b[1;36m0.125\u001b[0m\u001b[1;33m,\u001b[0m\u001b[1;36m0.35\u001b[0m\u001b[1;33m)\u001b[0m\u001b[1;33m\u001b[0m\u001b[0m\n",
      "\u001b[0;31mNameError\u001b[0m: name 'plt' is not defined"
     ]
    }
   ],
   "source": [
    "fig = plt.figure()\n",
    "ax = fig.add_subplot(111)\n",
    "plt.plot(a[0]*87.5,-a[1]*1E9,'b-')\n",
    "ax.set_xlim(-350,350)\n",
    "ax.set_ylim(0.125,0.35)\n",
    "plt.xlabel(\"$B$ (mT)\", color='k',fontsize=12)\n",
    "plt.ylabel(\"$I$ (nA)\", color='k',fontsize=12)\n",
    "plt.tick_params(direction='in')\n",
    "plt.yticks([0.15,0.2,0.25,0.3,0.35],fontsize=10)\n",
    "ax2 = ax.twinx()\n",
    "plt.plot(a[0]*87.5,plotcwt[250]*1E21,'r-')\n",
    "plt.xlabel(\"$B$ (mT)\", color='k',fontsize=12)\n",
    "plt.ylabel(\"$\\\\nu\\,\\,(\\%)$\", color='k',fontsize=12)\n",
    "b=3\n",
    "c=0.8E-1\n",
    "plt.ylim(0)\n",
    "x=np.linspace(-100, 100, num=1000)\n",
    "#plt.plot(a[0], 0.076*np.exp(-b/mag(c*a[0])), 'r-', label='fit')\n",
    "def mag(x):\n",
    "    return (np.exp(x)-np.exp(-x))/(2*x)\n",
    "plt.plot(x, 0.5*np.exp(-b/mag(c*x)), 'k-',linewidth=3,alpha=0.6, label='fit_cont')\n",
    "\n",
    "plt.tick_params(direction='in')\n",
    "ax2.set_xlim(-350,350)\n",
    "aa = plt.axes([.42, .55, .2, .25], facecolor='w')\n",
    "plt.ylabel(\"$\\\\nu\\,\\,(\\%)$\", color='k',fontsize=12)\n",
    "plt.xlabel(\"$1/B$ (mT$^{-1}$)\", color='k',fontsize=12)\n",
    "plt.plot(1/(a[0]*87.5),plotcwt[250]*1E21,'r-')\n",
    "plt.xlim(0,0.03)\n",
    "plt.ylim(0.01,2.3)\n",
    "plt.savefig('D:\\\\test1.pdf',bbox_inches='tight', format='pdf',dpi=900)\n",
    "#plt.savefig('D:\\\\test2.pdf',bbox_inches='tight', format='pdf',dpi=900)\n",
    "plt.show()\n"
   ]
  },
  {
   "cell_type": "code",
   "execution_count": 3,
   "metadata": {
    "collapsed": false
   },
   "outputs": [
    {
     "ename": "NameError",
     "evalue": "name 'plt' is not defined",
     "output_type": "error",
     "traceback": [
      "\u001b[0;31m---------------------------------------------------------------------------\u001b[0m",
      "\u001b[0;31mNameError\u001b[0m                                 Traceback (most recent call last)",
      "\u001b[0;32m<ipython-input-3-a47b11a5b034>\u001b[0m in \u001b[0;36m<module>\u001b[0;34m()\u001b[0m\n\u001b[1;32m      1\u001b[0m \u001b[1;32mimport\u001b[0m \u001b[0mscipy\u001b[0m\u001b[1;33m.\u001b[0m\u001b[0mfftpack\u001b[0m\u001b[1;33m\u001b[0m\u001b[0m\n\u001b[0;32m----> 2\u001b[0;31m \u001b[0mplt\u001b[0m\u001b[1;33m.\u001b[0m\u001b[0mplot\u001b[0m\u001b[1;33m(\u001b[0m\u001b[1;36m1\u001b[0m\u001b[1;33m/\u001b[0m\u001b[1;33m(\u001b[0m\u001b[0ma\u001b[0m\u001b[1;33m[\u001b[0m\u001b[1;36m0\u001b[0m\u001b[1;33m]\u001b[0m\u001b[1;33m*\u001b[0m\u001b[1;36m87.5\u001b[0m\u001b[1;33m)\u001b[0m\u001b[1;33m,\u001b[0m\u001b[0mplotcwt\u001b[0m\u001b[1;33m[\u001b[0m\u001b[1;36m250\u001b[0m\u001b[1;33m]\u001b[0m\u001b[1;33m*\u001b[0m\u001b[1;36m1E21\u001b[0m\u001b[1;33m,\u001b[0m\u001b[1;34m'r-'\u001b[0m\u001b[1;33m)\u001b[0m\u001b[1;33m\u001b[0m\u001b[0m\n\u001b[0m\u001b[1;32m      3\u001b[0m \u001b[0mplt\u001b[0m\u001b[1;33m.\u001b[0m\u001b[0mxlim\u001b[0m\u001b[1;33m(\u001b[0m\u001b[1;36m0\u001b[0m\u001b[1;33m,\u001b[0m\u001b[1;36m0.03\u001b[0m\u001b[1;33m)\u001b[0m\u001b[1;33m\u001b[0m\u001b[0m\n\u001b[1;32m      4\u001b[0m \u001b[0mplt\u001b[0m\u001b[1;33m.\u001b[0m\u001b[0mylim\u001b[0m\u001b[1;33m(\u001b[0m\u001b[1;36m0.01\u001b[0m\u001b[1;33m,\u001b[0m\u001b[1;36m2.3\u001b[0m\u001b[1;33m)\u001b[0m\u001b[1;33m\u001b[0m\u001b[0m\n\u001b[1;32m      5\u001b[0m \u001b[1;31m#yf = scipy.fftpack.fft(plotcwt[250]*1E21)\u001b[0m\u001b[1;33m\u001b[0m\u001b[1;33m\u001b[0m\u001b[0m\n",
      "\u001b[0;31mNameError\u001b[0m: name 'plt' is not defined"
     ]
    }
   ],
   "source": [
    "import scipy.fftpack\n",
    "plt.plot(1/(a[0]*87.5),plotcwt[250]*1E21,'r-')\n",
    "plt.xlim(0,0.03)\n",
    "plt.ylim(0.01,2.3)\n",
    "#yf = scipy.fftpack.fft(plotcwt[250]*1E21)\n",
    "plt.plot(yf)\n",
    "#plt.xlim(0,100)\n",
    "#plt.savefig('D:\\\\test2.pdf',bbox_inches='tight', format='pdf',dpi=900)"
   ]
  },
  {
   "cell_type": "code",
   "execution_count": 4,
   "metadata": {
    "collapsed": false
   },
   "outputs": [
    {
     "ename": "NameError",
     "evalue": "name 'a' is not defined",
     "output_type": "error",
     "traceback": [
      "\u001b[0;31m---------------------------------------------------------------------------\u001b[0m",
      "\u001b[0;31mNameError\u001b[0m                                 Traceback (most recent call last)",
      "\u001b[0;32m<ipython-input-4-5b4ca24e45db>\u001b[0m in \u001b[0;36m<module>\u001b[0;34m()\u001b[0m\n\u001b[1;32m      4\u001b[0m     \u001b[1;32mreturn\u001b[0m \u001b[1;33m(\u001b[0m\u001b[0mnp\u001b[0m\u001b[1;33m.\u001b[0m\u001b[0mexp\u001b[0m\u001b[1;33m(\u001b[0m\u001b[0mx\u001b[0m\u001b[1;33m)\u001b[0m\u001b[1;33m-\u001b[0m\u001b[0mnp\u001b[0m\u001b[1;33m.\u001b[0m\u001b[0mexp\u001b[0m\u001b[1;33m(\u001b[0m\u001b[1;33m-\u001b[0m\u001b[0mx\u001b[0m\u001b[1;33m)\u001b[0m\u001b[1;33m)\u001b[0m\u001b[1;33m/\u001b[0m\u001b[1;33m(\u001b[0m\u001b[1;36m2\u001b[0m\u001b[1;33m*\u001b[0m\u001b[0mx\u001b[0m\u001b[1;33m)\u001b[0m\u001b[1;33m\u001b[0m\u001b[0m\n\u001b[1;32m      5\u001b[0m \u001b[1;32mfrom\u001b[0m \u001b[0mscipy\u001b[0m\u001b[1;33m.\u001b[0m\u001b[0moptimize\u001b[0m \u001b[1;32mimport\u001b[0m \u001b[0mcurve_fit\u001b[0m\u001b[1;33m\u001b[0m\u001b[0m\n\u001b[0;32m----> 6\u001b[0;31m \u001b[0mxdata\u001b[0m\u001b[1;33m=\u001b[0m\u001b[0ma\u001b[0m\u001b[1;33m[\u001b[0m\u001b[1;36m0\u001b[0m\u001b[1;33m,\u001b[0m\u001b[1;36m1700\u001b[0m\u001b[1;33m:\u001b[0m\u001b[1;36m1925\u001b[0m\u001b[1;33m]\u001b[0m\u001b[1;33m*\u001b[0m\u001b[1;36m87.5\u001b[0m\u001b[1;33m\u001b[0m\u001b[0m\n\u001b[0m\u001b[1;32m      7\u001b[0m \u001b[0mydata\u001b[0m\u001b[1;33m=\u001b[0m\u001b[0mplotcwt\u001b[0m\u001b[1;33m[\u001b[0m\u001b[1;36m250\u001b[0m\u001b[1;33m,\u001b[0m\u001b[1;36m1700\u001b[0m\u001b[1;33m:\u001b[0m\u001b[1;36m1925\u001b[0m\u001b[1;33m]\u001b[0m\u001b[1;33m*\u001b[0m\u001b[1;36m1E21\u001b[0m\u001b[1;33m\u001b[0m\u001b[0m\n\u001b[1;32m      8\u001b[0m \u001b[1;32mdef\u001b[0m \u001b[0mfunc\u001b[0m\u001b[1;33m(\u001b[0m\u001b[0mx\u001b[0m\u001b[1;33m,\u001b[0m \u001b[0ma\u001b[0m\u001b[1;33m,\u001b[0m \u001b[0mb\u001b[0m\u001b[1;33m)\u001b[0m\u001b[1;33m:\u001b[0m\u001b[1;33m\u001b[0m\u001b[0m\n",
      "\u001b[0;31mNameError\u001b[0m: name 'a' is not defined"
     ]
    }
   ],
   "source": [
    "import numpy as np\n",
    "import matplotlib.pyplot as plt\n",
    "def mag(x):\n",
    "    return (np.exp(x)-np.exp(-x))/(2*x)\n",
    "from scipy.optimize import curve_fit\n",
    "xdata=a[0,1700:1925]*87.5\n",
    "ydata=plotcwt[250,1700:1925]*1E21\n",
    "def func(x, a, b):\n",
    "    return a*np.exp(-b*mag(1E-3*x))\n",
    "popt, pcov = curve_fit(func, xdata, ydata,bounds=(1, [2, 1E-10]))\n",
    "plt.plot(xdata, func(xdata, *popt), 'r-', label='fit')\n",
    "plt.plot(xdata,ydata, 'ok')\n",
    "#plt.yscale('log')\n",
    "plt.show()"
   ]
  },
  {
   "cell_type": "code",
   "execution_count": null,
   "metadata": {
    "collapsed": false
   },
   "outputs": [],
   "source": [
    "plt.plot(1/a[0]*1000,a[1]*1E9)\n",
    "plt.xlim(200,900)\n",
    "plt.ylim(-0.4,-0.2)"
   ]
  },
  {
   "cell_type": "code",
   "execution_count": null,
   "metadata": {
    "collapsed": false
   },
   "outputs": [],
   "source": [
    "plotcwt.shape"
   ]
  },
  {
   "cell_type": "code",
   "execution_count": null,
   "metadata": {
    "collapsed": false
   },
   "outputs": [],
   "source": [
    "# R package names\n",
    "packnames = ('ggplot2', 'hexbin', '/home/sergey/R/x86_64-pc-linux-gnu-library/3.1/wmtsa')\n",
    "\n",
    "# import rpy2's package module\n",
    "import rpy2.robjects.packages as rpackages\n",
    "\n",
    "if all(rpackages.isinstalled(x) for x in packnames):\n",
    "    have_tutorial_packages = True\n",
    "else:\n",
    "    have_tutorial_packages = False"
   ]
  },
  {
   "cell_type": "code",
   "execution_count": null,
   "metadata": {
    "collapsed": false
   },
   "outputs": [],
   "source": [
    "from rpy2.robjects.packages import importr\n",
    "#utils = importr('utils')\n",
    "#utils.install_packages('wmtsa')"
   ]
  },
  {
   "cell_type": "code",
   "execution_count": null,
   "metadata": {
    "collapsed": false
   },
   "outputs": [],
   "source": [
    "import rpy2.robjects as robjects\n",
    "from rpy2.robjects.packages import importr"
   ]
  },
  {
   "cell_type": "code",
   "execution_count": null,
   "metadata": {
    "collapsed": false
   },
   "outputs": [],
   "source": [
    "rwavCWT = importr('wmtsa')\n",
    "rwavCWT = robjects.r['wavCWT']\n",
    "rwavCWTTree = robjects.r['wavCWTTree']\n",
    "rholderSpectrum=robjects.r['holderSpectrum']\n",
    "p=100\n",
    "rexpt = robjects.FloatVector((1E9*expt))\n",
    "W=rwavCWT(rexpt,wavelet=\"Morlet\",variance=1/p) #\n"
   ]
  },
  {
   "cell_type": "code",
   "execution_count": null,
   "metadata": {
    "collapsed": false
   },
   "outputs": [],
   "source": [
    "rexpt"
   ]
  },
  {
   "cell_type": "code",
   "execution_count": null,
   "metadata": {
    "collapsed": false
   },
   "outputs": [],
   "source": []
  },
  {
   "cell_type": "code",
   "execution_count": null,
   "metadata": {
    "collapsed": false
   },
   "outputs": [],
   "source": [
    "import numpy as np\n",
    "import rpy2.robjects as robjects\n",
    "Wnp=np.array(list(W)).reshape(W.dim)\n"
   ]
  },
  {
   "cell_type": "code",
   "execution_count": null,
   "metadata": {
    "collapsed": false
   },
   "outputs": [],
   "source": []
  },
  {
   "cell_type": "code",
   "execution_count": null,
   "metadata": {
    "collapsed": false
   },
   "outputs": [],
   "source": [
    "plt.imshow(Wnp.real*Wnp.real,cmap=mpl.cm.jet,extent=[0.5,-2,y[-1],y[0]],aspect='auto')\n",
    "#mpl.ylim(y[0],y[-1])"
   ]
  },
  {
   "cell_type": "code",
   "execution_count": null,
   "metadata": {
    "collapsed": false
   },
   "outputs": [],
   "source": [
    "W"
   ]
  },
  {
   "cell_type": "code",
   "execution_count": null,
   "metadata": {
    "collapsed": false
   },
   "outputs": [],
   "source": [
    "Wtree=rwavCWTTree(W) # 1/2\n",
    "Res=rholderSpectrum(Wtree) # 1/4"
   ]
  },
  {
   "cell_type": "code",
   "execution_count": null,
   "metadata": {
    "collapsed": false
   },
   "outputs": [],
   "source": [
    "Res"
   ]
  },
  {
   "cell_type": "code",
   "execution_count": null,
   "metadata": {
    "collapsed": false
   },
   "outputs": [],
   "source": [
    "Res"
   ]
  },
  {
   "cell_type": "code",
   "execution_count": null,
   "metadata": {
    "collapsed": false
   },
   "outputs": [],
   "source": [
    "m = robjects.r['matrix'](Res, nrow = 2)"
   ]
  },
  {
   "cell_type": "code",
   "execution_count": null,
   "metadata": {
    "collapsed": false
   },
   "outputs": [],
   "source": [
    "v1 = np.array(m[0])\n",
    "v2 = np.array(m[1])\n",
    "v3 = np.array(m[2])\n"
   ]
  },
  {
   "cell_type": "code",
   "execution_count": null,
   "metadata": {
    "collapsed": false
   },
   "outputs": [],
   "source": [
    "v3"
   ]
  },
  {
   "cell_type": "code",
   "execution_count": null,
   "metadata": {
    "collapsed": false
   },
   "outputs": [],
   "source": [
    "\n",
    "plt.plot(v2,v1, 'o')\n",
    "\n",
    "plt.plot(expt*1E9)"
   ]
  },
  {
   "cell_type": "code",
   "execution_count": null,
   "metadata": {
    "collapsed": false
   },
   "outputs": [],
   "source": []
  },
  {
   "cell_type": "code",
   "execution_count": null,
   "metadata": {
    "collapsed": false
   },
   "outputs": [],
   "source": []
  }
 ],
 "metadata": {
  "kernelspec": {
   "display_name": "Python 3",
   "language": "python",
   "name": "python3"
  },
  "language_info": {
   "codemirror_mode": {
    "name": "ipython",
    "version": 3
   },
   "file_extension": ".py",
   "mimetype": "text/x-python",
   "name": "python",
   "nbconvert_exporter": "python",
   "pygments_lexer": "ipython3",
   "version": "3.6.0"
  }
 },
 "nbformat": 4,
 "nbformat_minor": 0
}
