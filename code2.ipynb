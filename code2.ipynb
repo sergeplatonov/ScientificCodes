{
 "cells": [
  {
   "cell_type": "code",
   "execution_count": 12,
   "metadata": {
    "collapsed": true
   },
   "outputs": [],
   "source": [
    "import scipy\n",
    "import numpy\n",
    "import matplotlib\n",
    "import numpy as np\n",
    "import os\n",
    "import matplotlib.cm as cm\n",
    "import matplotlib.mlab as mlab\n",
    "import matplotlib.pyplot as plt\n",
    "get_ipython().magic(u'matplotlib inline')\n",
    "\n",
    "from __future__ import division"
   ]
  },
  {
   "cell_type": "code",
   "execution_count": 13,
   "metadata": {
    "scrolled": true
   },
   "outputs": [
    {
     "name": "stdout",
     "output_type": "stream",
     "text": [
      "-1.08358216602\n",
      "14.0478569349\n",
      "4.90873852123\n"
     ]
    }
   ],
   "source": [
    "lam=40E-3\n",
    "w0=250E-3\n",
    "z0=np.pi*w0*w0/lam\n",
    "R=2\n",
    "k=2*np.pi/lam\n",
    "mstar=0.067*9.1094E-31\n",
    "hbar=1.0545718E-34\n",
    "e=1.6E-19\n",
    "E=0.002*e\n",
    "omega=E/hbar\n",
    "\n",
    "def width(l):\n",
    "    return np.sqrt(w0*w0*(1+l*l/(z0*z0)))\n",
    "def radiusin(l):\n",
    "    return l+z0*z0/l\n",
    "def radius(m,l):\n",
    "    rr=2/np.sqrt((mstar*omega/(2*hbar)))*1E6\n",
    "    for i in range(0,m):\n",
    "                rr=rr+l+z0*z0/l\n",
    "                rr=rr*R/(R-2*rr)\n",
    "    return rr\n",
    "def theta(l):\n",
    "    return np.arctan(l/z0) "
   ]
  },
  {
   "cell_type": "code",
   "execution_count": 14,
   "metadata": {
    "collapsed": true
   },
   "outputs": [],
   "source": [
    "def H1(x,y):\n",
    "    return 1\n",
    "\n",
    "def H2(x,y):\n",
    "    return 2*(np.sqrt(2)*y/width(x))\n",
    "\n",
    "def H3(x,y):\n",
    "    return 4*(np.sqrt(2)*(y/width(x)))**2-2\n",
    "\n",
    "def H4(x,y):\n",
    "    return 8*(np.sqrt(2)*(y/width(x)))**3-12*(np.sqrt(2)*(y/width(x)))\n",
    "\n",
    "def H5(x,y):\n",
    "    return 16*(np.sqrt(2)*(y/width(x)))**4-48*(np.sqrt(2)*(y/width(x)))**2+12\n",
    "\n",
    "def H6(x,y):\n",
    "    return 32*(np.sqrt(2)*(y/width(x)))**5-160*(np.sqrt(2)*(y/width(x)))**3+120*(np.sqrt(2)*(y/width(x)))\n",
    "\n",
    "def H7(x,y):\n",
    "    return 64*(np.sqrt(2)*(y/width(x)))**6-480*(np.sqrt(2)*(y/width(x)))**4+720*(np.sqrt(2)*(y/width(x)))**2-120"
   ]
  },
  {
   "cell_type": "code",
   "execution_count": 16,
   "metadata": {},
   "outputs": [
    {
     "data": {
      "text/plain": [
       "[<matplotlib.lines.Line2D at 0xaef0c18>]"
      ]
     },
     "execution_count": 16,
     "metadata": {},
     "output_type": "execute_result"
    },
    {
     "data": {
      "image/png": "[encoded data removed]",
      "text/plain": [
       "<matplotlib.figure.Figure at 0xab26eb8>"
      ]
     },
     "metadata": {},
     "output_type": "display_data"
    }
   ],
   "source": [
    "m=10\n",
    "kk=0.1\n",
    "def psi0p(y,l,m,kk):\n",
    "    psi=np.exp(-1j*(k-1j*kk)*l)    \n",
    "    return psi\n",
    "def psi1p(y,l,m,kk):\n",
    "    psi=w0/width(l)*H1(l,y)*np.exp(-y*y/np.power(width(l),2))*np.exp(-1j*(k-1j*kk)*y*y/(2*radius(m,l)))*np.exp(-1j*(k-1j*kk)*l+1j*theta(l))    \n",
    "    return psi\n",
    "def psi1pin(y,l,m,kk):\n",
    "    psi=w0/width(l)*H1(l,y)*np.exp(-y*y/np.power(width(l),2))*np.exp(-1j*(k-1j*kk)*y*y/(2*radius(m,l)))*np.exp(-1j*(k-1j*kk)*l+1j*theta(l))    \n",
    "    return np.power(abs(psi),2)\n",
    "def psi2p(y,l,m,kk):\n",
    "    psi=w0/width(l)*H2(l,y)*np.exp(-y*y/np.power(width(l),2))*np.exp(-1j*(k-1j*kk)*y*y/(2*radius(m,l)))*np.exp(-1j*(k-1j*kk)*l+3/2*1j*theta(l))    \n",
    "    return psi\n",
    "def psi2pin(y,l,m,kk):\n",
    "    psi=w0/width(l)*H2(l,y)*np.exp(-y*y/np.power(width(l),2))*np.exp(-1j*(k-1j*kk)*y*y/(2*radius(m,l)))*np.exp(-1j*(k-1j*kk)*l+3/2*1j*theta(l))    \n",
    "    return np.power(abs(psi),2)\n",
    "def psi3p(y,l,m,kk):\n",
    "    psi=w0/width(l)*H3(l,y)*np.exp(-np.power(y*np.sqrt(2)/width(l),2)/2)*(1/np.sqrt(8))*np.exp(-1j*(k-1j*kk)*y*y/(2*radius(m,l)))*np.exp(-1j*(k-1j*kk)*l+5/2*1j*theta(l))    \n",
    "    return psi\n",
    "def psi3pin(y,l,m,kk):\n",
    "    psi=w0/width(l)*H3(l,y)*np.exp(-np.power(y*np.sqrt(2)/width(l),2)/2)*(1/np.sqrt(8))*np.exp(-1j*(k-1j*kk)*y*y/(2*radius(m,l)))*np.exp(-1j*(k-1j*kk)*l+5/2*1j*theta(l))    \n",
    "    return np.power(abs(psi),2)\n",
    "def psi4p(y,l,m,kk):\n",
    "    psi=w0/width(l)*H4(l,y)*np.exp(-np.power(y*np.sqrt(2)/width(l),2)/2)*(1/np.sqrt(48))*np.exp(-1j*(k-1j*kk)*y*y/(2*radius(m,l)))*np.exp(-1j*(k-1j*kk)*l+7/2*1j*theta(l))    \n",
    "    return psi\n",
    "def psi4pin(y,l,m,kk):\n",
    "    psi=w0/width(l)*H4(l,y)*np.exp(-np.power(y*np.sqrt(2)/width(l),2)/2)*(1/np.sqrt(48))*np.exp(-1j*(k-1j*kk)*y*y/(2*radius(m,l)))*np.exp(-1j*(k-1j*kk)*l+7/2*1j*theta(l))    \n",
    "    return np.power(abs(psi),2)\n",
    "\n",
    "x=np.linspace(-1, 1, num=1000)\n",
    "y=np.linspace(-2, 2, num=1000)\n",
    "y2=np.linspace(-2, 2, num=1000)\n",
    "y3=np.linspace(-2, 2, num=1000)\n",
    "y4=np.linspace(-2, 2, num=1000)\n",
    "\n",
    "for i in range(1,1000):\n",
    "    y[i]=psi2pin(x[i],0.0001,20,kk)\n",
    "for i in range(1,1000):\n",
    "    y2[i]=psi1pin(x[i],0.1,20,kk)\n",
    "for i in range(1,1000):\n",
    "    y3[i]=psi3pin(x[i],0.00001,m,kk)\n",
    "for i in range(1,1000):\n",
    "    y4[i]=psi4pin(x[i],0.00001,m,kk)"
   ]
  },
  {
   "cell_type": "code",
   "execution_count": 19,
   "metadata": {},
   "outputs": [
    {
     "name": "stdout",
     "output_type": "stream",
     "text": [
      "3.72240387128e-07\n"
     ]
    },
    {
     "data": {
      "image/png": "[encoded data removed]",
      "text/plain": [
       "<matplotlib.figure.Figure at 0x4032080>"
      ]
     },
     "metadata": {},
     "output_type": "display_data"
    }
   ],
   "source": [
    "import scipy.integrate as integrate\n",
    "def psisum0(y,l,r,m,kk):\n",
    "    summ0=0\n",
    "    for i in range(1,m):\n",
    "        summ0=summ0+(1-r)*np.power(r,i)*psi0p(y,l*i,i,kk)\n",
    "    #print summ\n",
    "    return np.power(abs(summ0),2)\n",
    "def psisum1(y,l,r,m,kk):\n",
    "    summ1=0\n",
    "    for i in range(1,m):\n",
    "        summ1=summ1+(1-r)*np.power(r,i)*psi1p(y,l*i,i,kk)\n",
    "    #print summ\n",
    "    return np.power(abs(summ1),2)\n",
    "def psisum2(y,l,r,m,kk):\n",
    "    summ2=0\n",
    "    for i in range(1,m):\n",
    "        summ2=summ2+(1-r)*np.power(r,i)*psi2p(y,l*i,i,kk)\n",
    "    #print summ\n",
    "    return np.power(abs(summ2),2)\n",
    "def psisum3(y,l,r,m,kk):\n",
    "    summ3=0\n",
    "    for i in range(1,m):\n",
    "        summ3=summ3+(1-r)*np.power(r,i)*psi3p(y,l*i,i,kk)\n",
    "    #print summ\n",
    "    return np.power(abs(summ3),2)\n",
    "def psisum4(y,l,r,m,kk):\n",
    "    summ4=0\n",
    "    for i in range(1,m):\n",
    "        summ4=summ4+(1-r)*np.power(r,i)*psi4p(y,l*i,i,kk)\n",
    "    #print summ4\n",
    "    return np.power(abs(summ4),2)"
   ]
  },
  {
   "cell_type": "code",
   "execution_count": 21,
   "metadata": {},
   "outputs": [
    {
     "name": "stdout",
     "output_type": "stream",
     "text": [
      "0.250996171331\n"
     ]
    }
   ],
   "source": [
    "from scipy.integrate import quad\n",
    "def intens0(l,r,m,kk):\n",
    "    return quad(psisum0, -1, 1, args=(l,r,m,kk))[0]\n",
    "def intens1(l,r,m,kk):\n",
    "    return quad(psisum1, -1, 1, args=(l,r,m,kk))[0]\n",
    "def intens1in(l,m,kk):\n",
    "    return quad(psi1pin, -1, 1, args=(l,m,kk))[0]\n",
    "def intens2(l,r,m,kk):\n",
    "    return quad(psisum2, -1, 1, args=(l,r,m,kk))[0]\n",
    "def intens2in(l,m,kk):\n",
    "    return quad(psi2pin, -1, 1, args=(l,m,kk))[0]\n",
    "def intens3(l,r,m,kk):\n",
    "    return quad(psisum3, -1, 1, args=(l,r,m,kk))[0]\n",
    "def intens3in(l,m,kk):\n",
    "    return quad(psi3pin, -1, 1, args=(l,m,kk))[0]\n",
    "def intens4(l,r,m,kk):\n",
    "    return quad(psisum4, -1, 1, args=(l,r,m,kk))[0]\n",
    "def intens4in(l,m,kk):\n",
    "    return quad(psi4pin, -1, 1, args=(l,m,kk))[0]\n",
    "print (intens4(0.0001,0.9,100,0.1))"
   ]
  },
  {
   "cell_type": "code",
   "execution_count": 130,
   "metadata": {},
   "outputs": [
    {
     "data": {
      "text/plain": [
       "<matplotlib.text.Text at 0x2ea6e0b8>"
      ]
     },
     "execution_count": 130,
     "metadata": {},
     "output_type": "execute_result"
    },
    {
     "data": {
      "image/png": "[encoded data removed]",
      "text/plain": [
       "<matplotlib.figure.Figure at 0x1d9f1e80>"
      ]
     },
     "metadata": {},
     "output_type": "display_data"
    }
   ],
   "source": [
    "import matplotlib.gridspec as gridspec\n",
    "#plt.rc('font', family='serif')\n",
    "import matplotlib.patches as patches\n",
    "\n",
    "fig = plt.figure()\n",
    "gs = gridspec.GridSpec(4,5)\n",
    "gs.update(left=0, right=1, wspace=0.3, hspace=0.5)\n",
    "\n",
    "ax1 = plt.subplot(gs[0:1, 0:2])\n",
    "plt.imshow(np.transpose(exp1),aspect='auto',cmap='Greys_r', extent=[-2,0,-2,-0.800])\n",
    "plt.tick_params(direction='in',labeltop=False, labelbottom=False, bottom=True, top=True, labelright=False,labelleft=True)\n",
    "plt.xlim(-1.5,-2)\n",
    "plt.ylim(-2,-1)\n",
    "plt.axhline(y=-1.7, color='k', linestyle='dotted',lw=0.5)\n",
    "plt.axhline(y=-1.6, color='k', linestyle='dotted',lw=0.5)\n",
    "plt.axhline(y=-1.5, color='k', linestyle='dotted',lw=0.5)\n",
    "plt.axhline(y=-1.4, color='k', linestyle='dotted',lw=0.5)\n",
    "plt.axhline(y=-1.3, color='k', linestyle='dotted',lw=0.5)\n",
    "plt.axhline(y=-1.21, color='k', linestyle='dotted',lw=0.5)\n",
    "plt.axhline(y=-1.14, color='k', linestyle='dotted',lw=0.5)\n",
    "plt.axhline(y=-1.07, color='k', linestyle='dotted',lw=0.5)\n",
    "plt.axhline(y=-1.0, color='k', linestyle='dotted',lw=0.5)\n",
    "plt.ylabel(\"$V_{1}$ (V)\", color='k',fontsize=12)"
   ]
  },
  {
   "cell_type": "code",
   "execution_count": null,
   "metadata": {
    "collapsed": true
   },
   "outputs": [],
   "source": [
    "r=0.5\n",
    "res1=np.linspace(4.2, 3.6, num=178)\n",
    "for i in range(1,178):\n",
    " #   res0[i]=intens0(z[i],r,m,kk)\n",
    "        res1[i]=intens0(z[i],r,m,kk)\n",
    "plt.plot(res1)\n",
    "#plt.ylim(0,0.01)\n",
    "r=4\n",
    "res1=np.linspace(4.2, 3.6, num=178)\n",
    "for i in range(1,178):\n",
    " #   res0[i]=intens0(z[i],r,m,kk)\n",
    "        res1[i]=intens0(z[i],r,m,kk)\n",
    "plt.plot(res1)\n",
    "#plt.ylim(0,0.01)"
   ]
  },
  {
   "cell_type": "code",
   "execution_count": null,
   "metadata": {
    "collapsed": true
   },
   "outputs": [],
   "source": [
    "#Fit the Gaussian beam data\n",
    "#!/usr/bin/env python\n",
    "#<examples/doc_basic.py>\n",
    "from lmfit import minimize, Minimizer, Parameters, Parameter, report_fit\n",
    "import numpy as np\n",
    "m=3\n",
    "# create data to be fitted\n",
    "\n",
    "\n",
    "exp1 = np.fromfile(\"D:\\\\fits\\\\temperature\\\\250mK.dat\",dtype=float,count=-1, sep=\" \")\n",
    "exp1.shape\n",
    "exp1 = np.reshape(exp1, (-1,2))\n",
    "exp2 = exp1.transpose()\n",
    "\n",
    "\n",
    "x=(exp2[0,1:179])\n",
    "data=exp2[1,1:179]\n",
    "z=np.linspace(3.6, 4.2, num=178)\n",
    "res4=np.linspace(4.2, 3.6, num=178)\n",
    "\n",
    "def fcn2min(params, x, data):\n",
    "    r = params['r']\n",
    "    kk = params['kk']\n",
    "    for i in range(1,150):\n",
    "        #res2[i]=intens2(x[i],r,m,kk)/intens2in(0.00001,m,kk)\n",
    "        res0[i]=intens0(x[i],r,m,kk)\n",
    "    return res2 - data\n",
    "\n",
    "# create a set of Parameters\n",
    "    params = Parameters()\n",
    "    params.add('r',   value= 0.9, min=0.7, max=0.99)\n",
    "#params.add('kk', value= 0.5, min=0.0001, max=1 )\n",
    "    \n",
    "   \n",
    "\n",
    "# do fit, here with leastsq model\n",
    "    minner = Minimizer(fcn2min, params, fcn_args=(x, data))\n",
    "    kws  = {'options': {'maxiter':100}}\n",
    "    result = minner.minimize()\n",
    "    result.params\n",
    "\n",
    "# calculate final result\n",
    "    final = data + result.residual\n",
    "    \n",
    "# write error report\n",
    "    report_fit(result)\n",
    "     \n",
    "# try to plot results\n",
    "    plt.plot(z, data, 'o')\n",
    "    plt.plot(z, final, 'r')\n",
    "\n",
    "    params2=result.params\n",
    "    v = params2.valuesdict()\n",
    "    print ('r=', v['r'])\n",
    "    \n",
    "    #plt.ylim(9,10)\n",
    "    #params2=result.params\n",
    "    #v = params2.valuesdict()\n",
    "    #a[1,i]=v['b']\n",
    "#plt.savefig('D:\\\\sl2.pdf', format='pdf')"
   ]
  },
  {
   "cell_type": "code",
   "execution_count": null,
   "metadata": {
    "collapsed": true
   },
   "outputs": [],
   "source": [
    "##Fit the plane wave data\n",
    "\n",
    "import scipy\n",
    "import numpy\n",
    "import matplotlib\n",
    "import numpy as np\n",
    "import os\n",
    "import matplotlib.cm as cm\n",
    "import matplotlib.mlab as mlab\n",
    "import matplotlib.pyplot as plt\n",
    "get_ipython().magic(u'matplotlib inline')\n",
    "\n",
    "from scipy import interpolate\n",
    "\n",
    "from __future__ import division\n",
    "\n",
    "mstar=0.067*9.1094E-31\n",
    "e=1.6E-19\n",
    "vF=2.41E5\n",
    "w0=250E-9\n",
    "L=2.3E-6\n",
    "R=750E-9\n",
    "w=185E-9\n",
    "lambdaF=45E-9\n",
    "\n",
    "vFSR=vF/(2*L)\n",
    "zr=np.pi*w0*w0/lambdaF\n",
    "wL=w0*np.sqrt(1+(L/zr)**2)\n",
    "\n",
    "Imax=8.15E-10\n",
    "Imin=9.84E-12\n",
    "\n",
    "#def L(vL):\n",
    " #   return 2.3E-6-10*lambdaF*vL\n",
    "\n",
    "\n",
    "expa1 = np.fromfile(\"D:\\\\fits\\\\1Q2_2Q2_Oscillations.dat\",dtype=float,count=-1, sep=\" \")\n",
    "\n",
    "expa1 = np.reshape(expa1, (-1,2))\n",
    "expa2 = expa1.transpose()\n",
    "\n",
    "#exp2.ndim\n",
    " \n",
    "\n",
    "    \n",
    "from lmfit import minimize, Minimizer, Parameters, Parameter, report_fit\n",
    "import numpy as np\n",
    "\n",
    "for i in range(1,2):\n",
    "    x=expa2[0,1:-1]\n",
    "    data=expa2[1,1:-1]\n",
    "    def fcn2min(params, x, data):\n",
    "         #model, subtract data\n",
    "        F = params['F']\n",
    "        n = params['n']\n",
    "        Imax = params['Imax']\n",
    "        #L = params['L']\n",
    "        f1 = Imax/(1+F*(np.sin((2*np.pi*(2.3E-6-n*lambdaF*x))/lambdaF))**2)\n",
    "        model=f1\n",
    "        return model - data\n",
    "\n",
    "    params = Parameters()\n",
    "    params.add('F', value=5, min=0.1, max=10)\n",
    "    params.add('Imax', value= 1E-10 , min=1E-11 , max=1E-9)\n",
    "    params.add('n', value=3.8,  min=2, max=10)\n",
    "    #params.add('L', value= 2E-6, min=1.5E-6, max=2.3E-6)\n",
    "\n",
    "    minner = Minimizer(fcn2min, params, fcn_args=(x, data))\n",
    "    kws  = {'options': {'maxiter':1000}}\n",
    "    result = minner.minimize()\n",
    "    result.params\n",
    "\n",
    "    final = data + result.residual\n",
    "    \n",
    "    report_fit(result)\n",
    "\n",
    "    plt.plot(x, data, 'o')\n",
    "    plt.plot(x, final, 'r')\n",
    "\n",
    "    params2=result.params\n",
    "    v = params2.valuesdict()"
   ]
  },
  {
   "cell_type": "code",
   "execution_count": null,
   "metadata": {
    "collapsed": true
   },
   "outputs": [],
   "source": []
  }
 ],
 "metadata": {
  "anaconda-cloud": {},
  "kernelspec": {
   "display_name": "Python 2",
   "language": "python",
   "name": "python2"
  },
  "language_info": {
   "codemirror_mode": {
    "name": "ipython",
    "version": 2
   },
   "file_extension": ".py",
   "mimetype": "text/x-python",
   "name": "python",
   "nbconvert_exporter": "python",
   "pygments_lexer": "ipython2",
   "version": "2.7.13"
  }
 },
 "nbformat": 4,
 "nbformat_minor": 1
}
